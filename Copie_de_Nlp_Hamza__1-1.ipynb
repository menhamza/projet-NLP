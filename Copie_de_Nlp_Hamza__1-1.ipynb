{
  "cells": [
    {
      "cell_type": "markdown",
      "metadata": {
        "id": "NoB57aB6ejbo"
      },
      "source": [
        "### Import necessary libraries for the experiment"
      ]
    },
    {
      "cell_type": "code",
      "execution_count": 108,
      "metadata": {
        "colab": {
          "base_uri": "https://localhost:8080/"
        },
        "id": "BXuDj-0Vejbp",
        "outputId": "9a89bfc0-6c6e-46e0-b217-e0ab51f83091"
      },
      "outputs": [
        {
          "output_type": "stream",
          "name": "stderr",
          "text": [
            "<ipython-input-108-ee559459b624>:34: MatplotlibDeprecationWarning:\n",
            "\n",
            "The seaborn styles shipped by Matplotlib are deprecated since 3.6, as they no longer correspond to the styles shipped by seaborn. However, they will remain available as 'seaborn-v0_8-<style>'. Alternatively, directly use the seaborn API instead.\n",
            "\n"
          ]
        },
        {
          "output_type": "stream",
          "name": "stdout",
          "text": [
            "Reading package lists... Done\n",
            "Building dependency tree       \n",
            "Reading state information... Done\n",
            "graphviz is already the newest version (2.42.2-3build2).\n",
            "0 upgraded, 0 newly installed, 0 to remove and 24 not upgraded.\n",
            "Looking in indexes: https://pypi.org/simple, https://us-python.pkg.dev/colab-wheels/public/simple/\n",
            "Requirement already satisfied: pydot in /usr/local/lib/python3.10/dist-packages (1.4.2)\n",
            "Requirement already satisfied: pydot-ng in /usr/local/lib/python3.10/dist-packages (2.0.0)\n",
            "Requirement already satisfied: pyparsing>=2.1.4 in /usr/local/lib/python3.10/dist-packages (from pydot) (3.0.9)\n",
            "Double check with Python 3\n"
          ]
        }
      ],
      "source": [
        "# importing libraries\n",
        "import tensorflow as tf\n",
        "from keras import initializers, regularizers, constraints, optimizers, layers, callbacks\n",
        "from keras.callbacks import EarlyStopping,ModelCheckpoint\n",
        "from keras.preprocessing.text import Tokenizer\n",
        "from keras.utils import pad_sequences\n",
        "\n",
        "\n",
        "\n",
        "from keras.preprocessing import text, sequence\n",
        "from keras import initializers, regularizers, constraints, optimizers, layers\n",
        "from tensorflow.keras.layers import Input\n",
        "from keras.layers import Dense, Input, LSTM, SimpleRNN, Embedding, Dropout, SpatialDropout1D, Activation, Conv1D,GRU\n",
        "from keras.layers import Conv1D, Bidirectional, GlobalMaxPool1D, MaxPooling1D, BatchNormalization, Add, Flatten\n",
        "from keras.layers import GlobalMaxPooling1D, GlobalAveragePooling1D, concatenate, SpatialDropout1D\n",
        "from keras.optimizers import Adam\n",
        "from keras.utils.vis_utils import plot_model\n",
        "from sklearn.model_selection  import train_test_split\n",
        "#from sklearn.cross_validation import train_test_split\n",
        "\n",
        "\n",
        "# For custom metrics\n",
        "import keras.backend as K\n",
        "from keras.utils.vis_utils import plot_model\n",
        "from keras.callbacks import EarlyStopping \n",
        "import plotly.graph_objs as go\n",
        "import plotly.offline as py\n",
        "\n",
        "import pandas as pd\n",
        "import numpy as np\n",
        " \n",
        "import matplotlib.pyplot as plt\n",
        "\n",
        "plt.style.use('seaborn')\n",
        "\n",
        "import seaborn as sns\n",
        "from IPython.display import Image\n",
        "\n",
        "from tqdm import tqdm\n",
        "from nltk.corpus import stopwords\n",
        "from nltk.tokenize import RegexpTokenizer \n",
        "import os, re, csv, math, codecs\n",
        "from nltk.tokenize import word_tokenize\n",
        "import string\n",
        "import gensim\n",
        "import os\n",
        "import re\n",
        "\n",
        "sns.set_style(\"whitegrid\")\n",
        "np.random.seed(0)\n",
        "\n",
        "\n",
        "import plotly.graph_objs as go\n",
        "import plotly\n",
        "\n",
        "\n",
        "\n",
        "# Install dependencies\n",
        "!apt install graphviz\n",
        "!pip install pydot pydot-ng\n",
        "!echo \"Double check with Python 3\"\n",
        "!python -c \"import pydot\""
      ]
    },
    {
      "cell_type": "markdown",
      "metadata": {
        "id": "Wbd_vQHxejbu"
      },
      "source": [
        "### Loading the necessary data files and data Preparation"
      ]
    },
    {
      "cell_type": "code",
      "execution_count": 32,
      "metadata": {
        "colab": {
          "base_uri": "https://localhost:8080/",
          "height": 398
        },
        "id": "6mdP52kqu-Kt",
        "outputId": "ea0ed3fb-4870-4086-8800-834c8efe91c8"
      },
      "outputs": [
        {
          "output_type": "stream",
          "name": "stderr",
          "text": [
            "<ipython-input-32-e8e59106eea7>:2: DtypeWarning: Columns (2,3,4,5,6,7) have mixed types. Specify dtype option on import or set low_memory=False.\n",
            "  train = pd.read_csv('train.csv',encoding='utf-8',on_bad_lines='skip')\n"
          ]
        },
        {
          "output_type": "execute_result",
          "data": {
            "text/plain": [
              "                 id                                       comment_text toxic  \\\n",
              "0  0000997932d777bf  Explanation\\nWhy the edits made under my usern...     0   \n",
              "1  000103f0d9cfb60f  D'aww! He matches this background colour I'm s...     0   \n",
              "2  000113f07ec002fd  Hey man, I'm really not trying to edit war. It...     0   \n",
              "3  0001b41b1c6bb37e  \"\\nMore\\nI can't make any real suggestions on ...     0   \n",
              "4  0001d958c54c6e35  You, sir, are my hero. Any chance you remember...     0   \n",
              "5  00025465d4725e87  \"\\n\\nCongratulations from me as well, use the ...     0   \n",
              "6  0002bcb3da6cb337       COCKSUCKER BEFORE YOU PISS AROUND ON MY WORK     1   \n",
              "7  00031b1e95af7921  Your vandalism to the Matt Shirvington article...     0   \n",
              "8  00037261f536c51d  Sorry if the word 'nonsense' was offensive to ...     0   \n",
              "9  00040093b2687caa  alignment on this subject and which are contra...     0   \n",
              "\n",
              "  severe_toxic obscene threat insult identity_hate  \n",
              "0            0       0      0      0             0  \n",
              "1            0       0      0      0             0  \n",
              "2            0       0      0      0             0  \n",
              "3            0       0      0      0             0  \n",
              "4            0       0      0      0             0  \n",
              "5            0       0      0      0             0  \n",
              "6            1       1      0      1             0  \n",
              "7            0       0      0      0             0  \n",
              "8            0       0      0      0             0  \n",
              "9            0       0      0      0             0  "
            ],
            "text/html": [
              "\n",
              "  <div id=\"df-1cbd3536-f620-422d-af21-4f34c430205f\">\n",
              "    <div class=\"colab-df-container\">\n",
              "      <div>\n",
              "<style scoped>\n",
              "    .dataframe tbody tr th:only-of-type {\n",
              "        vertical-align: middle;\n",
              "    }\n",
              "\n",
              "    .dataframe tbody tr th {\n",
              "        vertical-align: top;\n",
              "    }\n",
              "\n",
              "    .dataframe thead th {\n",
              "        text-align: right;\n",
              "    }\n",
              "</style>\n",
              "<table border=\"1\" class=\"dataframe\">\n",
              "  <thead>\n",
              "    <tr style=\"text-align: right;\">\n",
              "      <th></th>\n",
              "      <th>id</th>\n",
              "      <th>comment_text</th>\n",
              "      <th>toxic</th>\n",
              "      <th>severe_toxic</th>\n",
              "      <th>obscene</th>\n",
              "      <th>threat</th>\n",
              "      <th>insult</th>\n",
              "      <th>identity_hate</th>\n",
              "    </tr>\n",
              "  </thead>\n",
              "  <tbody>\n",
              "    <tr>\n",
              "      <th>0</th>\n",
              "      <td>0000997932d777bf</td>\n",
              "      <td>Explanation\\nWhy the edits made under my usern...</td>\n",
              "      <td>0</td>\n",
              "      <td>0</td>\n",
              "      <td>0</td>\n",
              "      <td>0</td>\n",
              "      <td>0</td>\n",
              "      <td>0</td>\n",
              "    </tr>\n",
              "    <tr>\n",
              "      <th>1</th>\n",
              "      <td>000103f0d9cfb60f</td>\n",
              "      <td>D'aww! He matches this background colour I'm s...</td>\n",
              "      <td>0</td>\n",
              "      <td>0</td>\n",
              "      <td>0</td>\n",
              "      <td>0</td>\n",
              "      <td>0</td>\n",
              "      <td>0</td>\n",
              "    </tr>\n",
              "    <tr>\n",
              "      <th>2</th>\n",
              "      <td>000113f07ec002fd</td>\n",
              "      <td>Hey man, I'm really not trying to edit war. It...</td>\n",
              "      <td>0</td>\n",
              "      <td>0</td>\n",
              "      <td>0</td>\n",
              "      <td>0</td>\n",
              "      <td>0</td>\n",
              "      <td>0</td>\n",
              "    </tr>\n",
              "    <tr>\n",
              "      <th>3</th>\n",
              "      <td>0001b41b1c6bb37e</td>\n",
              "      <td>\"\\nMore\\nI can't make any real suggestions on ...</td>\n",
              "      <td>0</td>\n",
              "      <td>0</td>\n",
              "      <td>0</td>\n",
              "      <td>0</td>\n",
              "      <td>0</td>\n",
              "      <td>0</td>\n",
              "    </tr>\n",
              "    <tr>\n",
              "      <th>4</th>\n",
              "      <td>0001d958c54c6e35</td>\n",
              "      <td>You, sir, are my hero. Any chance you remember...</td>\n",
              "      <td>0</td>\n",
              "      <td>0</td>\n",
              "      <td>0</td>\n",
              "      <td>0</td>\n",
              "      <td>0</td>\n",
              "      <td>0</td>\n",
              "    </tr>\n",
              "    <tr>\n",
              "      <th>5</th>\n",
              "      <td>00025465d4725e87</td>\n",
              "      <td>\"\\n\\nCongratulations from me as well, use the ...</td>\n",
              "      <td>0</td>\n",
              "      <td>0</td>\n",
              "      <td>0</td>\n",
              "      <td>0</td>\n",
              "      <td>0</td>\n",
              "      <td>0</td>\n",
              "    </tr>\n",
              "    <tr>\n",
              "      <th>6</th>\n",
              "      <td>0002bcb3da6cb337</td>\n",
              "      <td>COCKSUCKER BEFORE YOU PISS AROUND ON MY WORK</td>\n",
              "      <td>1</td>\n",
              "      <td>1</td>\n",
              "      <td>1</td>\n",
              "      <td>0</td>\n",
              "      <td>1</td>\n",
              "      <td>0</td>\n",
              "    </tr>\n",
              "    <tr>\n",
              "      <th>7</th>\n",
              "      <td>00031b1e95af7921</td>\n",
              "      <td>Your vandalism to the Matt Shirvington article...</td>\n",
              "      <td>0</td>\n",
              "      <td>0</td>\n",
              "      <td>0</td>\n",
              "      <td>0</td>\n",
              "      <td>0</td>\n",
              "      <td>0</td>\n",
              "    </tr>\n",
              "    <tr>\n",
              "      <th>8</th>\n",
              "      <td>00037261f536c51d</td>\n",
              "      <td>Sorry if the word 'nonsense' was offensive to ...</td>\n",
              "      <td>0</td>\n",
              "      <td>0</td>\n",
              "      <td>0</td>\n",
              "      <td>0</td>\n",
              "      <td>0</td>\n",
              "      <td>0</td>\n",
              "    </tr>\n",
              "    <tr>\n",
              "      <th>9</th>\n",
              "      <td>00040093b2687caa</td>\n",
              "      <td>alignment on this subject and which are contra...</td>\n",
              "      <td>0</td>\n",
              "      <td>0</td>\n",
              "      <td>0</td>\n",
              "      <td>0</td>\n",
              "      <td>0</td>\n",
              "      <td>0</td>\n",
              "    </tr>\n",
              "  </tbody>\n",
              "</table>\n",
              "</div>\n",
              "      <button class=\"colab-df-convert\" onclick=\"convertToInteractive('df-1cbd3536-f620-422d-af21-4f34c430205f')\"\n",
              "              title=\"Convert this dataframe to an interactive table.\"\n",
              "              style=\"display:none;\">\n",
              "        \n",
              "  <svg xmlns=\"http://www.w3.org/2000/svg\" height=\"24px\"viewBox=\"0 0 24 24\"\n",
              "       width=\"24px\">\n",
              "    <path d=\"M0 0h24v24H0V0z\" fill=\"none\"/>\n",
              "    <path d=\"M18.56 5.44l.94 2.06.94-2.06 2.06-.94-2.06-.94-.94-2.06-.94 2.06-2.06.94zm-11 1L8.5 8.5l.94-2.06 2.06-.94-2.06-.94L8.5 2.5l-.94 2.06-2.06.94zm10 10l.94 2.06.94-2.06 2.06-.94-2.06-.94-.94-2.06-.94 2.06-2.06.94z\"/><path d=\"M17.41 7.96l-1.37-1.37c-.4-.4-.92-.59-1.43-.59-.52 0-1.04.2-1.43.59L10.3 9.45l-7.72 7.72c-.78.78-.78 2.05 0 2.83L4 21.41c.39.39.9.59 1.41.59.51 0 1.02-.2 1.41-.59l7.78-7.78 2.81-2.81c.8-.78.8-2.07 0-2.86zM5.41 20L4 18.59l7.72-7.72 1.47 1.35L5.41 20z\"/>\n",
              "  </svg>\n",
              "      </button>\n",
              "      \n",
              "  <style>\n",
              "    .colab-df-container {\n",
              "      display:flex;\n",
              "      flex-wrap:wrap;\n",
              "      gap: 12px;\n",
              "    }\n",
              "\n",
              "    .colab-df-convert {\n",
              "      background-color: #E8F0FE;\n",
              "      border: none;\n",
              "      border-radius: 50%;\n",
              "      cursor: pointer;\n",
              "      display: none;\n",
              "      fill: #1967D2;\n",
              "      height: 32px;\n",
              "      padding: 0 0 0 0;\n",
              "      width: 32px;\n",
              "    }\n",
              "\n",
              "    .colab-df-convert:hover {\n",
              "      background-color: #E2EBFA;\n",
              "      box-shadow: 0px 1px 2px rgba(60, 64, 67, 0.3), 0px 1px 3px 1px rgba(60, 64, 67, 0.15);\n",
              "      fill: #174EA6;\n",
              "    }\n",
              "\n",
              "    [theme=dark] .colab-df-convert {\n",
              "      background-color: #3B4455;\n",
              "      fill: #D2E3FC;\n",
              "    }\n",
              "\n",
              "    [theme=dark] .colab-df-convert:hover {\n",
              "      background-color: #434B5C;\n",
              "      box-shadow: 0px 1px 3px 1px rgba(0, 0, 0, 0.15);\n",
              "      filter: drop-shadow(0px 1px 2px rgba(0, 0, 0, 0.3));\n",
              "      fill: #FFFFFF;\n",
              "    }\n",
              "  </style>\n",
              "\n",
              "      <script>\n",
              "        const buttonEl =\n",
              "          document.querySelector('#df-1cbd3536-f620-422d-af21-4f34c430205f button.colab-df-convert');\n",
              "        buttonEl.style.display =\n",
              "          google.colab.kernel.accessAllowed ? 'block' : 'none';\n",
              "\n",
              "        async function convertToInteractive(key) {\n",
              "          const element = document.querySelector('#df-1cbd3536-f620-422d-af21-4f34c430205f');\n",
              "          const dataTable =\n",
              "            await google.colab.kernel.invokeFunction('convertToInteractive',\n",
              "                                                     [key], {});\n",
              "          if (!dataTable) return;\n",
              "\n",
              "          const docLinkHtml = 'Like what you see? Visit the ' +\n",
              "            '<a target=\"_blank\" href=https://colab.research.google.com/notebooks/data_table.ipynb>data table notebook</a>'\n",
              "            + ' to learn more about interactive tables.';\n",
              "          element.innerHTML = '';\n",
              "          dataTable['output_type'] = 'display_data';\n",
              "          await google.colab.output.renderOutput(dataTable, element);\n",
              "          const docLink = document.createElement('div');\n",
              "          docLink.innerHTML = docLinkHtml;\n",
              "          element.appendChild(docLink);\n",
              "        }\n",
              "      </script>\n",
              "    </div>\n",
              "  </div>\n",
              "  "
            ]
          },
          "metadata": {},
          "execution_count": 32
        }
      ],
      "source": [
        "# Train Data\n",
        "train = pd.read_csv('train.csv',encoding='utf-8',on_bad_lines='skip')\n",
        "train=train[['id','comment_text','toxic','severe_toxic','obscene','threat','insult','identity_hate']]\n",
        "train.head(10)"
      ]
    },
    {
      "cell_type": "code",
      "execution_count": 33,
      "metadata": {
        "id": "RVsuytZbDS8o",
        "colab": {
          "base_uri": "https://localhost:8080/",
          "height": 175
        },
        "outputId": "a720efc2-f794-4980-a03e-f274998f5c32"
      },
      "outputs": [
        {
          "output_type": "execute_result",
          "data": {
            "text/plain": [
              "                      id comment_text   toxic severe_toxic obscene  threat  \\\n",
              "count             159571       159571  159571       159571  159571  159571   \n",
              "unique            159571       159562       6            5       6       5   \n",
              "top     0000997932d777bf       #NAME?       0            0       0       0   \n",
              "freq                   1           10  118487       129750  124115  130676   \n",
              "\n",
              "        insult identity_hate  \n",
              "count   159571        159571  \n",
              "unique       5             6  \n",
              "top          0             0  \n",
              "freq    124604        129936  "
            ],
            "text/html": [
              "\n",
              "  <div id=\"df-96cf3abd-a293-4e2b-8c60-8a03b06f92c5\">\n",
              "    <div class=\"colab-df-container\">\n",
              "      <div>\n",
              "<style scoped>\n",
              "    .dataframe tbody tr th:only-of-type {\n",
              "        vertical-align: middle;\n",
              "    }\n",
              "\n",
              "    .dataframe tbody tr th {\n",
              "        vertical-align: top;\n",
              "    }\n",
              "\n",
              "    .dataframe thead th {\n",
              "        text-align: right;\n",
              "    }\n",
              "</style>\n",
              "<table border=\"1\" class=\"dataframe\">\n",
              "  <thead>\n",
              "    <tr style=\"text-align: right;\">\n",
              "      <th></th>\n",
              "      <th>id</th>\n",
              "      <th>comment_text</th>\n",
              "      <th>toxic</th>\n",
              "      <th>severe_toxic</th>\n",
              "      <th>obscene</th>\n",
              "      <th>threat</th>\n",
              "      <th>insult</th>\n",
              "      <th>identity_hate</th>\n",
              "    </tr>\n",
              "  </thead>\n",
              "  <tbody>\n",
              "    <tr>\n",
              "      <th>count</th>\n",
              "      <td>159571</td>\n",
              "      <td>159571</td>\n",
              "      <td>159571</td>\n",
              "      <td>159571</td>\n",
              "      <td>159571</td>\n",
              "      <td>159571</td>\n",
              "      <td>159571</td>\n",
              "      <td>159571</td>\n",
              "    </tr>\n",
              "    <tr>\n",
              "      <th>unique</th>\n",
              "      <td>159571</td>\n",
              "      <td>159562</td>\n",
              "      <td>6</td>\n",
              "      <td>5</td>\n",
              "      <td>6</td>\n",
              "      <td>5</td>\n",
              "      <td>5</td>\n",
              "      <td>6</td>\n",
              "    </tr>\n",
              "    <tr>\n",
              "      <th>top</th>\n",
              "      <td>0000997932d777bf</td>\n",
              "      <td>#NAME?</td>\n",
              "      <td>0</td>\n",
              "      <td>0</td>\n",
              "      <td>0</td>\n",
              "      <td>0</td>\n",
              "      <td>0</td>\n",
              "      <td>0</td>\n",
              "    </tr>\n",
              "    <tr>\n",
              "      <th>freq</th>\n",
              "      <td>1</td>\n",
              "      <td>10</td>\n",
              "      <td>118487</td>\n",
              "      <td>129750</td>\n",
              "      <td>124115</td>\n",
              "      <td>130676</td>\n",
              "      <td>124604</td>\n",
              "      <td>129936</td>\n",
              "    </tr>\n",
              "  </tbody>\n",
              "</table>\n",
              "</div>\n",
              "      <button class=\"colab-df-convert\" onclick=\"convertToInteractive('df-96cf3abd-a293-4e2b-8c60-8a03b06f92c5')\"\n",
              "              title=\"Convert this dataframe to an interactive table.\"\n",
              "              style=\"display:none;\">\n",
              "        \n",
              "  <svg xmlns=\"http://www.w3.org/2000/svg\" height=\"24px\"viewBox=\"0 0 24 24\"\n",
              "       width=\"24px\">\n",
              "    <path d=\"M0 0h24v24H0V0z\" fill=\"none\"/>\n",
              "    <path d=\"M18.56 5.44l.94 2.06.94-2.06 2.06-.94-2.06-.94-.94-2.06-.94 2.06-2.06.94zm-11 1L8.5 8.5l.94-2.06 2.06-.94-2.06-.94L8.5 2.5l-.94 2.06-2.06.94zm10 10l.94 2.06.94-2.06 2.06-.94-2.06-.94-.94-2.06-.94 2.06-2.06.94z\"/><path d=\"M17.41 7.96l-1.37-1.37c-.4-.4-.92-.59-1.43-.59-.52 0-1.04.2-1.43.59L10.3 9.45l-7.72 7.72c-.78.78-.78 2.05 0 2.83L4 21.41c.39.39.9.59 1.41.59.51 0 1.02-.2 1.41-.59l7.78-7.78 2.81-2.81c.8-.78.8-2.07 0-2.86zM5.41 20L4 18.59l7.72-7.72 1.47 1.35L5.41 20z\"/>\n",
              "  </svg>\n",
              "      </button>\n",
              "      \n",
              "  <style>\n",
              "    .colab-df-container {\n",
              "      display:flex;\n",
              "      flex-wrap:wrap;\n",
              "      gap: 12px;\n",
              "    }\n",
              "\n",
              "    .colab-df-convert {\n",
              "      background-color: #E8F0FE;\n",
              "      border: none;\n",
              "      border-radius: 50%;\n",
              "      cursor: pointer;\n",
              "      display: none;\n",
              "      fill: #1967D2;\n",
              "      height: 32px;\n",
              "      padding: 0 0 0 0;\n",
              "      width: 32px;\n",
              "    }\n",
              "\n",
              "    .colab-df-convert:hover {\n",
              "      background-color: #E2EBFA;\n",
              "      box-shadow: 0px 1px 2px rgba(60, 64, 67, 0.3), 0px 1px 3px 1px rgba(60, 64, 67, 0.15);\n",
              "      fill: #174EA6;\n",
              "    }\n",
              "\n",
              "    [theme=dark] .colab-df-convert {\n",
              "      background-color: #3B4455;\n",
              "      fill: #D2E3FC;\n",
              "    }\n",
              "\n",
              "    [theme=dark] .colab-df-convert:hover {\n",
              "      background-color: #434B5C;\n",
              "      box-shadow: 0px 1px 3px 1px rgba(0, 0, 0, 0.15);\n",
              "      filter: drop-shadow(0px 1px 2px rgba(0, 0, 0, 0.3));\n",
              "      fill: #FFFFFF;\n",
              "    }\n",
              "  </style>\n",
              "\n",
              "      <script>\n",
              "        const buttonEl =\n",
              "          document.querySelector('#df-96cf3abd-a293-4e2b-8c60-8a03b06f92c5 button.colab-df-convert');\n",
              "        buttonEl.style.display =\n",
              "          google.colab.kernel.accessAllowed ? 'block' : 'none';\n",
              "\n",
              "        async function convertToInteractive(key) {\n",
              "          const element = document.querySelector('#df-96cf3abd-a293-4e2b-8c60-8a03b06f92c5');\n",
              "          const dataTable =\n",
              "            await google.colab.kernel.invokeFunction('convertToInteractive',\n",
              "                                                     [key], {});\n",
              "          if (!dataTable) return;\n",
              "\n",
              "          const docLinkHtml = 'Like what you see? Visit the ' +\n",
              "            '<a target=\"_blank\" href=https://colab.research.google.com/notebooks/data_table.ipynb>data table notebook</a>'\n",
              "            + ' to learn more about interactive tables.';\n",
              "          element.innerHTML = '';\n",
              "          dataTable['output_type'] = 'display_data';\n",
              "          await google.colab.output.renderOutput(dataTable, element);\n",
              "          const docLink = document.createElement('div');\n",
              "          docLink.innerHTML = docLinkHtml;\n",
              "          element.appendChild(docLink);\n",
              "        }\n",
              "      </script>\n",
              "    </div>\n",
              "  </div>\n",
              "  "
            ]
          },
          "metadata": {},
          "execution_count": 33
        }
      ],
      "source": [
        "train.describe()\n"
      ]
    },
    {
      "cell_type": "code",
      "execution_count": 34,
      "metadata": {
        "colab": {
          "base_uri": "https://localhost:8080/",
          "height": 175
        },
        "id": "xAZHAPPrDS8w",
        "outputId": "e0e4c10e-0177-4dac-e9fb-68d3200d1d70"
      },
      "outputs": [
        {
          "output_type": "execute_result",
          "data": {
            "text/plain": [
              "                      id comment_text   toxic severe_toxic obscene  threat  \\\n",
              "count             159571       159571  159571       159571  159571  159571   \n",
              "unique            159571       159562       6            5       6       5   \n",
              "top     0000997932d777bf       #NAME?       0            0       0       0   \n",
              "freq                   1           10  118487       129750  124115  130676   \n",
              "\n",
              "        insult identity_hate  \n",
              "count   159571        159571  \n",
              "unique       5             6  \n",
              "top          0             0  \n",
              "freq    124604        129936  "
            ],
            "text/html": [
              "\n",
              "  <div id=\"df-fd297515-d9a0-463f-922d-930f216e5c5a\">\n",
              "    <div class=\"colab-df-container\">\n",
              "      <div>\n",
              "<style scoped>\n",
              "    .dataframe tbody tr th:only-of-type {\n",
              "        vertical-align: middle;\n",
              "    }\n",
              "\n",
              "    .dataframe tbody tr th {\n",
              "        vertical-align: top;\n",
              "    }\n",
              "\n",
              "    .dataframe thead th {\n",
              "        text-align: right;\n",
              "    }\n",
              "</style>\n",
              "<table border=\"1\" class=\"dataframe\">\n",
              "  <thead>\n",
              "    <tr style=\"text-align: right;\">\n",
              "      <th></th>\n",
              "      <th>id</th>\n",
              "      <th>comment_text</th>\n",
              "      <th>toxic</th>\n",
              "      <th>severe_toxic</th>\n",
              "      <th>obscene</th>\n",
              "      <th>threat</th>\n",
              "      <th>insult</th>\n",
              "      <th>identity_hate</th>\n",
              "    </tr>\n",
              "  </thead>\n",
              "  <tbody>\n",
              "    <tr>\n",
              "      <th>count</th>\n",
              "      <td>159571</td>\n",
              "      <td>159571</td>\n",
              "      <td>159571</td>\n",
              "      <td>159571</td>\n",
              "      <td>159571</td>\n",
              "      <td>159571</td>\n",
              "      <td>159571</td>\n",
              "      <td>159571</td>\n",
              "    </tr>\n",
              "    <tr>\n",
              "      <th>unique</th>\n",
              "      <td>159571</td>\n",
              "      <td>159562</td>\n",
              "      <td>6</td>\n",
              "      <td>5</td>\n",
              "      <td>6</td>\n",
              "      <td>5</td>\n",
              "      <td>5</td>\n",
              "      <td>6</td>\n",
              "    </tr>\n",
              "    <tr>\n",
              "      <th>top</th>\n",
              "      <td>0000997932d777bf</td>\n",
              "      <td>#NAME?</td>\n",
              "      <td>0</td>\n",
              "      <td>0</td>\n",
              "      <td>0</td>\n",
              "      <td>0</td>\n",
              "      <td>0</td>\n",
              "      <td>0</td>\n",
              "    </tr>\n",
              "    <tr>\n",
              "      <th>freq</th>\n",
              "      <td>1</td>\n",
              "      <td>10</td>\n",
              "      <td>118487</td>\n",
              "      <td>129750</td>\n",
              "      <td>124115</td>\n",
              "      <td>130676</td>\n",
              "      <td>124604</td>\n",
              "      <td>129936</td>\n",
              "    </tr>\n",
              "  </tbody>\n",
              "</table>\n",
              "</div>\n",
              "      <button class=\"colab-df-convert\" onclick=\"convertToInteractive('df-fd297515-d9a0-463f-922d-930f216e5c5a')\"\n",
              "              title=\"Convert this dataframe to an interactive table.\"\n",
              "              style=\"display:none;\">\n",
              "        \n",
              "  <svg xmlns=\"http://www.w3.org/2000/svg\" height=\"24px\"viewBox=\"0 0 24 24\"\n",
              "       width=\"24px\">\n",
              "    <path d=\"M0 0h24v24H0V0z\" fill=\"none\"/>\n",
              "    <path d=\"M18.56 5.44l.94 2.06.94-2.06 2.06-.94-2.06-.94-.94-2.06-.94 2.06-2.06.94zm-11 1L8.5 8.5l.94-2.06 2.06-.94-2.06-.94L8.5 2.5l-.94 2.06-2.06.94zm10 10l.94 2.06.94-2.06 2.06-.94-2.06-.94-.94-2.06-.94 2.06-2.06.94z\"/><path d=\"M17.41 7.96l-1.37-1.37c-.4-.4-.92-.59-1.43-.59-.52 0-1.04.2-1.43.59L10.3 9.45l-7.72 7.72c-.78.78-.78 2.05 0 2.83L4 21.41c.39.39.9.59 1.41.59.51 0 1.02-.2 1.41-.59l7.78-7.78 2.81-2.81c.8-.78.8-2.07 0-2.86zM5.41 20L4 18.59l7.72-7.72 1.47 1.35L5.41 20z\"/>\n",
              "  </svg>\n",
              "      </button>\n",
              "      \n",
              "  <style>\n",
              "    .colab-df-container {\n",
              "      display:flex;\n",
              "      flex-wrap:wrap;\n",
              "      gap: 12px;\n",
              "    }\n",
              "\n",
              "    .colab-df-convert {\n",
              "      background-color: #E8F0FE;\n",
              "      border: none;\n",
              "      border-radius: 50%;\n",
              "      cursor: pointer;\n",
              "      display: none;\n",
              "      fill: #1967D2;\n",
              "      height: 32px;\n",
              "      padding: 0 0 0 0;\n",
              "      width: 32px;\n",
              "    }\n",
              "\n",
              "    .colab-df-convert:hover {\n",
              "      background-color: #E2EBFA;\n",
              "      box-shadow: 0px 1px 2px rgba(60, 64, 67, 0.3), 0px 1px 3px 1px rgba(60, 64, 67, 0.15);\n",
              "      fill: #174EA6;\n",
              "    }\n",
              "\n",
              "    [theme=dark] .colab-df-convert {\n",
              "      background-color: #3B4455;\n",
              "      fill: #D2E3FC;\n",
              "    }\n",
              "\n",
              "    [theme=dark] .colab-df-convert:hover {\n",
              "      background-color: #434B5C;\n",
              "      box-shadow: 0px 1px 3px 1px rgba(0, 0, 0, 0.15);\n",
              "      filter: drop-shadow(0px 1px 2px rgba(0, 0, 0, 0.3));\n",
              "      fill: #FFFFFF;\n",
              "    }\n",
              "  </style>\n",
              "\n",
              "      <script>\n",
              "        const buttonEl =\n",
              "          document.querySelector('#df-fd297515-d9a0-463f-922d-930f216e5c5a button.colab-df-convert');\n",
              "        buttonEl.style.display =\n",
              "          google.colab.kernel.accessAllowed ? 'block' : 'none';\n",
              "\n",
              "        async function convertToInteractive(key) {\n",
              "          const element = document.querySelector('#df-fd297515-d9a0-463f-922d-930f216e5c5a');\n",
              "          const dataTable =\n",
              "            await google.colab.kernel.invokeFunction('convertToInteractive',\n",
              "                                                     [key], {});\n",
              "          if (!dataTable) return;\n",
              "\n",
              "          const docLinkHtml = 'Like what you see? Visit the ' +\n",
              "            '<a target=\"_blank\" href=https://colab.research.google.com/notebooks/data_table.ipynb>data table notebook</a>'\n",
              "            + ' to learn more about interactive tables.';\n",
              "          element.innerHTML = '';\n",
              "          dataTable['output_type'] = 'display_data';\n",
              "          await google.colab.output.renderOutput(dataTable, element);\n",
              "          const docLink = document.createElement('div');\n",
              "          docLink.innerHTML = docLinkHtml;\n",
              "          element.appendChild(docLink);\n",
              "        }\n",
              "      </script>\n",
              "    </div>\n",
              "  </div>\n",
              "  "
            ]
          },
          "metadata": {},
          "execution_count": 34
        }
      ],
      "source": [
        "train.describe()"
      ]
    },
    {
      "cell_type": "markdown",
      "metadata": {
        "id": "yemWuxUUwGbQ"
      },
      "source": [
        "### Clean the Train data, specifically remove punctuations"
      ]
    },
    {
      "cell_type": "code",
      "execution_count": 35,
      "metadata": {
        "colab": {
          "base_uri": "https://localhost:8080/",
          "height": 363
        },
        "id": "bXBAuHzkegFw",
        "outputId": "e8695e75-496a-462b-8348-81783b8e8919"
      },
      "outputs": [
        {
          "output_type": "execute_result",
          "data": {
            "text/plain": [
              "                 id                                       comment_text toxic  \\\n",
              "0  0000997932d777bf  Explanation\\nWhy the edits made under my usern...     0   \n",
              "1  000103f0d9cfb60f  Daww He matches this background colour Im seem...     0   \n",
              "2  000113f07ec002fd  Hey man Im really not trying to edit war Its j...     0   \n",
              "3  0001b41b1c6bb37e  \\nMore\\nI cant make any real suggestions on im...     0   \n",
              "4  0001d958c54c6e35  You sir are my hero Any chance you remember wh...     0   \n",
              "5  00025465d4725e87  \\n\\nCongratulations from me as well use the to...     0   \n",
              "6  0002bcb3da6cb337       COCKSUCKER BEFORE YOU PISS AROUND ON MY WORK     1   \n",
              "7  00031b1e95af7921  Your vandalism to the Matt Shirvington article...     0   \n",
              "8  00037261f536c51d  Sorry if the word nonsense was offensive to yo...     0   \n",
              "9  00040093b2687caa  alignment on this subject and which are contra...     0   \n",
              "\n",
              "  severe_toxic obscene threat insult identity_hate  \n",
              "0            0       0      0      0             0  \n",
              "1            0       0      0      0             0  \n",
              "2            0       0      0      0             0  \n",
              "3            0       0      0      0             0  \n",
              "4            0       0      0      0             0  \n",
              "5            0       0      0      0             0  \n",
              "6            1       1      0      1             0  \n",
              "7            0       0      0      0             0  \n",
              "8            0       0      0      0             0  \n",
              "9            0       0      0      0             0  "
            ],
            "text/html": [
              "\n",
              "  <div id=\"df-401f9e6d-5b9d-40c4-8cbf-be06a5ee69fe\">\n",
              "    <div class=\"colab-df-container\">\n",
              "      <div>\n",
              "<style scoped>\n",
              "    .dataframe tbody tr th:only-of-type {\n",
              "        vertical-align: middle;\n",
              "    }\n",
              "\n",
              "    .dataframe tbody tr th {\n",
              "        vertical-align: top;\n",
              "    }\n",
              "\n",
              "    .dataframe thead th {\n",
              "        text-align: right;\n",
              "    }\n",
              "</style>\n",
              "<table border=\"1\" class=\"dataframe\">\n",
              "  <thead>\n",
              "    <tr style=\"text-align: right;\">\n",
              "      <th></th>\n",
              "      <th>id</th>\n",
              "      <th>comment_text</th>\n",
              "      <th>toxic</th>\n",
              "      <th>severe_toxic</th>\n",
              "      <th>obscene</th>\n",
              "      <th>threat</th>\n",
              "      <th>insult</th>\n",
              "      <th>identity_hate</th>\n",
              "    </tr>\n",
              "  </thead>\n",
              "  <tbody>\n",
              "    <tr>\n",
              "      <th>0</th>\n",
              "      <td>0000997932d777bf</td>\n",
              "      <td>Explanation\\nWhy the edits made under my usern...</td>\n",
              "      <td>0</td>\n",
              "      <td>0</td>\n",
              "      <td>0</td>\n",
              "      <td>0</td>\n",
              "      <td>0</td>\n",
              "      <td>0</td>\n",
              "    </tr>\n",
              "    <tr>\n",
              "      <th>1</th>\n",
              "      <td>000103f0d9cfb60f</td>\n",
              "      <td>Daww He matches this background colour Im seem...</td>\n",
              "      <td>0</td>\n",
              "      <td>0</td>\n",
              "      <td>0</td>\n",
              "      <td>0</td>\n",
              "      <td>0</td>\n",
              "      <td>0</td>\n",
              "    </tr>\n",
              "    <tr>\n",
              "      <th>2</th>\n",
              "      <td>000113f07ec002fd</td>\n",
              "      <td>Hey man Im really not trying to edit war Its j...</td>\n",
              "      <td>0</td>\n",
              "      <td>0</td>\n",
              "      <td>0</td>\n",
              "      <td>0</td>\n",
              "      <td>0</td>\n",
              "      <td>0</td>\n",
              "    </tr>\n",
              "    <tr>\n",
              "      <th>3</th>\n",
              "      <td>0001b41b1c6bb37e</td>\n",
              "      <td>\\nMore\\nI cant make any real suggestions on im...</td>\n",
              "      <td>0</td>\n",
              "      <td>0</td>\n",
              "      <td>0</td>\n",
              "      <td>0</td>\n",
              "      <td>0</td>\n",
              "      <td>0</td>\n",
              "    </tr>\n",
              "    <tr>\n",
              "      <th>4</th>\n",
              "      <td>0001d958c54c6e35</td>\n",
              "      <td>You sir are my hero Any chance you remember wh...</td>\n",
              "      <td>0</td>\n",
              "      <td>0</td>\n",
              "      <td>0</td>\n",
              "      <td>0</td>\n",
              "      <td>0</td>\n",
              "      <td>0</td>\n",
              "    </tr>\n",
              "    <tr>\n",
              "      <th>5</th>\n",
              "      <td>00025465d4725e87</td>\n",
              "      <td>\\n\\nCongratulations from me as well use the to...</td>\n",
              "      <td>0</td>\n",
              "      <td>0</td>\n",
              "      <td>0</td>\n",
              "      <td>0</td>\n",
              "      <td>0</td>\n",
              "      <td>0</td>\n",
              "    </tr>\n",
              "    <tr>\n",
              "      <th>6</th>\n",
              "      <td>0002bcb3da6cb337</td>\n",
              "      <td>COCKSUCKER BEFORE YOU PISS AROUND ON MY WORK</td>\n",
              "      <td>1</td>\n",
              "      <td>1</td>\n",
              "      <td>1</td>\n",
              "      <td>0</td>\n",
              "      <td>1</td>\n",
              "      <td>0</td>\n",
              "    </tr>\n",
              "    <tr>\n",
              "      <th>7</th>\n",
              "      <td>00031b1e95af7921</td>\n",
              "      <td>Your vandalism to the Matt Shirvington article...</td>\n",
              "      <td>0</td>\n",
              "      <td>0</td>\n",
              "      <td>0</td>\n",
              "      <td>0</td>\n",
              "      <td>0</td>\n",
              "      <td>0</td>\n",
              "    </tr>\n",
              "    <tr>\n",
              "      <th>8</th>\n",
              "      <td>00037261f536c51d</td>\n",
              "      <td>Sorry if the word nonsense was offensive to yo...</td>\n",
              "      <td>0</td>\n",
              "      <td>0</td>\n",
              "      <td>0</td>\n",
              "      <td>0</td>\n",
              "      <td>0</td>\n",
              "      <td>0</td>\n",
              "    </tr>\n",
              "    <tr>\n",
              "      <th>9</th>\n",
              "      <td>00040093b2687caa</td>\n",
              "      <td>alignment on this subject and which are contra...</td>\n",
              "      <td>0</td>\n",
              "      <td>0</td>\n",
              "      <td>0</td>\n",
              "      <td>0</td>\n",
              "      <td>0</td>\n",
              "      <td>0</td>\n",
              "    </tr>\n",
              "  </tbody>\n",
              "</table>\n",
              "</div>\n",
              "      <button class=\"colab-df-convert\" onclick=\"convertToInteractive('df-401f9e6d-5b9d-40c4-8cbf-be06a5ee69fe')\"\n",
              "              title=\"Convert this dataframe to an interactive table.\"\n",
              "              style=\"display:none;\">\n",
              "        \n",
              "  <svg xmlns=\"http://www.w3.org/2000/svg\" height=\"24px\"viewBox=\"0 0 24 24\"\n",
              "       width=\"24px\">\n",
              "    <path d=\"M0 0h24v24H0V0z\" fill=\"none\"/>\n",
              "    <path d=\"M18.56 5.44l.94 2.06.94-2.06 2.06-.94-2.06-.94-.94-2.06-.94 2.06-2.06.94zm-11 1L8.5 8.5l.94-2.06 2.06-.94-2.06-.94L8.5 2.5l-.94 2.06-2.06.94zm10 10l.94 2.06.94-2.06 2.06-.94-2.06-.94-.94-2.06-.94 2.06-2.06.94z\"/><path d=\"M17.41 7.96l-1.37-1.37c-.4-.4-.92-.59-1.43-.59-.52 0-1.04.2-1.43.59L10.3 9.45l-7.72 7.72c-.78.78-.78 2.05 0 2.83L4 21.41c.39.39.9.59 1.41.59.51 0 1.02-.2 1.41-.59l7.78-7.78 2.81-2.81c.8-.78.8-2.07 0-2.86zM5.41 20L4 18.59l7.72-7.72 1.47 1.35L5.41 20z\"/>\n",
              "  </svg>\n",
              "      </button>\n",
              "      \n",
              "  <style>\n",
              "    .colab-df-container {\n",
              "      display:flex;\n",
              "      flex-wrap:wrap;\n",
              "      gap: 12px;\n",
              "    }\n",
              "\n",
              "    .colab-df-convert {\n",
              "      background-color: #E8F0FE;\n",
              "      border: none;\n",
              "      border-radius: 50%;\n",
              "      cursor: pointer;\n",
              "      display: none;\n",
              "      fill: #1967D2;\n",
              "      height: 32px;\n",
              "      padding: 0 0 0 0;\n",
              "      width: 32px;\n",
              "    }\n",
              "\n",
              "    .colab-df-convert:hover {\n",
              "      background-color: #E2EBFA;\n",
              "      box-shadow: 0px 1px 2px rgba(60, 64, 67, 0.3), 0px 1px 3px 1px rgba(60, 64, 67, 0.15);\n",
              "      fill: #174EA6;\n",
              "    }\n",
              "\n",
              "    [theme=dark] .colab-df-convert {\n",
              "      background-color: #3B4455;\n",
              "      fill: #D2E3FC;\n",
              "    }\n",
              "\n",
              "    [theme=dark] .colab-df-convert:hover {\n",
              "      background-color: #434B5C;\n",
              "      box-shadow: 0px 1px 3px 1px rgba(0, 0, 0, 0.15);\n",
              "      filter: drop-shadow(0px 1px 2px rgba(0, 0, 0, 0.3));\n",
              "      fill: #FFFFFF;\n",
              "    }\n",
              "  </style>\n",
              "\n",
              "      <script>\n",
              "        const buttonEl =\n",
              "          document.querySelector('#df-401f9e6d-5b9d-40c4-8cbf-be06a5ee69fe button.colab-df-convert');\n",
              "        buttonEl.style.display =\n",
              "          google.colab.kernel.accessAllowed ? 'block' : 'none';\n",
              "\n",
              "        async function convertToInteractive(key) {\n",
              "          const element = document.querySelector('#df-401f9e6d-5b9d-40c4-8cbf-be06a5ee69fe');\n",
              "          const dataTable =\n",
              "            await google.colab.kernel.invokeFunction('convertToInteractive',\n",
              "                                                     [key], {});\n",
              "          if (!dataTable) return;\n",
              "\n",
              "          const docLinkHtml = 'Like what you see? Visit the ' +\n",
              "            '<a target=\"_blank\" href=https://colab.research.google.com/notebooks/data_table.ipynb>data table notebook</a>'\n",
              "            + ' to learn more about interactive tables.';\n",
              "          element.innerHTML = '';\n",
              "          dataTable['output_type'] = 'display_data';\n",
              "          await google.colab.output.renderOutput(dataTable, element);\n",
              "          const docLink = document.createElement('div');\n",
              "          docLink.innerHTML = docLinkHtml;\n",
              "          element.appendChild(docLink);\n",
              "        }\n",
              "      </script>\n",
              "    </div>\n",
              "  </div>\n",
              "  "
            ]
          },
          "metadata": {},
          "execution_count": 35
        }
      ],
      "source": [
        "totalContentCleaned = []\n",
        "punctDict = {}\n",
        "for punct in string.punctuation:\n",
        "    punctDict[punct] = None\n",
        "transString = str.maketrans(punctDict)\n",
        "# since we intent to remove any punctuation with ''\n",
        "for sen in train['comment_text']:\n",
        "    p = sen.translate(transString)\n",
        "    totalContentCleaned.append(p)\n",
        "    \n",
        "\n",
        "train['comment_text'] = totalContentCleaned\n",
        "\n",
        "\n",
        "\n",
        "\n",
        "train.head(10)"
      ]
    },
    {
      "cell_type": "code",
      "execution_count": 36,
      "metadata": {
        "colab": {
          "base_uri": "https://localhost:8080/",
          "height": 398
        },
        "id": "bThKgInKejb0",
        "outputId": "32dc09e4-f37f-45de-8bc9-24a2751c1937"
      },
      "outputs": [
        {
          "output_type": "stream",
          "name": "stderr",
          "text": [
            "<ipython-input-36-b6dc33276ef3>:2: DtypeWarning: Columns (2,3,4,5) have mixed types. Specify dtype option on import or set low_memory=False.\n",
            "  df_test = pd.read_csv('test_Nlp.csv',encoding='utf-8',on_bad_lines='skip')\n"
          ]
        },
        {
          "output_type": "execute_result",
          "data": {
            "text/plain": [
              "                 id                                       comment_text\n",
              "0  00001cee341fdb12  Yo bitch Ja Rule is more succesful then you'll...\n",
              "1  0000247867823ef7  == From RfC == \\n\\n The title is fine as it is...\n",
              "2  00013b17ad220c46  \" \\n\\n == Sources == \\n\\n * Zawe Ashton on Lap...\n",
              "3  00017563c3f7919a  :If you have a look back at the source, the in...\n",
              "4  00017695ad8997eb          I don't anonymously edit articles at all.\n",
              "5  0001ea8717f6de06  Thank you for understanding. I think very high...\n",
              "6  00024115d4cbde0f  Please do not add nonsense to Wikipedia. Such ...\n",
              "7  000247e83dcc1211                   :Dear god this site is horrible.\n",
              "8  00025358d4737918  \" \\n Only a fool can believe in such numbers. ...\n",
              "9  00026d1092fe71cc  == Double Redirects == \\n\\n When fixing double..."
            ],
            "text/html": [
              "\n",
              "  <div id=\"df-e4c0bd26-f02a-47e3-89b4-e3446f934c36\">\n",
              "    <div class=\"colab-df-container\">\n",
              "      <div>\n",
              "<style scoped>\n",
              "    .dataframe tbody tr th:only-of-type {\n",
              "        vertical-align: middle;\n",
              "    }\n",
              "\n",
              "    .dataframe tbody tr th {\n",
              "        vertical-align: top;\n",
              "    }\n",
              "\n",
              "    .dataframe thead th {\n",
              "        text-align: right;\n",
              "    }\n",
              "</style>\n",
              "<table border=\"1\" class=\"dataframe\">\n",
              "  <thead>\n",
              "    <tr style=\"text-align: right;\">\n",
              "      <th></th>\n",
              "      <th>id</th>\n",
              "      <th>comment_text</th>\n",
              "    </tr>\n",
              "  </thead>\n",
              "  <tbody>\n",
              "    <tr>\n",
              "      <th>0</th>\n",
              "      <td>00001cee341fdb12</td>\n",
              "      <td>Yo bitch Ja Rule is more succesful then you'll...</td>\n",
              "    </tr>\n",
              "    <tr>\n",
              "      <th>1</th>\n",
              "      <td>0000247867823ef7</td>\n",
              "      <td>== From RfC == \\n\\n The title is fine as it is...</td>\n",
              "    </tr>\n",
              "    <tr>\n",
              "      <th>2</th>\n",
              "      <td>00013b17ad220c46</td>\n",
              "      <td>\" \\n\\n == Sources == \\n\\n * Zawe Ashton on Lap...</td>\n",
              "    </tr>\n",
              "    <tr>\n",
              "      <th>3</th>\n",
              "      <td>00017563c3f7919a</td>\n",
              "      <td>:If you have a look back at the source, the in...</td>\n",
              "    </tr>\n",
              "    <tr>\n",
              "      <th>4</th>\n",
              "      <td>00017695ad8997eb</td>\n",
              "      <td>I don't anonymously edit articles at all.</td>\n",
              "    </tr>\n",
              "    <tr>\n",
              "      <th>5</th>\n",
              "      <td>0001ea8717f6de06</td>\n",
              "      <td>Thank you for understanding. I think very high...</td>\n",
              "    </tr>\n",
              "    <tr>\n",
              "      <th>6</th>\n",
              "      <td>00024115d4cbde0f</td>\n",
              "      <td>Please do not add nonsense to Wikipedia. Such ...</td>\n",
              "    </tr>\n",
              "    <tr>\n",
              "      <th>7</th>\n",
              "      <td>000247e83dcc1211</td>\n",
              "      <td>:Dear god this site is horrible.</td>\n",
              "    </tr>\n",
              "    <tr>\n",
              "      <th>8</th>\n",
              "      <td>00025358d4737918</td>\n",
              "      <td>\" \\n Only a fool can believe in such numbers. ...</td>\n",
              "    </tr>\n",
              "    <tr>\n",
              "      <th>9</th>\n",
              "      <td>00026d1092fe71cc</td>\n",
              "      <td>== Double Redirects == \\n\\n When fixing double...</td>\n",
              "    </tr>\n",
              "  </tbody>\n",
              "</table>\n",
              "</div>\n",
              "      <button class=\"colab-df-convert\" onclick=\"convertToInteractive('df-e4c0bd26-f02a-47e3-89b4-e3446f934c36')\"\n",
              "              title=\"Convert this dataframe to an interactive table.\"\n",
              "              style=\"display:none;\">\n",
              "        \n",
              "  <svg xmlns=\"http://www.w3.org/2000/svg\" height=\"24px\"viewBox=\"0 0 24 24\"\n",
              "       width=\"24px\">\n",
              "    <path d=\"M0 0h24v24H0V0z\" fill=\"none\"/>\n",
              "    <path d=\"M18.56 5.44l.94 2.06.94-2.06 2.06-.94-2.06-.94-.94-2.06-.94 2.06-2.06.94zm-11 1L8.5 8.5l.94-2.06 2.06-.94-2.06-.94L8.5 2.5l-.94 2.06-2.06.94zm10 10l.94 2.06.94-2.06 2.06-.94-2.06-.94-.94-2.06-.94 2.06-2.06.94z\"/><path d=\"M17.41 7.96l-1.37-1.37c-.4-.4-.92-.59-1.43-.59-.52 0-1.04.2-1.43.59L10.3 9.45l-7.72 7.72c-.78.78-.78 2.05 0 2.83L4 21.41c.39.39.9.59 1.41.59.51 0 1.02-.2 1.41-.59l7.78-7.78 2.81-2.81c.8-.78.8-2.07 0-2.86zM5.41 20L4 18.59l7.72-7.72 1.47 1.35L5.41 20z\"/>\n",
              "  </svg>\n",
              "      </button>\n",
              "      \n",
              "  <style>\n",
              "    .colab-df-container {\n",
              "      display:flex;\n",
              "      flex-wrap:wrap;\n",
              "      gap: 12px;\n",
              "    }\n",
              "\n",
              "    .colab-df-convert {\n",
              "      background-color: #E8F0FE;\n",
              "      border: none;\n",
              "      border-radius: 50%;\n",
              "      cursor: pointer;\n",
              "      display: none;\n",
              "      fill: #1967D2;\n",
              "      height: 32px;\n",
              "      padding: 0 0 0 0;\n",
              "      width: 32px;\n",
              "    }\n",
              "\n",
              "    .colab-df-convert:hover {\n",
              "      background-color: #E2EBFA;\n",
              "      box-shadow: 0px 1px 2px rgba(60, 64, 67, 0.3), 0px 1px 3px 1px rgba(60, 64, 67, 0.15);\n",
              "      fill: #174EA6;\n",
              "    }\n",
              "\n",
              "    [theme=dark] .colab-df-convert {\n",
              "      background-color: #3B4455;\n",
              "      fill: #D2E3FC;\n",
              "    }\n",
              "\n",
              "    [theme=dark] .colab-df-convert:hover {\n",
              "      background-color: #434B5C;\n",
              "      box-shadow: 0px 1px 3px 1px rgba(0, 0, 0, 0.15);\n",
              "      filter: drop-shadow(0px 1px 2px rgba(0, 0, 0, 0.3));\n",
              "      fill: #FFFFFF;\n",
              "    }\n",
              "  </style>\n",
              "\n",
              "      <script>\n",
              "        const buttonEl =\n",
              "          document.querySelector('#df-e4c0bd26-f02a-47e3-89b4-e3446f934c36 button.colab-df-convert');\n",
              "        buttonEl.style.display =\n",
              "          google.colab.kernel.accessAllowed ? 'block' : 'none';\n",
              "\n",
              "        async function convertToInteractive(key) {\n",
              "          const element = document.querySelector('#df-e4c0bd26-f02a-47e3-89b4-e3446f934c36');\n",
              "          const dataTable =\n",
              "            await google.colab.kernel.invokeFunction('convertToInteractive',\n",
              "                                                     [key], {});\n",
              "          if (!dataTable) return;\n",
              "\n",
              "          const docLinkHtml = 'Like what you see? Visit the ' +\n",
              "            '<a target=\"_blank\" href=https://colab.research.google.com/notebooks/data_table.ipynb>data table notebook</a>'\n",
              "            + ' to learn more about interactive tables.';\n",
              "          element.innerHTML = '';\n",
              "          dataTable['output_type'] = 'display_data';\n",
              "          await google.colab.output.renderOutput(dataTable, element);\n",
              "          const docLink = document.createElement('div');\n",
              "          docLink.innerHTML = docLinkHtml;\n",
              "          element.appendChild(docLink);\n",
              "        }\n",
              "      </script>\n",
              "    </div>\n",
              "  </div>\n",
              "  "
            ]
          },
          "metadata": {},
          "execution_count": 36
        }
      ],
      "source": [
        "#Test data\n",
        "df_test = pd.read_csv('test_Nlp.csv',encoding='utf-8',on_bad_lines='skip')\n",
        "df_test=df_test[['id','comment_text']]\n",
        "df_test.head(10)"
      ]
    },
    {
      "cell_type": "markdown",
      "metadata": {
        "id": "gkNgoN8pwPtA"
      },
      "source": [
        "### Clean the Test data, specifically remove punctuations"
      ]
    },
    {
      "cell_type": "code",
      "execution_count": 37,
      "metadata": {
        "colab": {
          "base_uri": "https://localhost:8080/",
          "height": 363
        },
        "id": "qAtY_WxPe03X",
        "outputId": "a3f95419-ad49-4919-8414-4fca18126ae3"
      },
      "outputs": [
        {
          "output_type": "execute_result",
          "data": {
            "text/plain": [
              "                 id                                       comment_text\n",
              "0  00001cee341fdb12  Yo bitch Ja Rule is more succesful then youll ...\n",
              "1  0000247867823ef7      From RfC  \\n\\n The title is fine as it is IMO\n",
              "2  00013b17ad220c46   \\n\\n  Sources  \\n\\n  Zawe Ashton on Lapland     \n",
              "3  00017563c3f7919a  If you have a look back at the source the info...\n",
              "4  00017695ad8997eb            I dont anonymously edit articles at all\n",
              "5  0001ea8717f6de06  Thank you for understanding I think very highl...\n",
              "6  00024115d4cbde0f  Please do not add nonsense to Wikipedia Such e...\n",
              "7  000247e83dcc1211                     Dear god this site is horrible\n",
              "8  00025358d4737918   \\n Only a fool can believe in such numbers \\n...\n",
              "9  00026d1092fe71cc   Double Redirects  \\n\\n When fixing double red..."
            ],
            "text/html": [
              "\n",
              "  <div id=\"df-d6e9286d-c467-4896-b1e3-83f6d96dc311\">\n",
              "    <div class=\"colab-df-container\">\n",
              "      <div>\n",
              "<style scoped>\n",
              "    .dataframe tbody tr th:only-of-type {\n",
              "        vertical-align: middle;\n",
              "    }\n",
              "\n",
              "    .dataframe tbody tr th {\n",
              "        vertical-align: top;\n",
              "    }\n",
              "\n",
              "    .dataframe thead th {\n",
              "        text-align: right;\n",
              "    }\n",
              "</style>\n",
              "<table border=\"1\" class=\"dataframe\">\n",
              "  <thead>\n",
              "    <tr style=\"text-align: right;\">\n",
              "      <th></th>\n",
              "      <th>id</th>\n",
              "      <th>comment_text</th>\n",
              "    </tr>\n",
              "  </thead>\n",
              "  <tbody>\n",
              "    <tr>\n",
              "      <th>0</th>\n",
              "      <td>00001cee341fdb12</td>\n",
              "      <td>Yo bitch Ja Rule is more succesful then youll ...</td>\n",
              "    </tr>\n",
              "    <tr>\n",
              "      <th>1</th>\n",
              "      <td>0000247867823ef7</td>\n",
              "      <td>From RfC  \\n\\n The title is fine as it is IMO</td>\n",
              "    </tr>\n",
              "    <tr>\n",
              "      <th>2</th>\n",
              "      <td>00013b17ad220c46</td>\n",
              "      <td>\\n\\n  Sources  \\n\\n  Zawe Ashton on Lapland</td>\n",
              "    </tr>\n",
              "    <tr>\n",
              "      <th>3</th>\n",
              "      <td>00017563c3f7919a</td>\n",
              "      <td>If you have a look back at the source the info...</td>\n",
              "    </tr>\n",
              "    <tr>\n",
              "      <th>4</th>\n",
              "      <td>00017695ad8997eb</td>\n",
              "      <td>I dont anonymously edit articles at all</td>\n",
              "    </tr>\n",
              "    <tr>\n",
              "      <th>5</th>\n",
              "      <td>0001ea8717f6de06</td>\n",
              "      <td>Thank you for understanding I think very highl...</td>\n",
              "    </tr>\n",
              "    <tr>\n",
              "      <th>6</th>\n",
              "      <td>00024115d4cbde0f</td>\n",
              "      <td>Please do not add nonsense to Wikipedia Such e...</td>\n",
              "    </tr>\n",
              "    <tr>\n",
              "      <th>7</th>\n",
              "      <td>000247e83dcc1211</td>\n",
              "      <td>Dear god this site is horrible</td>\n",
              "    </tr>\n",
              "    <tr>\n",
              "      <th>8</th>\n",
              "      <td>00025358d4737918</td>\n",
              "      <td>\\n Only a fool can believe in such numbers \\n...</td>\n",
              "    </tr>\n",
              "    <tr>\n",
              "      <th>9</th>\n",
              "      <td>00026d1092fe71cc</td>\n",
              "      <td>Double Redirects  \\n\\n When fixing double red...</td>\n",
              "    </tr>\n",
              "  </tbody>\n",
              "</table>\n",
              "</div>\n",
              "      <button class=\"colab-df-convert\" onclick=\"convertToInteractive('df-d6e9286d-c467-4896-b1e3-83f6d96dc311')\"\n",
              "              title=\"Convert this dataframe to an interactive table.\"\n",
              "              style=\"display:none;\">\n",
              "        \n",
              "  <svg xmlns=\"http://www.w3.org/2000/svg\" height=\"24px\"viewBox=\"0 0 24 24\"\n",
              "       width=\"24px\">\n",
              "    <path d=\"M0 0h24v24H0V0z\" fill=\"none\"/>\n",
              "    <path d=\"M18.56 5.44l.94 2.06.94-2.06 2.06-.94-2.06-.94-.94-2.06-.94 2.06-2.06.94zm-11 1L8.5 8.5l.94-2.06 2.06-.94-2.06-.94L8.5 2.5l-.94 2.06-2.06.94zm10 10l.94 2.06.94-2.06 2.06-.94-2.06-.94-.94-2.06-.94 2.06-2.06.94z\"/><path d=\"M17.41 7.96l-1.37-1.37c-.4-.4-.92-.59-1.43-.59-.52 0-1.04.2-1.43.59L10.3 9.45l-7.72 7.72c-.78.78-.78 2.05 0 2.83L4 21.41c.39.39.9.59 1.41.59.51 0 1.02-.2 1.41-.59l7.78-7.78 2.81-2.81c.8-.78.8-2.07 0-2.86zM5.41 20L4 18.59l7.72-7.72 1.47 1.35L5.41 20z\"/>\n",
              "  </svg>\n",
              "      </button>\n",
              "      \n",
              "  <style>\n",
              "    .colab-df-container {\n",
              "      display:flex;\n",
              "      flex-wrap:wrap;\n",
              "      gap: 12px;\n",
              "    }\n",
              "\n",
              "    .colab-df-convert {\n",
              "      background-color: #E8F0FE;\n",
              "      border: none;\n",
              "      border-radius: 50%;\n",
              "      cursor: pointer;\n",
              "      display: none;\n",
              "      fill: #1967D2;\n",
              "      height: 32px;\n",
              "      padding: 0 0 0 0;\n",
              "      width: 32px;\n",
              "    }\n",
              "\n",
              "    .colab-df-convert:hover {\n",
              "      background-color: #E2EBFA;\n",
              "      box-shadow: 0px 1px 2px rgba(60, 64, 67, 0.3), 0px 1px 3px 1px rgba(60, 64, 67, 0.15);\n",
              "      fill: #174EA6;\n",
              "    }\n",
              "\n",
              "    [theme=dark] .colab-df-convert {\n",
              "      background-color: #3B4455;\n",
              "      fill: #D2E3FC;\n",
              "    }\n",
              "\n",
              "    [theme=dark] .colab-df-convert:hover {\n",
              "      background-color: #434B5C;\n",
              "      box-shadow: 0px 1px 3px 1px rgba(0, 0, 0, 0.15);\n",
              "      filter: drop-shadow(0px 1px 2px rgba(0, 0, 0, 0.3));\n",
              "      fill: #FFFFFF;\n",
              "    }\n",
              "  </style>\n",
              "\n",
              "      <script>\n",
              "        const buttonEl =\n",
              "          document.querySelector('#df-d6e9286d-c467-4896-b1e3-83f6d96dc311 button.colab-df-convert');\n",
              "        buttonEl.style.display =\n",
              "          google.colab.kernel.accessAllowed ? 'block' : 'none';\n",
              "\n",
              "        async function convertToInteractive(key) {\n",
              "          const element = document.querySelector('#df-d6e9286d-c467-4896-b1e3-83f6d96dc311');\n",
              "          const dataTable =\n",
              "            await google.colab.kernel.invokeFunction('convertToInteractive',\n",
              "                                                     [key], {});\n",
              "          if (!dataTable) return;\n",
              "\n",
              "          const docLinkHtml = 'Like what you see? Visit the ' +\n",
              "            '<a target=\"_blank\" href=https://colab.research.google.com/notebooks/data_table.ipynb>data table notebook</a>'\n",
              "            + ' to learn more about interactive tables.';\n",
              "          element.innerHTML = '';\n",
              "          dataTable['output_type'] = 'display_data';\n",
              "          await google.colab.output.renderOutput(dataTable, element);\n",
              "          const docLink = document.createElement('div');\n",
              "          docLink.innerHTML = docLinkHtml;\n",
              "          element.appendChild(docLink);\n",
              "        }\n",
              "      </script>\n",
              "    </div>\n",
              "  </div>\n",
              "  "
            ]
          },
          "metadata": {},
          "execution_count": 37
        }
      ],
      "source": [
        "totalContentCleaned = []\n",
        "punctDict = {}\n",
        "for punct in string.punctuation:\n",
        "    punctDict[punct] = None\n",
        "transString = str.maketrans(punctDict)\n",
        "# since we intent to remove any punctuation with ''\n",
        "df_test=df_test.fillna({'comment_text':''})\n",
        "for sen in df_test['comment_text']:\n",
        "    p = sen.translate(transString)\n",
        "    totalContentCleaned.append(p)\n",
        "    \n",
        "\n",
        "df_test['comment_text'] = totalContentCleaned\n",
        "\n",
        "\n",
        "\n",
        "\n",
        "df_test.head(10)"
      ]
    },
    {
      "cell_type": "code",
      "execution_count": 38,
      "metadata": {
        "colab": {
          "base_uri": "https://localhost:8080/",
          "height": 363
        },
        "id": "PAj6D9IZejb5",
        "outputId": "74605dfe-b157-4b2f-b2df-da8fed352da8"
      },
      "outputs": [
        {
          "output_type": "execute_result",
          "data": {
            "text/plain": [
              "                 id  toxic  severe_toxic  obscene  threat  insult  \\\n",
              "0  00001cee341fdb12     -1            -1       -1      -1      -1   \n",
              "1  0000247867823ef7     -1            -1       -1      -1      -1   \n",
              "2  00013b17ad220c46     -1            -1       -1      -1      -1   \n",
              "3  00017563c3f7919a     -1            -1       -1      -1      -1   \n",
              "4  00017695ad8997eb     -1            -1       -1      -1      -1   \n",
              "5  0001ea8717f6de06      0             0        0       0       0   \n",
              "6  00024115d4cbde0f     -1            -1       -1      -1      -1   \n",
              "7  000247e83dcc1211      0             0        0       0       0   \n",
              "8  00025358d4737918     -1            -1       -1      -1      -1   \n",
              "9  00026d1092fe71cc     -1            -1       -1      -1      -1   \n",
              "\n",
              "   identity_hate  \n",
              "0             -1  \n",
              "1             -1  \n",
              "2             -1  \n",
              "3             -1  \n",
              "4             -1  \n",
              "5              0  \n",
              "6             -1  \n",
              "7              0  \n",
              "8             -1  \n",
              "9             -1  "
            ],
            "text/html": [
              "\n",
              "  <div id=\"df-e7d8d391-5706-49e9-8063-f22df55e00ec\">\n",
              "    <div class=\"colab-df-container\">\n",
              "      <div>\n",
              "<style scoped>\n",
              "    .dataframe tbody tr th:only-of-type {\n",
              "        vertical-align: middle;\n",
              "    }\n",
              "\n",
              "    .dataframe tbody tr th {\n",
              "        vertical-align: top;\n",
              "    }\n",
              "\n",
              "    .dataframe thead th {\n",
              "        text-align: right;\n",
              "    }\n",
              "</style>\n",
              "<table border=\"1\" class=\"dataframe\">\n",
              "  <thead>\n",
              "    <tr style=\"text-align: right;\">\n",
              "      <th></th>\n",
              "      <th>id</th>\n",
              "      <th>toxic</th>\n",
              "      <th>severe_toxic</th>\n",
              "      <th>obscene</th>\n",
              "      <th>threat</th>\n",
              "      <th>insult</th>\n",
              "      <th>identity_hate</th>\n",
              "    </tr>\n",
              "  </thead>\n",
              "  <tbody>\n",
              "    <tr>\n",
              "      <th>0</th>\n",
              "      <td>00001cee341fdb12</td>\n",
              "      <td>-1</td>\n",
              "      <td>-1</td>\n",
              "      <td>-1</td>\n",
              "      <td>-1</td>\n",
              "      <td>-1</td>\n",
              "      <td>-1</td>\n",
              "    </tr>\n",
              "    <tr>\n",
              "      <th>1</th>\n",
              "      <td>0000247867823ef7</td>\n",
              "      <td>-1</td>\n",
              "      <td>-1</td>\n",
              "      <td>-1</td>\n",
              "      <td>-1</td>\n",
              "      <td>-1</td>\n",
              "      <td>-1</td>\n",
              "    </tr>\n",
              "    <tr>\n",
              "      <th>2</th>\n",
              "      <td>00013b17ad220c46</td>\n",
              "      <td>-1</td>\n",
              "      <td>-1</td>\n",
              "      <td>-1</td>\n",
              "      <td>-1</td>\n",
              "      <td>-1</td>\n",
              "      <td>-1</td>\n",
              "    </tr>\n",
              "    <tr>\n",
              "      <th>3</th>\n",
              "      <td>00017563c3f7919a</td>\n",
              "      <td>-1</td>\n",
              "      <td>-1</td>\n",
              "      <td>-1</td>\n",
              "      <td>-1</td>\n",
              "      <td>-1</td>\n",
              "      <td>-1</td>\n",
              "    </tr>\n",
              "    <tr>\n",
              "      <th>4</th>\n",
              "      <td>00017695ad8997eb</td>\n",
              "      <td>-1</td>\n",
              "      <td>-1</td>\n",
              "      <td>-1</td>\n",
              "      <td>-1</td>\n",
              "      <td>-1</td>\n",
              "      <td>-1</td>\n",
              "    </tr>\n",
              "    <tr>\n",
              "      <th>5</th>\n",
              "      <td>0001ea8717f6de06</td>\n",
              "      <td>0</td>\n",
              "      <td>0</td>\n",
              "      <td>0</td>\n",
              "      <td>0</td>\n",
              "      <td>0</td>\n",
              "      <td>0</td>\n",
              "    </tr>\n",
              "    <tr>\n",
              "      <th>6</th>\n",
              "      <td>00024115d4cbde0f</td>\n",
              "      <td>-1</td>\n",
              "      <td>-1</td>\n",
              "      <td>-1</td>\n",
              "      <td>-1</td>\n",
              "      <td>-1</td>\n",
              "      <td>-1</td>\n",
              "    </tr>\n",
              "    <tr>\n",
              "      <th>7</th>\n",
              "      <td>000247e83dcc1211</td>\n",
              "      <td>0</td>\n",
              "      <td>0</td>\n",
              "      <td>0</td>\n",
              "      <td>0</td>\n",
              "      <td>0</td>\n",
              "      <td>0</td>\n",
              "    </tr>\n",
              "    <tr>\n",
              "      <th>8</th>\n",
              "      <td>00025358d4737918</td>\n",
              "      <td>-1</td>\n",
              "      <td>-1</td>\n",
              "      <td>-1</td>\n",
              "      <td>-1</td>\n",
              "      <td>-1</td>\n",
              "      <td>-1</td>\n",
              "    </tr>\n",
              "    <tr>\n",
              "      <th>9</th>\n",
              "      <td>00026d1092fe71cc</td>\n",
              "      <td>-1</td>\n",
              "      <td>-1</td>\n",
              "      <td>-1</td>\n",
              "      <td>-1</td>\n",
              "      <td>-1</td>\n",
              "      <td>-1</td>\n",
              "    </tr>\n",
              "  </tbody>\n",
              "</table>\n",
              "</div>\n",
              "      <button class=\"colab-df-convert\" onclick=\"convertToInteractive('df-e7d8d391-5706-49e9-8063-f22df55e00ec')\"\n",
              "              title=\"Convert this dataframe to an interactive table.\"\n",
              "              style=\"display:none;\">\n",
              "        \n",
              "  <svg xmlns=\"http://www.w3.org/2000/svg\" height=\"24px\"viewBox=\"0 0 24 24\"\n",
              "       width=\"24px\">\n",
              "    <path d=\"M0 0h24v24H0V0z\" fill=\"none\"/>\n",
              "    <path d=\"M18.56 5.44l.94 2.06.94-2.06 2.06-.94-2.06-.94-.94-2.06-.94 2.06-2.06.94zm-11 1L8.5 8.5l.94-2.06 2.06-.94-2.06-.94L8.5 2.5l-.94 2.06-2.06.94zm10 10l.94 2.06.94-2.06 2.06-.94-2.06-.94-.94-2.06-.94 2.06-2.06.94z\"/><path d=\"M17.41 7.96l-1.37-1.37c-.4-.4-.92-.59-1.43-.59-.52 0-1.04.2-1.43.59L10.3 9.45l-7.72 7.72c-.78.78-.78 2.05 0 2.83L4 21.41c.39.39.9.59 1.41.59.51 0 1.02-.2 1.41-.59l7.78-7.78 2.81-2.81c.8-.78.8-2.07 0-2.86zM5.41 20L4 18.59l7.72-7.72 1.47 1.35L5.41 20z\"/>\n",
              "  </svg>\n",
              "      </button>\n",
              "      \n",
              "  <style>\n",
              "    .colab-df-container {\n",
              "      display:flex;\n",
              "      flex-wrap:wrap;\n",
              "      gap: 12px;\n",
              "    }\n",
              "\n",
              "    .colab-df-convert {\n",
              "      background-color: #E8F0FE;\n",
              "      border: none;\n",
              "      border-radius: 50%;\n",
              "      cursor: pointer;\n",
              "      display: none;\n",
              "      fill: #1967D2;\n",
              "      height: 32px;\n",
              "      padding: 0 0 0 0;\n",
              "      width: 32px;\n",
              "    }\n",
              "\n",
              "    .colab-df-convert:hover {\n",
              "      background-color: #E2EBFA;\n",
              "      box-shadow: 0px 1px 2px rgba(60, 64, 67, 0.3), 0px 1px 3px 1px rgba(60, 64, 67, 0.15);\n",
              "      fill: #174EA6;\n",
              "    }\n",
              "\n",
              "    [theme=dark] .colab-df-convert {\n",
              "      background-color: #3B4455;\n",
              "      fill: #D2E3FC;\n",
              "    }\n",
              "\n",
              "    [theme=dark] .colab-df-convert:hover {\n",
              "      background-color: #434B5C;\n",
              "      box-shadow: 0px 1px 3px 1px rgba(0, 0, 0, 0.15);\n",
              "      filter: drop-shadow(0px 1px 2px rgba(0, 0, 0, 0.3));\n",
              "      fill: #FFFFFF;\n",
              "    }\n",
              "  </style>\n",
              "\n",
              "      <script>\n",
              "        const buttonEl =\n",
              "          document.querySelector('#df-e7d8d391-5706-49e9-8063-f22df55e00ec button.colab-df-convert');\n",
              "        buttonEl.style.display =\n",
              "          google.colab.kernel.accessAllowed ? 'block' : 'none';\n",
              "\n",
              "        async function convertToInteractive(key) {\n",
              "          const element = document.querySelector('#df-e7d8d391-5706-49e9-8063-f22df55e00ec');\n",
              "          const dataTable =\n",
              "            await google.colab.kernel.invokeFunction('convertToInteractive',\n",
              "                                                     [key], {});\n",
              "          if (!dataTable) return;\n",
              "\n",
              "          const docLinkHtml = 'Like what you see? Visit the ' +\n",
              "            '<a target=\"_blank\" href=https://colab.research.google.com/notebooks/data_table.ipynb>data table notebook</a>'\n",
              "            + ' to learn more about interactive tables.';\n",
              "          element.innerHTML = '';\n",
              "          dataTable['output_type'] = 'display_data';\n",
              "          await google.colab.output.renderOutput(dataTable, element);\n",
              "          const docLink = document.createElement('div');\n",
              "          docLink.innerHTML = docLinkHtml;\n",
              "          element.appendChild(docLink);\n",
              "        }\n",
              "      </script>\n",
              "    </div>\n",
              "  </div>\n",
              "  "
            ]
          },
          "metadata": {},
          "execution_count": 38
        }
      ],
      "source": [
        "df_test_labels = pd.read_csv('test_labels.csv',on_bad_lines='skip')\n",
        "\n",
        "df_test_labels.head(10)"
      ]
    },
    {
      "cell_type": "code",
      "execution_count": 39,
      "metadata": {
        "colab": {
          "base_uri": "https://localhost:8080/",
          "height": 363
        },
        "id": "wB71FX4Lejb_",
        "outputId": "2859eb53-2f21-4407-951c-48a907665b6b"
      },
      "outputs": [
        {
          "output_type": "execute_result",
          "data": {
            "text/plain": [
              "                  id  toxic  severe_toxic  obscene  threat  insult  \\\n",
              "5   0001ea8717f6de06      0             0        0       0       0   \n",
              "7   000247e83dcc1211      0             0        0       0       0   \n",
              "11  0002f87b16116a7f      0             0        0       0       0   \n",
              "13  0003e1cccfd5a40a      0             0        0       0       0   \n",
              "14  00059ace3e3e9a53      0             0        0       0       0   \n",
              "16  000663aff0fffc80      0             0        0       0       0   \n",
              "17  000689dd34e20979      0             0        0       0       0   \n",
              "19  000844b52dee5f3f      0             0        0       0       0   \n",
              "21  00091c35fa9d0465      1             0        0       0       0   \n",
              "22  000968ce11f5ee34      0             0        0       0       0   \n",
              "\n",
              "    identity_hate  \n",
              "5               0  \n",
              "7               0  \n",
              "11              0  \n",
              "13              0  \n",
              "14              0  \n",
              "16              0  \n",
              "17              0  \n",
              "19              0  \n",
              "21              0  \n",
              "22              0  "
            ],
            "text/html": [
              "\n",
              "  <div id=\"df-4eeb0296-4b49-4d03-a357-9db4a9bf8d3e\">\n",
              "    <div class=\"colab-df-container\">\n",
              "      <div>\n",
              "<style scoped>\n",
              "    .dataframe tbody tr th:only-of-type {\n",
              "        vertical-align: middle;\n",
              "    }\n",
              "\n",
              "    .dataframe tbody tr th {\n",
              "        vertical-align: top;\n",
              "    }\n",
              "\n",
              "    .dataframe thead th {\n",
              "        text-align: right;\n",
              "    }\n",
              "</style>\n",
              "<table border=\"1\" class=\"dataframe\">\n",
              "  <thead>\n",
              "    <tr style=\"text-align: right;\">\n",
              "      <th></th>\n",
              "      <th>id</th>\n",
              "      <th>toxic</th>\n",
              "      <th>severe_toxic</th>\n",
              "      <th>obscene</th>\n",
              "      <th>threat</th>\n",
              "      <th>insult</th>\n",
              "      <th>identity_hate</th>\n",
              "    </tr>\n",
              "  </thead>\n",
              "  <tbody>\n",
              "    <tr>\n",
              "      <th>5</th>\n",
              "      <td>0001ea8717f6de06</td>\n",
              "      <td>0</td>\n",
              "      <td>0</td>\n",
              "      <td>0</td>\n",
              "      <td>0</td>\n",
              "      <td>0</td>\n",
              "      <td>0</td>\n",
              "    </tr>\n",
              "    <tr>\n",
              "      <th>7</th>\n",
              "      <td>000247e83dcc1211</td>\n",
              "      <td>0</td>\n",
              "      <td>0</td>\n",
              "      <td>0</td>\n",
              "      <td>0</td>\n",
              "      <td>0</td>\n",
              "      <td>0</td>\n",
              "    </tr>\n",
              "    <tr>\n",
              "      <th>11</th>\n",
              "      <td>0002f87b16116a7f</td>\n",
              "      <td>0</td>\n",
              "      <td>0</td>\n",
              "      <td>0</td>\n",
              "      <td>0</td>\n",
              "      <td>0</td>\n",
              "      <td>0</td>\n",
              "    </tr>\n",
              "    <tr>\n",
              "      <th>13</th>\n",
              "      <td>0003e1cccfd5a40a</td>\n",
              "      <td>0</td>\n",
              "      <td>0</td>\n",
              "      <td>0</td>\n",
              "      <td>0</td>\n",
              "      <td>0</td>\n",
              "      <td>0</td>\n",
              "    </tr>\n",
              "    <tr>\n",
              "      <th>14</th>\n",
              "      <td>00059ace3e3e9a53</td>\n",
              "      <td>0</td>\n",
              "      <td>0</td>\n",
              "      <td>0</td>\n",
              "      <td>0</td>\n",
              "      <td>0</td>\n",
              "      <td>0</td>\n",
              "    </tr>\n",
              "    <tr>\n",
              "      <th>16</th>\n",
              "      <td>000663aff0fffc80</td>\n",
              "      <td>0</td>\n",
              "      <td>0</td>\n",
              "      <td>0</td>\n",
              "      <td>0</td>\n",
              "      <td>0</td>\n",
              "      <td>0</td>\n",
              "    </tr>\n",
              "    <tr>\n",
              "      <th>17</th>\n",
              "      <td>000689dd34e20979</td>\n",
              "      <td>0</td>\n",
              "      <td>0</td>\n",
              "      <td>0</td>\n",
              "      <td>0</td>\n",
              "      <td>0</td>\n",
              "      <td>0</td>\n",
              "    </tr>\n",
              "    <tr>\n",
              "      <th>19</th>\n",
              "      <td>000844b52dee5f3f</td>\n",
              "      <td>0</td>\n",
              "      <td>0</td>\n",
              "      <td>0</td>\n",
              "      <td>0</td>\n",
              "      <td>0</td>\n",
              "      <td>0</td>\n",
              "    </tr>\n",
              "    <tr>\n",
              "      <th>21</th>\n",
              "      <td>00091c35fa9d0465</td>\n",
              "      <td>1</td>\n",
              "      <td>0</td>\n",
              "      <td>0</td>\n",
              "      <td>0</td>\n",
              "      <td>0</td>\n",
              "      <td>0</td>\n",
              "    </tr>\n",
              "    <tr>\n",
              "      <th>22</th>\n",
              "      <td>000968ce11f5ee34</td>\n",
              "      <td>0</td>\n",
              "      <td>0</td>\n",
              "      <td>0</td>\n",
              "      <td>0</td>\n",
              "      <td>0</td>\n",
              "      <td>0</td>\n",
              "    </tr>\n",
              "  </tbody>\n",
              "</table>\n",
              "</div>\n",
              "      <button class=\"colab-df-convert\" onclick=\"convertToInteractive('df-4eeb0296-4b49-4d03-a357-9db4a9bf8d3e')\"\n",
              "              title=\"Convert this dataframe to an interactive table.\"\n",
              "              style=\"display:none;\">\n",
              "        \n",
              "  <svg xmlns=\"http://www.w3.org/2000/svg\" height=\"24px\"viewBox=\"0 0 24 24\"\n",
              "       width=\"24px\">\n",
              "    <path d=\"M0 0h24v24H0V0z\" fill=\"none\"/>\n",
              "    <path d=\"M18.56 5.44l.94 2.06.94-2.06 2.06-.94-2.06-.94-.94-2.06-.94 2.06-2.06.94zm-11 1L8.5 8.5l.94-2.06 2.06-.94-2.06-.94L8.5 2.5l-.94 2.06-2.06.94zm10 10l.94 2.06.94-2.06 2.06-.94-2.06-.94-.94-2.06-.94 2.06-2.06.94z\"/><path d=\"M17.41 7.96l-1.37-1.37c-.4-.4-.92-.59-1.43-.59-.52 0-1.04.2-1.43.59L10.3 9.45l-7.72 7.72c-.78.78-.78 2.05 0 2.83L4 21.41c.39.39.9.59 1.41.59.51 0 1.02-.2 1.41-.59l7.78-7.78 2.81-2.81c.8-.78.8-2.07 0-2.86zM5.41 20L4 18.59l7.72-7.72 1.47 1.35L5.41 20z\"/>\n",
              "  </svg>\n",
              "      </button>\n",
              "      \n",
              "  <style>\n",
              "    .colab-df-container {\n",
              "      display:flex;\n",
              "      flex-wrap:wrap;\n",
              "      gap: 12px;\n",
              "    }\n",
              "\n",
              "    .colab-df-convert {\n",
              "      background-color: #E8F0FE;\n",
              "      border: none;\n",
              "      border-radius: 50%;\n",
              "      cursor: pointer;\n",
              "      display: none;\n",
              "      fill: #1967D2;\n",
              "      height: 32px;\n",
              "      padding: 0 0 0 0;\n",
              "      width: 32px;\n",
              "    }\n",
              "\n",
              "    .colab-df-convert:hover {\n",
              "      background-color: #E2EBFA;\n",
              "      box-shadow: 0px 1px 2px rgba(60, 64, 67, 0.3), 0px 1px 3px 1px rgba(60, 64, 67, 0.15);\n",
              "      fill: #174EA6;\n",
              "    }\n",
              "\n",
              "    [theme=dark] .colab-df-convert {\n",
              "      background-color: #3B4455;\n",
              "      fill: #D2E3FC;\n",
              "    }\n",
              "\n",
              "    [theme=dark] .colab-df-convert:hover {\n",
              "      background-color: #434B5C;\n",
              "      box-shadow: 0px 1px 3px 1px rgba(0, 0, 0, 0.15);\n",
              "      filter: drop-shadow(0px 1px 2px rgba(0, 0, 0, 0.3));\n",
              "      fill: #FFFFFF;\n",
              "    }\n",
              "  </style>\n",
              "\n",
              "      <script>\n",
              "        const buttonEl =\n",
              "          document.querySelector('#df-4eeb0296-4b49-4d03-a357-9db4a9bf8d3e button.colab-df-convert');\n",
              "        buttonEl.style.display =\n",
              "          google.colab.kernel.accessAllowed ? 'block' : 'none';\n",
              "\n",
              "        async function convertToInteractive(key) {\n",
              "          const element = document.querySelector('#df-4eeb0296-4b49-4d03-a357-9db4a9bf8d3e');\n",
              "          const dataTable =\n",
              "            await google.colab.kernel.invokeFunction('convertToInteractive',\n",
              "                                                     [key], {});\n",
              "          if (!dataTable) return;\n",
              "\n",
              "          const docLinkHtml = 'Like what you see? Visit the ' +\n",
              "            '<a target=\"_blank\" href=https://colab.research.google.com/notebooks/data_table.ipynb>data table notebook</a>'\n",
              "            + ' to learn more about interactive tables.';\n",
              "          element.innerHTML = '';\n",
              "          dataTable['output_type'] = 'display_data';\n",
              "          await google.colab.output.renderOutput(dataTable, element);\n",
              "          const docLink = document.createElement('div');\n",
              "          docLink.innerHTML = docLinkHtml;\n",
              "          element.appendChild(docLink);\n",
              "        }\n",
              "      </script>\n",
              "    </div>\n",
              "  </div>\n",
              "  "
            ]
          },
          "metadata": {},
          "execution_count": 39
        }
      ],
      "source": [
        "test_labels = df_test_labels[(df_test_labels[['toxic','severe_toxic', 'obscene', 'threat', \n",
        "                                        'insult', 'identity_hate']] != -1).all(axis=1)]\n",
        "test_labels.head(10)"
      ]
    },
    {
      "cell_type": "markdown",
      "metadata": {
        "id": "Z4WMHSsEejcF"
      },
      "source": [
        "### Merge the df_test and test_labels into 1 dataframe (test)"
      ]
    },
    {
      "cell_type": "code",
      "execution_count": 40,
      "metadata": {
        "colab": {
          "base_uri": "https://localhost:8080/",
          "height": 363
        },
        "id": "IN1JvMJxejcH",
        "outputId": "b6d75e6c-66ee-44fc-fa2c-c4e3e41f151e"
      },
      "outputs": [
        {
          "output_type": "execute_result",
          "data": {
            "text/plain": [
              "                 id  toxic  severe_toxic  obscene  threat  insult  \\\n",
              "0  0001ea8717f6de06      0             0        0       0       0   \n",
              "1  000247e83dcc1211      0             0        0       0       0   \n",
              "2  0002f87b16116a7f      0             0        0       0       0   \n",
              "3  0003e1cccfd5a40a      0             0        0       0       0   \n",
              "4  00059ace3e3e9a53      0             0        0       0       0   \n",
              "5  000663aff0fffc80      0             0        0       0       0   \n",
              "6  000689dd34e20979      0             0        0       0       0   \n",
              "7  000844b52dee5f3f      0             0        0       0       0   \n",
              "8  00091c35fa9d0465      1             0        0       0       0   \n",
              "9  000968ce11f5ee34      0             0        0       0       0   \n",
              "\n",
              "   identity_hate                                       comment_text  \n",
              "0              0  Thank you for understanding I think very highl...  \n",
              "1              0                     Dear god this site is horrible  \n",
              "2              0   Somebody will invariably try to add Religion ...  \n",
              "3              0   \\n\\n It says it right there that it IS a type...  \n",
              "4              0   \\n\\n  Before adding a new product to the list...  \n",
              "5              0                           this other one from 1897  \n",
              "6              0   Reason for banning throwing  \\n\\n This articl...  \n",
              "7              0                  blocked from editing Wikipedia     \n",
              "8              0   Arabs are committing genocide in Iraq but no ...  \n",
              "9              0  Please stop If you continue to vandalize Wikip...  "
            ],
            "text/html": [
              "\n",
              "  <div id=\"df-1e5c3012-bd48-4978-9b7e-34a59522c509\">\n",
              "    <div class=\"colab-df-container\">\n",
              "      <div>\n",
              "<style scoped>\n",
              "    .dataframe tbody tr th:only-of-type {\n",
              "        vertical-align: middle;\n",
              "    }\n",
              "\n",
              "    .dataframe tbody tr th {\n",
              "        vertical-align: top;\n",
              "    }\n",
              "\n",
              "    .dataframe thead th {\n",
              "        text-align: right;\n",
              "    }\n",
              "</style>\n",
              "<table border=\"1\" class=\"dataframe\">\n",
              "  <thead>\n",
              "    <tr style=\"text-align: right;\">\n",
              "      <th></th>\n",
              "      <th>id</th>\n",
              "      <th>toxic</th>\n",
              "      <th>severe_toxic</th>\n",
              "      <th>obscene</th>\n",
              "      <th>threat</th>\n",
              "      <th>insult</th>\n",
              "      <th>identity_hate</th>\n",
              "      <th>comment_text</th>\n",
              "    </tr>\n",
              "  </thead>\n",
              "  <tbody>\n",
              "    <tr>\n",
              "      <th>0</th>\n",
              "      <td>0001ea8717f6de06</td>\n",
              "      <td>0</td>\n",
              "      <td>0</td>\n",
              "      <td>0</td>\n",
              "      <td>0</td>\n",
              "      <td>0</td>\n",
              "      <td>0</td>\n",
              "      <td>Thank you for understanding I think very highl...</td>\n",
              "    </tr>\n",
              "    <tr>\n",
              "      <th>1</th>\n",
              "      <td>000247e83dcc1211</td>\n",
              "      <td>0</td>\n",
              "      <td>0</td>\n",
              "      <td>0</td>\n",
              "      <td>0</td>\n",
              "      <td>0</td>\n",
              "      <td>0</td>\n",
              "      <td>Dear god this site is horrible</td>\n",
              "    </tr>\n",
              "    <tr>\n",
              "      <th>2</th>\n",
              "      <td>0002f87b16116a7f</td>\n",
              "      <td>0</td>\n",
              "      <td>0</td>\n",
              "      <td>0</td>\n",
              "      <td>0</td>\n",
              "      <td>0</td>\n",
              "      <td>0</td>\n",
              "      <td>Somebody will invariably try to add Religion ...</td>\n",
              "    </tr>\n",
              "    <tr>\n",
              "      <th>3</th>\n",
              "      <td>0003e1cccfd5a40a</td>\n",
              "      <td>0</td>\n",
              "      <td>0</td>\n",
              "      <td>0</td>\n",
              "      <td>0</td>\n",
              "      <td>0</td>\n",
              "      <td>0</td>\n",
              "      <td>\\n\\n It says it right there that it IS a type...</td>\n",
              "    </tr>\n",
              "    <tr>\n",
              "      <th>4</th>\n",
              "      <td>00059ace3e3e9a53</td>\n",
              "      <td>0</td>\n",
              "      <td>0</td>\n",
              "      <td>0</td>\n",
              "      <td>0</td>\n",
              "      <td>0</td>\n",
              "      <td>0</td>\n",
              "      <td>\\n\\n  Before adding a new product to the list...</td>\n",
              "    </tr>\n",
              "    <tr>\n",
              "      <th>5</th>\n",
              "      <td>000663aff0fffc80</td>\n",
              "      <td>0</td>\n",
              "      <td>0</td>\n",
              "      <td>0</td>\n",
              "      <td>0</td>\n",
              "      <td>0</td>\n",
              "      <td>0</td>\n",
              "      <td>this other one from 1897</td>\n",
              "    </tr>\n",
              "    <tr>\n",
              "      <th>6</th>\n",
              "      <td>000689dd34e20979</td>\n",
              "      <td>0</td>\n",
              "      <td>0</td>\n",
              "      <td>0</td>\n",
              "      <td>0</td>\n",
              "      <td>0</td>\n",
              "      <td>0</td>\n",
              "      <td>Reason for banning throwing  \\n\\n This articl...</td>\n",
              "    </tr>\n",
              "    <tr>\n",
              "      <th>7</th>\n",
              "      <td>000844b52dee5f3f</td>\n",
              "      <td>0</td>\n",
              "      <td>0</td>\n",
              "      <td>0</td>\n",
              "      <td>0</td>\n",
              "      <td>0</td>\n",
              "      <td>0</td>\n",
              "      <td>blocked from editing Wikipedia</td>\n",
              "    </tr>\n",
              "    <tr>\n",
              "      <th>8</th>\n",
              "      <td>00091c35fa9d0465</td>\n",
              "      <td>1</td>\n",
              "      <td>0</td>\n",
              "      <td>0</td>\n",
              "      <td>0</td>\n",
              "      <td>0</td>\n",
              "      <td>0</td>\n",
              "      <td>Arabs are committing genocide in Iraq but no ...</td>\n",
              "    </tr>\n",
              "    <tr>\n",
              "      <th>9</th>\n",
              "      <td>000968ce11f5ee34</td>\n",
              "      <td>0</td>\n",
              "      <td>0</td>\n",
              "      <td>0</td>\n",
              "      <td>0</td>\n",
              "      <td>0</td>\n",
              "      <td>0</td>\n",
              "      <td>Please stop If you continue to vandalize Wikip...</td>\n",
              "    </tr>\n",
              "  </tbody>\n",
              "</table>\n",
              "</div>\n",
              "      <button class=\"colab-df-convert\" onclick=\"convertToInteractive('df-1e5c3012-bd48-4978-9b7e-34a59522c509')\"\n",
              "              title=\"Convert this dataframe to an interactive table.\"\n",
              "              style=\"display:none;\">\n",
              "        \n",
              "  <svg xmlns=\"http://www.w3.org/2000/svg\" height=\"24px\"viewBox=\"0 0 24 24\"\n",
              "       width=\"24px\">\n",
              "    <path d=\"M0 0h24v24H0V0z\" fill=\"none\"/>\n",
              "    <path d=\"M18.56 5.44l.94 2.06.94-2.06 2.06-.94-2.06-.94-.94-2.06-.94 2.06-2.06.94zm-11 1L8.5 8.5l.94-2.06 2.06-.94-2.06-.94L8.5 2.5l-.94 2.06-2.06.94zm10 10l.94 2.06.94-2.06 2.06-.94-2.06-.94-.94-2.06-.94 2.06-2.06.94z\"/><path d=\"M17.41 7.96l-1.37-1.37c-.4-.4-.92-.59-1.43-.59-.52 0-1.04.2-1.43.59L10.3 9.45l-7.72 7.72c-.78.78-.78 2.05 0 2.83L4 21.41c.39.39.9.59 1.41.59.51 0 1.02-.2 1.41-.59l7.78-7.78 2.81-2.81c.8-.78.8-2.07 0-2.86zM5.41 20L4 18.59l7.72-7.72 1.47 1.35L5.41 20z\"/>\n",
              "  </svg>\n",
              "      </button>\n",
              "      \n",
              "  <style>\n",
              "    .colab-df-container {\n",
              "      display:flex;\n",
              "      flex-wrap:wrap;\n",
              "      gap: 12px;\n",
              "    }\n",
              "\n",
              "    .colab-df-convert {\n",
              "      background-color: #E8F0FE;\n",
              "      border: none;\n",
              "      border-radius: 50%;\n",
              "      cursor: pointer;\n",
              "      display: none;\n",
              "      fill: #1967D2;\n",
              "      height: 32px;\n",
              "      padding: 0 0 0 0;\n",
              "      width: 32px;\n",
              "    }\n",
              "\n",
              "    .colab-df-convert:hover {\n",
              "      background-color: #E2EBFA;\n",
              "      box-shadow: 0px 1px 2px rgba(60, 64, 67, 0.3), 0px 1px 3px 1px rgba(60, 64, 67, 0.15);\n",
              "      fill: #174EA6;\n",
              "    }\n",
              "\n",
              "    [theme=dark] .colab-df-convert {\n",
              "      background-color: #3B4455;\n",
              "      fill: #D2E3FC;\n",
              "    }\n",
              "\n",
              "    [theme=dark] .colab-df-convert:hover {\n",
              "      background-color: #434B5C;\n",
              "      box-shadow: 0px 1px 3px 1px rgba(0, 0, 0, 0.15);\n",
              "      filter: drop-shadow(0px 1px 2px rgba(0, 0, 0, 0.3));\n",
              "      fill: #FFFFFF;\n",
              "    }\n",
              "  </style>\n",
              "\n",
              "      <script>\n",
              "        const buttonEl =\n",
              "          document.querySelector('#df-1e5c3012-bd48-4978-9b7e-34a59522c509 button.colab-df-convert');\n",
              "        buttonEl.style.display =\n",
              "          google.colab.kernel.accessAllowed ? 'block' : 'none';\n",
              "\n",
              "        async function convertToInteractive(key) {\n",
              "          const element = document.querySelector('#df-1e5c3012-bd48-4978-9b7e-34a59522c509');\n",
              "          const dataTable =\n",
              "            await google.colab.kernel.invokeFunction('convertToInteractive',\n",
              "                                                     [key], {});\n",
              "          if (!dataTable) return;\n",
              "\n",
              "          const docLinkHtml = 'Like what you see? Visit the ' +\n",
              "            '<a target=\"_blank\" href=https://colab.research.google.com/notebooks/data_table.ipynb>data table notebook</a>'\n",
              "            + ' to learn more about interactive tables.';\n",
              "          element.innerHTML = '';\n",
              "          dataTable['output_type'] = 'display_data';\n",
              "          await google.colab.output.renderOutput(dataTable, element);\n",
              "          const docLink = document.createElement('div');\n",
              "          docLink.innerHTML = docLinkHtml;\n",
              "          element.appendChild(docLink);\n",
              "        }\n",
              "      </script>\n",
              "    </div>\n",
              "  </div>\n",
              "  "
            ]
          },
          "metadata": {},
          "execution_count": 40
        }
      ],
      "source": [
        "#Merge the df_test and test_labels into 1 dataframe (test)\n",
        "test = pd.merge(test_labels, df_test, on='id', how='inner')\n",
        "test.head(10)"
      ]
    },
    {
      "cell_type": "code",
      "execution_count": 41,
      "metadata": {
        "id": "UaEaFMJlDS-x",
        "outputId": "b92f6568-42e0-4504-91c3-d6ec9b9e3604",
        "colab": {
          "base_uri": "https://localhost:8080/",
          "height": 363
        }
      },
      "outputs": [
        {
          "output_type": "execute_result",
          "data": {
            "text/plain": [
              "                   id  toxic  severe_toxic  obscene  threat  insult  \\\n",
              "8    00091c35fa9d0465      1             0        0       0       0   \n",
              "24   0013fed3aeae76b7      1             0        1       0       1   \n",
              "29   0017d4d47894af05      1             0        1       0       1   \n",
              "38   001d739c97bc2ae4      1             0        0       0       0   \n",
              "40   001eff4007dbb65b      1             0        1       0       1   \n",
              "89   005f47397e07e12f      1             0        0       0       0   \n",
              "106  0071940212267fea      1             0        1       0       0   \n",
              "107  0072b9c3697ab8cc      1             0        1       0       1   \n",
              "124  0081b14d79f54b31      1             0        1       1       0   \n",
              "125  00842d1024b19972      1             0        1       0       1   \n",
              "\n",
              "     identity_hate                                       comment_text  \n",
              "8                0   Arabs are committing genocide in Iraq but no ...  \n",
              "24               1  DJ Robinson is gay as hell he sucks his dick s...  \n",
              "29               0                    Fuck off you antisemitic cunt    \n",
              "38               0  How dare you vandalize that page about the HMS...  \n",
              "40               0  No he is an arrogant self serving immature idi...  \n",
              "89               0  Eek but shes cute in an earthy kind of way Can...  \n",
              "106              0  Well it sucks to have a university to be nickn...  \n",
              "107              0   Argh  \\n\\n Some random idiot deleted the whol...  \n",
              "124              0  we hate america and we are going to bomb the s...  \n",
              "125              0   Bold textYOU SUCK  \\n\\n  \\n\\n U SUCK HANNAH M...  "
            ],
            "text/html": [
              "\n",
              "  <div id=\"df-ee960cf9-b19a-401b-a61d-9600a7787c3c\">\n",
              "    <div class=\"colab-df-container\">\n",
              "      <div>\n",
              "<style scoped>\n",
              "    .dataframe tbody tr th:only-of-type {\n",
              "        vertical-align: middle;\n",
              "    }\n",
              "\n",
              "    .dataframe tbody tr th {\n",
              "        vertical-align: top;\n",
              "    }\n",
              "\n",
              "    .dataframe thead th {\n",
              "        text-align: right;\n",
              "    }\n",
              "</style>\n",
              "<table border=\"1\" class=\"dataframe\">\n",
              "  <thead>\n",
              "    <tr style=\"text-align: right;\">\n",
              "      <th></th>\n",
              "      <th>id</th>\n",
              "      <th>toxic</th>\n",
              "      <th>severe_toxic</th>\n",
              "      <th>obscene</th>\n",
              "      <th>threat</th>\n",
              "      <th>insult</th>\n",
              "      <th>identity_hate</th>\n",
              "      <th>comment_text</th>\n",
              "    </tr>\n",
              "  </thead>\n",
              "  <tbody>\n",
              "    <tr>\n",
              "      <th>8</th>\n",
              "      <td>00091c35fa9d0465</td>\n",
              "      <td>1</td>\n",
              "      <td>0</td>\n",
              "      <td>0</td>\n",
              "      <td>0</td>\n",
              "      <td>0</td>\n",
              "      <td>0</td>\n",
              "      <td>Arabs are committing genocide in Iraq but no ...</td>\n",
              "    </tr>\n",
              "    <tr>\n",
              "      <th>24</th>\n",
              "      <td>0013fed3aeae76b7</td>\n",
              "      <td>1</td>\n",
              "      <td>0</td>\n",
              "      <td>1</td>\n",
              "      <td>0</td>\n",
              "      <td>1</td>\n",
              "      <td>1</td>\n",
              "      <td>DJ Robinson is gay as hell he sucks his dick s...</td>\n",
              "    </tr>\n",
              "    <tr>\n",
              "      <th>29</th>\n",
              "      <td>0017d4d47894af05</td>\n",
              "      <td>1</td>\n",
              "      <td>0</td>\n",
              "      <td>1</td>\n",
              "      <td>0</td>\n",
              "      <td>1</td>\n",
              "      <td>0</td>\n",
              "      <td>Fuck off you antisemitic cunt</td>\n",
              "    </tr>\n",
              "    <tr>\n",
              "      <th>38</th>\n",
              "      <td>001d739c97bc2ae4</td>\n",
              "      <td>1</td>\n",
              "      <td>0</td>\n",
              "      <td>0</td>\n",
              "      <td>0</td>\n",
              "      <td>0</td>\n",
              "      <td>0</td>\n",
              "      <td>How dare you vandalize that page about the HMS...</td>\n",
              "    </tr>\n",
              "    <tr>\n",
              "      <th>40</th>\n",
              "      <td>001eff4007dbb65b</td>\n",
              "      <td>1</td>\n",
              "      <td>0</td>\n",
              "      <td>1</td>\n",
              "      <td>0</td>\n",
              "      <td>1</td>\n",
              "      <td>0</td>\n",
              "      <td>No he is an arrogant self serving immature idi...</td>\n",
              "    </tr>\n",
              "    <tr>\n",
              "      <th>89</th>\n",
              "      <td>005f47397e07e12f</td>\n",
              "      <td>1</td>\n",
              "      <td>0</td>\n",
              "      <td>0</td>\n",
              "      <td>0</td>\n",
              "      <td>0</td>\n",
              "      <td>0</td>\n",
              "      <td>Eek but shes cute in an earthy kind of way Can...</td>\n",
              "    </tr>\n",
              "    <tr>\n",
              "      <th>106</th>\n",
              "      <td>0071940212267fea</td>\n",
              "      <td>1</td>\n",
              "      <td>0</td>\n",
              "      <td>1</td>\n",
              "      <td>0</td>\n",
              "      <td>0</td>\n",
              "      <td>0</td>\n",
              "      <td>Well it sucks to have a university to be nickn...</td>\n",
              "    </tr>\n",
              "    <tr>\n",
              "      <th>107</th>\n",
              "      <td>0072b9c3697ab8cc</td>\n",
              "      <td>1</td>\n",
              "      <td>0</td>\n",
              "      <td>1</td>\n",
              "      <td>0</td>\n",
              "      <td>1</td>\n",
              "      <td>0</td>\n",
              "      <td>Argh  \\n\\n Some random idiot deleted the whol...</td>\n",
              "    </tr>\n",
              "    <tr>\n",
              "      <th>124</th>\n",
              "      <td>0081b14d79f54b31</td>\n",
              "      <td>1</td>\n",
              "      <td>0</td>\n",
              "      <td>1</td>\n",
              "      <td>1</td>\n",
              "      <td>0</td>\n",
              "      <td>0</td>\n",
              "      <td>we hate america and we are going to bomb the s...</td>\n",
              "    </tr>\n",
              "    <tr>\n",
              "      <th>125</th>\n",
              "      <td>00842d1024b19972</td>\n",
              "      <td>1</td>\n",
              "      <td>0</td>\n",
              "      <td>1</td>\n",
              "      <td>0</td>\n",
              "      <td>1</td>\n",
              "      <td>0</td>\n",
              "      <td>Bold textYOU SUCK  \\n\\n  \\n\\n U SUCK HANNAH M...</td>\n",
              "    </tr>\n",
              "  </tbody>\n",
              "</table>\n",
              "</div>\n",
              "      <button class=\"colab-df-convert\" onclick=\"convertToInteractive('df-ee960cf9-b19a-401b-a61d-9600a7787c3c')\"\n",
              "              title=\"Convert this dataframe to an interactive table.\"\n",
              "              style=\"display:none;\">\n",
              "        \n",
              "  <svg xmlns=\"http://www.w3.org/2000/svg\" height=\"24px\"viewBox=\"0 0 24 24\"\n",
              "       width=\"24px\">\n",
              "    <path d=\"M0 0h24v24H0V0z\" fill=\"none\"/>\n",
              "    <path d=\"M18.56 5.44l.94 2.06.94-2.06 2.06-.94-2.06-.94-.94-2.06-.94 2.06-2.06.94zm-11 1L8.5 8.5l.94-2.06 2.06-.94-2.06-.94L8.5 2.5l-.94 2.06-2.06.94zm10 10l.94 2.06.94-2.06 2.06-.94-2.06-.94-.94-2.06-.94 2.06-2.06.94z\"/><path d=\"M17.41 7.96l-1.37-1.37c-.4-.4-.92-.59-1.43-.59-.52 0-1.04.2-1.43.59L10.3 9.45l-7.72 7.72c-.78.78-.78 2.05 0 2.83L4 21.41c.39.39.9.59 1.41.59.51 0 1.02-.2 1.41-.59l7.78-7.78 2.81-2.81c.8-.78.8-2.07 0-2.86zM5.41 20L4 18.59l7.72-7.72 1.47 1.35L5.41 20z\"/>\n",
              "  </svg>\n",
              "      </button>\n",
              "      \n",
              "  <style>\n",
              "    .colab-df-container {\n",
              "      display:flex;\n",
              "      flex-wrap:wrap;\n",
              "      gap: 12px;\n",
              "    }\n",
              "\n",
              "    .colab-df-convert {\n",
              "      background-color: #E8F0FE;\n",
              "      border: none;\n",
              "      border-radius: 50%;\n",
              "      cursor: pointer;\n",
              "      display: none;\n",
              "      fill: #1967D2;\n",
              "      height: 32px;\n",
              "      padding: 0 0 0 0;\n",
              "      width: 32px;\n",
              "    }\n",
              "\n",
              "    .colab-df-convert:hover {\n",
              "      background-color: #E2EBFA;\n",
              "      box-shadow: 0px 1px 2px rgba(60, 64, 67, 0.3), 0px 1px 3px 1px rgba(60, 64, 67, 0.15);\n",
              "      fill: #174EA6;\n",
              "    }\n",
              "\n",
              "    [theme=dark] .colab-df-convert {\n",
              "      background-color: #3B4455;\n",
              "      fill: #D2E3FC;\n",
              "    }\n",
              "\n",
              "    [theme=dark] .colab-df-convert:hover {\n",
              "      background-color: #434B5C;\n",
              "      box-shadow: 0px 1px 3px 1px rgba(0, 0, 0, 0.15);\n",
              "      filter: drop-shadow(0px 1px 2px rgba(0, 0, 0, 0.3));\n",
              "      fill: #FFFFFF;\n",
              "    }\n",
              "  </style>\n",
              "\n",
              "      <script>\n",
              "        const buttonEl =\n",
              "          document.querySelector('#df-ee960cf9-b19a-401b-a61d-9600a7787c3c button.colab-df-convert');\n",
              "        buttonEl.style.display =\n",
              "          google.colab.kernel.accessAllowed ? 'block' : 'none';\n",
              "\n",
              "        async function convertToInteractive(key) {\n",
              "          const element = document.querySelector('#df-ee960cf9-b19a-401b-a61d-9600a7787c3c');\n",
              "          const dataTable =\n",
              "            await google.colab.kernel.invokeFunction('convertToInteractive',\n",
              "                                                     [key], {});\n",
              "          if (!dataTable) return;\n",
              "\n",
              "          const docLinkHtml = 'Like what you see? Visit the ' +\n",
              "            '<a target=\"_blank\" href=https://colab.research.google.com/notebooks/data_table.ipynb>data table notebook</a>'\n",
              "            + ' to learn more about interactive tables.';\n",
              "          element.innerHTML = '';\n",
              "          dataTable['output_type'] = 'display_data';\n",
              "          await google.colab.output.renderOutput(dataTable, element);\n",
              "          const docLink = document.createElement('div');\n",
              "          docLink.innerHTML = docLinkHtml;\n",
              "          element.appendChild(docLink);\n",
              "        }\n",
              "      </script>\n",
              "    </div>\n",
              "  </div>\n",
              "  "
            ]
          },
          "metadata": {},
          "execution_count": 41
        }
      ],
      "source": [
        "test = test.loc[(test['toxic'] == 1) | (test['severe_toxic'] == 1) | (test['obscene'] ==1) | (test['threat'] == 1) | (test['insult'] == 1) | (test['identity_hate'] ==1)]\n",
        "\n",
        "test.head(10)"
      ]
    },
    {
      "cell_type": "markdown",
      "metadata": {
        "id": "yMHnqLRhejcO"
      },
      "source": [
        "### Number of records in the train and test data"
      ]
    },
    {
      "cell_type": "code",
      "execution_count": 42,
      "metadata": {
        "colab": {
          "base_uri": "https://localhost:8080/"
        },
        "id": "dl8sCOPEejcX",
        "outputId": "4ba300a1-4e43-4bbc-d943-08414f405217"
      },
      "outputs": [
        {
          "output_type": "stream",
          "name": "stdout",
          "text": [
            "The dataset has 0 missing values in train data.\n",
            "The dataset has 0 missing values in test data.\n",
            "The dataset has 0 duplicates in train data.\n",
            "The dataset has 0 duplicates in test data.\n"
          ]
        }
      ],
      "source": [
        "# check that there are no missing values in either training set\n",
        "print('The dataset has', train.isna().sum().sum(), 'missing values in train data.')\n",
        "print('The dataset has', test.isna().sum().sum(), 'missing values in test data.')\n",
        "\n",
        "# check if there are any duplicates\n",
        "print('The dataset has', train.duplicated().sum(), 'duplicates in train data.')\n",
        "print('The dataset has', test.duplicated().sum(), 'duplicates in test data.')"
      ]
    },
    {
      "cell_type": "markdown",
      "metadata": {
        "id": "OcndCtd4ejcj"
      },
      "source": [
        "### CORRELATION BETWEEN DATA LABELS"
      ]
    },
    {
      "cell_type": "code",
      "execution_count": 43,
      "metadata": {
        "colab": {
          "base_uri": "https://localhost:8080/",
          "height": 965
        },
        "id": "xYT_uhvEejcl",
        "outputId": "da317242-23b5-4c29-9a26-dbfae3701507"
      },
      "outputs": [
        {
          "output_type": "stream",
          "name": "stderr",
          "text": [
            "<ipython-input-43-643f721c944d>:3: FutureWarning: The default value of numeric_only in DataFrame.corr is deprecated. In a future version, it will default to False. Select only valid columns or specify the value of numeric_only to silence this warning.\n",
            "  sns.heatmap(train.corr(), annot=True, cmap=\"Greens\", linewidths=.5, ax=ax);\n"
          ]
        },
        {
          "output_type": "error",
          "ename": "ValueError",
          "evalue": "ignored",
          "traceback": [
            "\u001b[0;31m---------------------------------------------------------------------------\u001b[0m",
            "\u001b[0;31mValueError\u001b[0m                                Traceback (most recent call last)",
            "\u001b[0;32m<ipython-input-43-643f721c944d>\u001b[0m in \u001b[0;36m<cell line: 3>\u001b[0;34m()\u001b[0m\n\u001b[1;32m      1\u001b[0m \u001b[0mfig\u001b[0m\u001b[0;34m,\u001b[0m \u001b[0max\u001b[0m \u001b[0;34m=\u001b[0m \u001b[0mplt\u001b[0m\u001b[0;34m.\u001b[0m\u001b[0msubplots\u001b[0m\u001b[0;34m(\u001b[0m\u001b[0mfigsize\u001b[0m\u001b[0;34m=\u001b[0m\u001b[0;34m(\u001b[0m\u001b[0;36m10\u001b[0m\u001b[0;34m,\u001b[0m \u001b[0;36m6\u001b[0m\u001b[0;34m)\u001b[0m\u001b[0;34m)\u001b[0m\u001b[0;34m\u001b[0m\u001b[0;34m\u001b[0m\u001b[0m\n\u001b[1;32m      2\u001b[0m \u001b[0mfig\u001b[0m\u001b[0;34m.\u001b[0m\u001b[0msuptitle\u001b[0m\u001b[0;34m(\u001b[0m\u001b[0;34m'Correlation Matrix'\u001b[0m\u001b[0;34m)\u001b[0m\u001b[0;34m\u001b[0m\u001b[0;34m\u001b[0m\u001b[0m\n\u001b[0;32m----> 3\u001b[0;31m \u001b[0msns\u001b[0m\u001b[0;34m.\u001b[0m\u001b[0mheatmap\u001b[0m\u001b[0;34m(\u001b[0m\u001b[0mtrain\u001b[0m\u001b[0;34m.\u001b[0m\u001b[0mcorr\u001b[0m\u001b[0;34m(\u001b[0m\u001b[0;34m)\u001b[0m\u001b[0;34m,\u001b[0m \u001b[0mannot\u001b[0m\u001b[0;34m=\u001b[0m\u001b[0;32mTrue\u001b[0m\u001b[0;34m,\u001b[0m \u001b[0mcmap\u001b[0m\u001b[0;34m=\u001b[0m\u001b[0;34m\"Greens\"\u001b[0m\u001b[0;34m,\u001b[0m \u001b[0mlinewidths\u001b[0m\u001b[0;34m=\u001b[0m\u001b[0;36m.5\u001b[0m\u001b[0;34m,\u001b[0m \u001b[0max\u001b[0m\u001b[0;34m=\u001b[0m\u001b[0max\u001b[0m\u001b[0;34m)\u001b[0m\u001b[0;34m;\u001b[0m\u001b[0;34m\u001b[0m\u001b[0;34m\u001b[0m\u001b[0m\n\u001b[0m",
            "\u001b[0;32m/usr/local/lib/python3.10/dist-packages/seaborn/matrix.py\u001b[0m in \u001b[0;36mheatmap\u001b[0;34m(data, vmin, vmax, cmap, center, robust, annot, fmt, annot_kws, linewidths, linecolor, cbar, cbar_kws, cbar_ax, square, xticklabels, yticklabels, mask, ax, **kwargs)\u001b[0m\n\u001b[1;32m    444\u001b[0m     \"\"\"\n\u001b[1;32m    445\u001b[0m     \u001b[0;31m# Initialize the plotter object\u001b[0m\u001b[0;34m\u001b[0m\u001b[0;34m\u001b[0m\u001b[0m\n\u001b[0;32m--> 446\u001b[0;31m     plotter = _HeatMapper(data, vmin, vmax, cmap, center, robust, annot, fmt,\n\u001b[0m\u001b[1;32m    447\u001b[0m                           \u001b[0mannot_kws\u001b[0m\u001b[0;34m,\u001b[0m \u001b[0mcbar\u001b[0m\u001b[0;34m,\u001b[0m \u001b[0mcbar_kws\u001b[0m\u001b[0;34m,\u001b[0m \u001b[0mxticklabels\u001b[0m\u001b[0;34m,\u001b[0m\u001b[0;34m\u001b[0m\u001b[0;34m\u001b[0m\u001b[0m\n\u001b[1;32m    448\u001b[0m                           yticklabels, mask)\n",
            "\u001b[0;32m/usr/local/lib/python3.10/dist-packages/seaborn/matrix.py\u001b[0m in \u001b[0;36m__init__\u001b[0;34m(self, data, vmin, vmax, cmap, center, robust, annot, fmt, annot_kws, cbar, cbar_kws, xticklabels, yticklabels, mask)\u001b[0m\n\u001b[1;32m    161\u001b[0m \u001b[0;34m\u001b[0m\u001b[0m\n\u001b[1;32m    162\u001b[0m         \u001b[0;31m# Determine good default values for the colormapping\u001b[0m\u001b[0;34m\u001b[0m\u001b[0;34m\u001b[0m\u001b[0m\n\u001b[0;32m--> 163\u001b[0;31m         self._determine_cmap_params(plot_data, vmin, vmax,\n\u001b[0m\u001b[1;32m    164\u001b[0m                                     cmap, center, robust)\n\u001b[1;32m    165\u001b[0m \u001b[0;34m\u001b[0m\u001b[0m\n",
            "\u001b[0;32m/usr/local/lib/python3.10/dist-packages/seaborn/matrix.py\u001b[0m in \u001b[0;36m_determine_cmap_params\u001b[0;34m(self, plot_data, vmin, vmax, cmap, center, robust)\u001b[0m\n\u001b[1;32m    200\u001b[0m                 \u001b[0mvmin\u001b[0m \u001b[0;34m=\u001b[0m \u001b[0mnp\u001b[0m\u001b[0;34m.\u001b[0m\u001b[0mnanpercentile\u001b[0m\u001b[0;34m(\u001b[0m\u001b[0mcalc_data\u001b[0m\u001b[0;34m,\u001b[0m \u001b[0;36m2\u001b[0m\u001b[0;34m)\u001b[0m\u001b[0;34m\u001b[0m\u001b[0;34m\u001b[0m\u001b[0m\n\u001b[1;32m    201\u001b[0m             \u001b[0;32melse\u001b[0m\u001b[0;34m:\u001b[0m\u001b[0;34m\u001b[0m\u001b[0;34m\u001b[0m\u001b[0m\n\u001b[0;32m--> 202\u001b[0;31m                 \u001b[0mvmin\u001b[0m \u001b[0;34m=\u001b[0m \u001b[0mnp\u001b[0m\u001b[0;34m.\u001b[0m\u001b[0mnanmin\u001b[0m\u001b[0;34m(\u001b[0m\u001b[0mcalc_data\u001b[0m\u001b[0;34m)\u001b[0m\u001b[0;34m\u001b[0m\u001b[0;34m\u001b[0m\u001b[0m\n\u001b[0m\u001b[1;32m    203\u001b[0m         \u001b[0;32mif\u001b[0m \u001b[0mvmax\u001b[0m \u001b[0;32mis\u001b[0m \u001b[0;32mNone\u001b[0m\u001b[0;34m:\u001b[0m\u001b[0;34m\u001b[0m\u001b[0;34m\u001b[0m\u001b[0m\n\u001b[1;32m    204\u001b[0m             \u001b[0;32mif\u001b[0m \u001b[0mrobust\u001b[0m\u001b[0;34m:\u001b[0m\u001b[0;34m\u001b[0m\u001b[0;34m\u001b[0m\u001b[0m\n",
            "\u001b[0;32m/usr/local/lib/python3.10/dist-packages/numpy/core/overrides.py\u001b[0m in \u001b[0;36mnanmin\u001b[0;34m(*args, **kwargs)\u001b[0m\n",
            "\u001b[0;32m/usr/local/lib/python3.10/dist-packages/numpy/lib/nanfunctions.py\u001b[0m in \u001b[0;36mnanmin\u001b[0;34m(a, axis, out, keepdims, initial, where)\u001b[0m\n\u001b[1;32m    342\u001b[0m         \u001b[0;31m# Fast, but not safe for subclasses of ndarray, or object arrays,\u001b[0m\u001b[0;34m\u001b[0m\u001b[0;34m\u001b[0m\u001b[0m\n\u001b[1;32m    343\u001b[0m         \u001b[0;31m# which do not implement isnan (gh-9009), or fmin correctly (gh-8975)\u001b[0m\u001b[0;34m\u001b[0m\u001b[0;34m\u001b[0m\u001b[0m\n\u001b[0;32m--> 344\u001b[0;31m         \u001b[0mres\u001b[0m \u001b[0;34m=\u001b[0m \u001b[0mnp\u001b[0m\u001b[0;34m.\u001b[0m\u001b[0mfmin\u001b[0m\u001b[0;34m.\u001b[0m\u001b[0mreduce\u001b[0m\u001b[0;34m(\u001b[0m\u001b[0ma\u001b[0m\u001b[0;34m,\u001b[0m \u001b[0maxis\u001b[0m\u001b[0;34m=\u001b[0m\u001b[0maxis\u001b[0m\u001b[0;34m,\u001b[0m \u001b[0mout\u001b[0m\u001b[0;34m=\u001b[0m\u001b[0mout\u001b[0m\u001b[0;34m,\u001b[0m \u001b[0;34m**\u001b[0m\u001b[0mkwargs\u001b[0m\u001b[0;34m)\u001b[0m\u001b[0;34m\u001b[0m\u001b[0;34m\u001b[0m\u001b[0m\n\u001b[0m\u001b[1;32m    345\u001b[0m         \u001b[0;32mif\u001b[0m \u001b[0mnp\u001b[0m\u001b[0;34m.\u001b[0m\u001b[0misnan\u001b[0m\u001b[0;34m(\u001b[0m\u001b[0mres\u001b[0m\u001b[0;34m)\u001b[0m\u001b[0;34m.\u001b[0m\u001b[0many\u001b[0m\u001b[0;34m(\u001b[0m\u001b[0;34m)\u001b[0m\u001b[0;34m:\u001b[0m\u001b[0;34m\u001b[0m\u001b[0;34m\u001b[0m\u001b[0m\n\u001b[1;32m    346\u001b[0m             warnings.warn(\"All-NaN slice encountered\", RuntimeWarning,\n",
            "\u001b[0;31mValueError\u001b[0m: zero-size array to reduction operation fmin which has no identity"
          ]
        },
        {
          "output_type": "display_data",
          "data": {
            "text/plain": [
              "<Figure size 1000x600 with 1 Axes>"
            ],
            "image/png": "[encoded data removed]"
          },
          "metadata": {}
        }
      ],
      "source": [
        "fig, ax = plt.subplots(figsize=(10, 6))\n",
        "fig.suptitle('Correlation Matrix')\n",
        "sns.heatmap(train.corr(), annot=True, cmap=\"Greens\", linewidths=.5, ax=ax);"
      ]
    },
    {
      "cell_type": "markdown",
      "metadata": {
        "id": "4MQuxIYfejcq"
      },
      "source": [
        "The correlation figure below shows that Toxic\" comments are clearly correlated with both \"obscene\" and \"insult\" comments. Interestingly, \"toxic\" and \"severe_toxic\" are only weakly correlated. While we can also observe that, \"Obscene\" comments and \"insult\" comments are also highly correlated, which makes perfect sense."
      ]
    },
    {
      "cell_type": "markdown",
      "metadata": {
        "id": "FHcTJeqwejcr"
      },
      "source": [
        "\n",
        "In our experiment, we used densed representation of those text (comments) and their semanticity together. The advantage of using this approach is the best way for fitting neural networks onto a text data (as in our case), as well as less memory usage compared to other sparse representation approaches.\n",
        "\n",
        "\n",
        "\n"
      ]
    },
    {
      "cell_type": "code",
      "execution_count": 44,
      "metadata": {
        "id": "LL_5zSxjejcs"
      },
      "outputs": [],
      "source": [
        "#Convert text to vectors using keras preprocessing library tools\n",
        "\n",
        "X_train = train[\"comment_text\"].values\n",
        "X_test  = test[\"comment_text\"].values\n",
        "\n",
        "y_train = train[[\"toxic\", \"severe_toxic\", \"obscene\", \"threat\", \"insult\", \"identity_hate\"]].values\n",
        "y_test  = test[[\"toxic\", \"severe_toxic\", \"obscene\", \"threat\", \"insult\", \"identity_hate\"]].values"
      ]
    },
    {
      "cell_type": "markdown",
      "metadata": {
        "id": "uwqi-osSejcv"
      },
      "source": [
        "\n",
        "\n",
        "\n",
        "\n",
        "\n",
        "For the first embedding, we used keras preprocessing (Text Preprocessing) libraries. This class allows to vectorize a text corpus, by turning each text into either a sequence of integers (each integer being the index of a token in a dictionary) or into a vector where the coefficient for each token could be binary, based on word count, based on tf-idf"
      ]
    },
    {
      "cell_type": "code",
      "execution_count": 45,
      "metadata": {
        "id": "H0rNWt-8ejcz"
      },
      "outputs": [],
      "source": [
        "num_words = 20000 #Max. words to use per toxic comment\n",
        "max_features = 200000 #Max. number of unique words in embeddinbg vector\n",
        "max_len = 200 #Max. number of words per toxic comment to be use\n",
        "embedding_dims = 128 #embedding vector output dimension \n",
        "num_epochs = 15 # number of epochs \n",
        "val_split = 0.1\n",
        "batch_size2 = 256 "
      ]
    },
    {
      "cell_type": "code",
      "execution_count": 46,
      "metadata": {
        "colab": {
          "base_uri": "https://localhost:8080/"
        },
        "id": "cTMhD2dpejcw",
        "outputId": "3813caf4-5efa-42cd-b81e-ffe41a8b9fc1"
      },
      "outputs": [
        {
          "output_type": "stream",
          "name": "stdout",
          "text": [
            "[[    0     0     0 ...   141    69  3399]\n",
            " [    0     0     0 ...  1107  7384   178]\n",
            " [    0     0     0 ...     1   676   464]\n",
            " ...\n",
            " [    0     0     0 ...  3466 13246  4443]\n",
            " [    0     0     0 ...   146    33    11]\n",
            " [    0     0     0 ...  1518  1716    88]]\n",
            "X_train shape: (159571, 200)\n",
            "X_test shape:  (6234, 200)\n"
          ]
        }
      ],
      "source": [
        "#toxic comments Tokenization\n",
        "tokenizer = tokenizer = Tokenizer(num_words)\n",
        "tokenizer.fit_on_texts(list(X_train))\n",
        "\n",
        "#Convert tokenized toxic commnent to sequnces\n",
        "X_train = tokenizer.texts_to_sequences(X_train)\n",
        "X_test = tokenizer.texts_to_sequences(X_test)\n",
        " \n",
        "# padding the sequences\n",
        "X_train = pad_sequences(X_train, max_len)\n",
        "print(X_train)\n",
        "X_test  = pad_sequences(X_test,  max_len)\n",
        "\n",
        "print('X_train shape:', X_train.shape)\n",
        "print('X_test shape: ', X_test.shape)"
      ]
    },
    {
      "cell_type": "markdown",
      "metadata": {
        "id": "vGxTYdg-WthP"
      },
      "source": [
        "##We use cross validation to split arrays or matrices of train data into random train and validation subsets"
      ]
    },
    {
      "cell_type": "code",
      "execution_count": 47,
      "metadata": {
        "id": "-9HAHH8FWrgE"
      },
      "outputs": [],
      "source": [
        "X_tra, X_val, y_tra, y_val = train_test_split(X_train, y_train, train_size =0.9, random_state=233)"
      ]
    },
    {
      "cell_type": "markdown",
      "metadata": {
        "id": "ELlEnN6GejdS"
      },
      "source": [
        "## METHODS (CNN, RNN, LSTM, all using pre-trained (fastTest) embedding)"
      ]
    },
    {
      "cell_type": "markdown",
      "metadata": {
        "id": "0evQXvGIx-Zg"
      },
      "source": [
        "#### We used early callback functionality that allows you to specify the performance measure to monitor, the trigger, and once triggered. It will stop the training process."
      ]
    },
    {
      "cell_type": "code",
      "execution_count": 48,
      "metadata": {
        "id": "OAe9eO3YyOO-"
      },
      "outputs": [],
      "source": [
        "early = EarlyStopping(monitor=\"val_loss\", mode=\"min\", patience=4)"
      ]
    },
    {
      "cell_type": "markdown",
      "metadata": {
        "id": "tQlxRa2xeymU"
      },
      "source": [
        "#### Using Precision, AUC, mean etc evaluaiton metrics to evaluate our model"
      ]
    },
    {
      "cell_type": "code",
      "execution_count": 49,
      "metadata": {
        "id": "8g3jDUzie2RN"
      },
      "outputs": [],
      "source": [
        "#Import necessary libraries\n",
        "4# demonstration of calculating metrics for a neural network model using sklearn\n",
        "from sklearn.datasets import make_circles\n",
        "from sklearn.metrics import accuracy_score\n",
        "from sklearn.metrics import precision_score\n",
        "from  sklearn.metrics import recall_score\n",
        "from sklearn.metrics import f1_score\n",
        "from sklearn.metrics import cohen_kappa_score\n",
        "from sklearn.metrics import roc_auc_score\n",
        "from sklearn.metrics import confusion_matrix\n",
        "from tensorflow.keras.metrics import Accuracy ,Precision, Recall, AUC\n",
        "\n",
        "def precision(y_true, y_pred):\n",
        "    \n",
        "    true_positives = K.sum(K.round(K.clip(y_true * y_pred, 0, 1)))\n",
        "    predicted_positives = K.sum(K.round(K.clip(y_pred, 0, 1)))\n",
        "    precision = true_positives / (predicted_positives + K.epsilon())\n",
        "    return precision\n",
        "\n",
        "\n",
        "def recall(y_true, y_pred):\n",
        "    '''Calculates the recall, a metric for multi-label classification of\n",
        "    how many relevant items are selected.\n",
        "    '''\n",
        "    true_positives = K.sum(K.round(K.clip(y_true * y_pred, 0, 1)))\n",
        "    possible_positives = K.sum(K.round(K.clip(y_true, 0, 1)))\n",
        "    recall = true_positives / (possible_positives + K.epsilon())\n",
        "    return recall\n",
        "\n",
        "  #Customized the evaluation to analyse the model in terms of accuracy and mean value accuracy\n",
        "def mean_pred(y_true, y_pred):\n",
        "    return K.mean(y_pred)\n",
        "\n",
        "\n",
        "\n",
        "def auroc(y_true, y_pred):\n",
        "    auc = tf.metrics.auc(y_true, y_pred)[1]\n",
        "    K.get_session().run(tf.local_variables_initializer())\n",
        "    return auc\n",
        "\n",
        "\n",
        "\n",
        "\n"
      ]
    },
    {
      "cell_type": "markdown",
      "metadata": {
        "id": "6lWFdG2uejgL"
      },
      "source": [
        "## USING (fastText)  AS  A PRE-TRAINED EMBEDDING"
      ]
    },
    {
      "cell_type": "markdown",
      "metadata": {
        "id": "iSKIyBVbejgh"
      },
      "source": [
        "#### Prepare the pre-trained embedding layer"
      ]
    },
    {
      "cell_type": "markdown",
      "metadata": {
        "id": "o2NVoopbejgj"
      },
      "source": [
        "#### Load the FastText Word Embeddng Corpus"
      ]
    },
    {
      "cell_type": "code",
      "source": [
        "#load embeddings\n",
        "print('loading word embeddings...')\n",
        "fastText_embeddings_index = {}\n",
        "with open('wiki.simple.txt', 'r') as f:\n",
        "  lines = f.readlines()\n",
        "  for line in lines[1:]:\n",
        "    values = line.rstrip().rsplit(' ')\n",
        "    values.pop(-1)\n",
        "    word = values[0]\n",
        "    coefs = np.asarray(values[1:], dtype='float32')\n",
        "    fastText_embeddings_index[word] = coefs\n",
        "        \n",
        "  print('found %s word vectors' % len(fastText_embeddings_index))"
      ],
      "metadata": {
        "colab": {
          "base_uri": "https://localhost:8080/"
        },
        "id": "NfwqlysnHrDO",
        "outputId": "6f0f28ff-87b8-4bc6-8098-acc80a595fdc"
      },
      "execution_count": 50,
      "outputs": [
        {
          "output_type": "stream",
          "name": "stdout",
          "text": [
            "loading word embeddings...\n",
            "found 111052 word vectors\n"
          ]
        }
      ]
    },
    {
      "cell_type": "markdown",
      "metadata": {
        "id": "xXLbaTfYnPzc"
      },
      "source": [
        "#### Convert the word embedding into tokenized vector"
      ]
    },
    {
      "cell_type": "code",
      "execution_count": 51,
      "metadata": {
        "colab": {
          "base_uri": "https://localhost:8080/"
        },
        "id": "yQRatMATnP9p",
        "outputId": "23585e23-3e93-40ef-b3b1-0116bb458709"
      },
      "outputs": [
        {
          "output_type": "stream",
          "name": "stderr",
          "text": [
            "[nltk_data] Downloading package punkt to /root/nltk_data...\n",
            "[nltk_data]   Unzipping tokenizers/punkt.zip.\n",
            "[nltk_data] Downloading package stopwords to /root/nltk_data...\n",
            "[nltk_data]   Unzipping corpora/stopwords.zip.\n"
          ]
        },
        {
          "output_type": "stream",
          "name": "stdout",
          "text": [
            "Found 214333 uniquue tokens.\n",
            "Shape of toxic comments tensor (159571, 200)\n",
            "Shape of comment tensor (159571, 6)\n"
          ]
        }
      ],
      "source": [
        "import nltk\n",
        "nltk.download('punkt')\n",
        "nltk.download('stopwords')\n",
        "\n",
        "\n",
        "toxicComments_lines = list()\n",
        "lines = train['comment_text'].values.tolist()\n",
        "\n",
        "for line in lines:\n",
        "    tokens = word_tokenize(line)\n",
        "    \n",
        "    #convert to lower case\n",
        "    tokens = [w.lower() for w in tokens]\n",
        "    \n",
        "    #remove punctuation from each word\n",
        "    table =  str.maketrans('', '', string.punctuation)\n",
        "    stripped = [w.translate(table) for w in tokens]\n",
        "    \n",
        "    #remove remaining tokens that are not alphabetic\n",
        "    words = [word for word in stripped if word.isalpha()]\n",
        "    \n",
        "    #filter out stop words\n",
        "    stop_words = set(stopwords.words('english'))\n",
        "    words = [w for w in words if not w in stop_words]\n",
        "    toxicComments_lines.append(words)\n",
        "\n",
        "\n",
        "len(toxicComments_lines)\n",
        "\n",
        "\n",
        "\n",
        "#vectorize the text samples into a 2D integer tensor\n",
        "tokenizer_obj = Tokenizer()\n",
        "tokenizer_obj.fit_on_texts(toxicComments_lines)\n",
        "sequences = tokenizer_obj.texts_to_sequences(toxicComments_lines)\n",
        "\n",
        "#pad sequences\n",
        "word_index = tokenizer_obj.word_index\n",
        "print('Found %s uniquue tokens.' % len(word_index))\n",
        "\n",
        "toxicComments_pad = pad_sequences(sequences, maxlen=max_len)\n",
        "comments_tag = train[[\"toxic\", \"severe_toxic\", \"obscene\", \"threat\", \"insult\", \"identity_hate\"]].values\n",
        "print('Shape of toxic comments tensor', toxicComments_pad.shape)\n",
        "print('Shape of comment tensor', comments_tag.shape)"
      ]
    },
    {
      "cell_type": "markdown",
      "metadata": {
        "id": "OTAsNvo8ejgn"
      },
      "source": [
        "#### Prepare the embedding matrix vectors in order to feed/pass the neural network"
      ]
    },
    {
      "cell_type": "code",
      "execution_count": 52,
      "metadata": {
        "colab": {
          "base_uri": "https://localhost:8080/"
        },
        "id": "GrtLyPSOejgo",
        "outputId": "2a541a8e-65c1-4200-c5e4-dc4d935353fc"
      },
      "outputs": [
        {
          "output_type": "stream",
          "name": "stdout",
          "text": [
            "preparing embedding matrix...\n",
            "(100000, 300)\n",
            "number of null word embeddings: 53092\n"
          ]
        }
      ],
      "source": [
        "#embedding matrix\n",
        "print('preparing embedding matrix...')\n",
        "max_nb_words = 100000\n",
        "fastText_embed_dim = 300 \n",
        "\n",
        "words_not_found = []\n",
        "nb_words = min(max_nb_words, len(word_index))\n",
        "fastText_embedding_matrix = np.zeros((nb_words, fastText_embed_dim))\n",
        "print(fastText_embedding_matrix .shape)\n",
        "\n",
        "for word, i in word_index.items():\n",
        "  \n",
        "  \n",
        "  if i >= nb_words:\n",
        "      continue\n",
        "  fastText_embedding_vector = fastText_embeddings_index.get(word)\n",
        "    #print(fastText_embedding_vector.shape)\n",
        "    \n",
        "  if (fastText_embedding_vector is not None) and len(fastText_embedding_vector) > 0 and len(fastText_embedding_vector)==300 :\n",
        "        # words not found in embedding index will be all-zeros.\n",
        "      fastText_embedding_matrix[i] = fastText_embedding_vector\n",
        "  else:\n",
        "      words_not_found.append(word)\n",
        "print('number of null word embeddings: %d' % np.sum(np.sum(fastText_embedding_matrix, axis=1) == 0))"
      ]
    },
    {
      "cell_type": "markdown",
      "metadata": {
        "id": "9N5twJkalIbI"
      },
      "source": [
        "## 1) Convolutional Neural Network (CNN) with FastText"
      ]
    },
    {
      "cell_type": "code",
      "execution_count": 53,
      "metadata": {
        "id": "ZmB4r7FblRqG"
      },
      "outputs": [],
      "source": [
        "from keras.models import Sequential\n",
        "CNN_FastText_model = Sequential([\n",
        "    Embedding(input_dim=fastText_embedding_matrix.shape[0], input_length=max_len, output_dim=fastText_embedding_matrix.shape[1],weights=[fastText_embedding_matrix], trainable=False),\n",
        "    SpatialDropout1D(0.5),\n",
        "    # ... 100 filters with a kernel size of 4 so that each convolution will consider a window of 4 word embeddings\n",
        "    Conv1D(filters=100, kernel_size=4, padding='same', activation='relu'),\n",
        "    #**batch normalization layer** normalizes the activations of the previous layer at each batch, \n",
        "    #i.e. applies a transformation that maintains the mean activation close to 0 and the activation standard deviation close to 1. \n",
        "    #It will be added after the activation function between a convolutional and a max-pooling layer.\n",
        "    BatchNormalization(),\n",
        "    GlobalMaxPool1D(),\n",
        "    Dropout(0.5),\n",
        "    Dense(50, activation = 'relu'),\n",
        "    Dense(6, activation = 'sigmoid')\n",
        "])"
      ]
    },
    {
      "cell_type": "code",
      "execution_count": 54,
      "metadata": {
        "id": "zuKSOTHmlUl-"
      },
      "outputs": [],
      "source": [
        "#Customized the evaluation to analyse the model in terms of accuracy and mean value accuracy\n",
        "def mean_pred(y_true, y_pred):\n",
        "    return K.mean(y_pred)"
      ]
    },
    {
      "cell_type": "code",
      "execution_count": 55,
      "metadata": {
        "id": "PopT5igalWC6"
      },
      "outputs": [],
      "source": [
        "CNN_FastText_model.compile(loss='binary_crossentropy', optimizer=Adam(0.01), metrics=['accuracy',Precision(), Recall(), AUC()])"
      ]
    },
    {
      "cell_type": "markdown",
      "metadata": {
        "id": "SdvXG6pY4--O"
      },
      "source": [
        "#### Visualize the Orchestrated CNN-FastText Model Architecture"
      ]
    },
    {
      "cell_type": "code",
      "execution_count": 56,
      "metadata": {
        "colab": {
          "base_uri": "https://localhost:8080/"
        },
        "id": "hO836PbUlagW",
        "outputId": "1c7c1e8d-17e8-4d0a-9584-fb63c7143c3c"
      },
      "outputs": [
        {
          "output_type": "stream",
          "name": "stdout",
          "text": [
            "Model: \"sequential\"\n",
            "_________________________________________________________________\n",
            " Layer (type)                Output Shape              Param #   \n",
            "=================================================================\n",
            " embedding (Embedding)       (None, 200, 300)          30000000  \n",
            "                                                                 \n",
            " spatial_dropout1d (SpatialD  (None, 200, 300)         0         \n",
            " ropout1D)                                                       \n",
            "                                                                 \n",
            " conv1d (Conv1D)             (None, 200, 100)          120100    \n",
            "                                                                 \n",
            " batch_normalization (BatchN  (None, 200, 100)         400       \n",
            " ormalization)                                                   \n",
            "                                                                 \n",
            " global_max_pooling1d (Globa  (None, 100)              0         \n",
            " lMaxPooling1D)                                                  \n",
            "                                                                 \n",
            " dropout (Dropout)           (None, 100)               0         \n",
            "                                                                 \n",
            " dense (Dense)               (None, 50)                5050      \n",
            "                                                                 \n",
            " dense_1 (Dense)             (None, 6)                 306       \n",
            "                                                                 \n",
            "=================================================================\n",
            "Total params: 30,125,856\n",
            "Trainable params: 125,656\n",
            "Non-trainable params: 30,000,200\n",
            "_________________________________________________________________\n"
          ]
        }
      ],
      "source": [
        "CNN_FastText_model.summary()"
      ]
    },
    {
      "cell_type": "code",
      "source": [
        "#convert the dataset train to Tensorflow tensor\n",
        "import torch\n",
        "X_new = np.delete(X_tra,[27728 ,52272 ,52272 ,52272 ,52272, 52272 ,52272 ,129919 ,129919 ,129919 ,129919 ,129919 ,129919], axis=0)\n",
        "Y_new = np.delete(y_tra,[27728 ,52272 ,52272 ,52272 ,52272, 52272 ,52272 ,129919 ,129919 ,129919 ,129919 ,129919 ,129919], axis=0)\n",
        "for i in range(Y_new.shape[0]):\n",
        "  for k in range(Y_new.shape[1]):\n",
        "    Y_new[i,k]=int(Y_new[i,k])\n",
        "    \n",
        "X_new=X_new.astype('float32')\n",
        "X_new=torch.from_numpy(X_new)\n",
        "\n",
        "Y_new=Y_new.astype(np.int32)\n",
        "Y_new=torch.from_numpy(Y_new)\n",
        "     \n",
        "X_new=tf.convert_to_tensor(X_new.numpy())\n",
        "Y_new=tf.convert_to_tensor(Y_new.numpy(), dtype=tf.int32)\n"
      ],
      "metadata": {
        "id": "86Hllx8EYr4X"
      },
      "execution_count": 57,
      "outputs": []
    },
    {
      "cell_type": "code",
      "source": [
        "#convert the dataset val to Tensorflow tensor\n",
        "X_new_val=X_val\n",
        "Y_new_val = y_val\n",
        "for i in range(Y_new_val.shape[0]):\n",
        "  for k in range(Y_new_val.shape[1]):\n",
        "    Y_new_val[i,k]=int(Y_new_val[i,k])\n",
        "    \n",
        "X_new_val=X_new_val.astype('float32')\n",
        "X_new_val=torch.from_numpy(X_new_val)\n",
        "\n",
        "Y_new_val=Y_new_val.astype(np.int32)\n",
        "Y_new_val=torch.from_numpy(Y_new_val)\n",
        "     \n",
        "X_new_val=tf.convert_to_tensor(X_new_val.numpy())\n",
        "Y_new_val=tf.convert_to_tensor(Y_new_val.numpy(), dtype=tf.int32)\n"
      ],
      "metadata": {
        "id": "s4N-t3Vfti6y"
      },
      "execution_count": 58,
      "outputs": []
    },
    {
      "cell_type": "code",
      "execution_count": 59,
      "metadata": {
        "colab": {
          "base_uri": "https://localhost:8080/"
        },
        "id": "9AWfMlUSldXp",
        "outputId": "8e10c67a-2b22-400f-940a-09b20c682553"
      },
      "outputs": [
        {
          "output_type": "stream",
          "name": "stdout",
          "text": [
            "Epoch 1/15\n",
            "561/561 [==============================] - 23s 20ms/step - loss: 0.1449 - accuracy: 0.9244 - precision: 0.4177 - recall: 0.0399 - auc: 0.8076 - val_loss: 0.1202 - val_accuracy: 0.9888 - val_precision: 1.0000 - val_recall: 0.0428 - val_auc: 0.8860\n",
            "Epoch 2/15\n",
            "561/561 [==============================] - 11s 19ms/step - loss: 0.1107 - accuracy: 0.9848 - precision: 0.8064 - recall: 0.1676 - auc: 0.8744 - val_loss: 0.0933 - val_accuracy: 0.9907 - val_precision: 0.9213 - val_recall: 0.2572 - val_auc: 0.9283\n",
            "Epoch 3/15\n",
            "561/561 [==============================] - 11s 19ms/step - loss: 0.0976 - accuracy: 0.9898 - precision: 0.7970 - recall: 0.2909 - auc: 0.9044 - val_loss: 0.0826 - val_accuracy: 0.9910 - val_precision: 0.8903 - val_recall: 0.3520 - val_auc: 0.9431\n",
            "Epoch 4/15\n",
            "561/561 [==============================] - 11s 20ms/step - loss: 0.0922 - accuracy: 0.9907 - precision: 0.8006 - recall: 0.3364 - auc: 0.9145 - val_loss: 0.0788 - val_accuracy: 0.9931 - val_precision: 0.9017 - val_recall: 0.3875 - val_auc: 0.9446\n",
            "Epoch 5/15\n",
            "561/561 [==============================] - 11s 19ms/step - loss: 0.0881 - accuracy: 0.9886 - precision: 0.7928 - recall: 0.3689 - auc: 0.9237 - val_loss: 0.0738 - val_accuracy: 0.9903 - val_precision: 0.8722 - val_recall: 0.4534 - val_auc: 0.9514\n",
            "Epoch 6/15\n",
            "561/561 [==============================] - 11s 20ms/step - loss: 0.0860 - accuracy: 0.9886 - precision: 0.7964 - recall: 0.3825 - auc: 0.9273 - val_loss: 0.0738 - val_accuracy: 0.9927 - val_precision: 0.8765 - val_recall: 0.4281 - val_auc: 0.9540\n",
            "Epoch 7/15\n",
            "561/561 [==============================] - 11s 20ms/step - loss: 0.0832 - accuracy: 0.9909 - precision: 0.7983 - recall: 0.4036 - auc: 0.9333 - val_loss: 0.0715 - val_accuracy: 0.9917 - val_precision: 0.8663 - val_recall: 0.4593 - val_auc: 0.9547\n",
            "Epoch 8/15\n",
            "561/561 [==============================] - 11s 20ms/step - loss: 0.0811 - accuracy: 0.9898 - precision: 0.7966 - recall: 0.4195 - auc: 0.9363 - val_loss: 0.0732 - val_accuracy: 0.9906 - val_precision: 0.8897 - val_recall: 0.4326 - val_auc: 0.9536\n",
            "Epoch 9/15\n",
            "561/561 [==============================] - 11s 20ms/step - loss: 0.0803 - accuracy: 0.9904 - precision: 0.7951 - recall: 0.4265 - auc: 0.9384 - val_loss: 0.0705 - val_accuracy: 0.9904 - val_precision: 0.8866 - val_recall: 0.4434 - val_auc: 0.9575\n",
            "Epoch 10/15\n",
            "561/561 [==============================] - 11s 20ms/step - loss: 0.0787 - accuracy: 0.9906 - precision: 0.8022 - recall: 0.4417 - auc: 0.9403 - val_loss: 0.0701 - val_accuracy: 0.9934 - val_precision: 0.8804 - val_recall: 0.4565 - val_auc: 0.9576\n",
            "Epoch 11/15\n",
            "561/561 [==============================] - 11s 20ms/step - loss: 0.0780 - accuracy: 0.9921 - precision: 0.7943 - recall: 0.4429 - auc: 0.9426 - val_loss: 0.0691 - val_accuracy: 0.9848 - val_precision: 0.8777 - val_recall: 0.4690 - val_auc: 0.9593\n",
            "Epoch 12/15\n",
            "561/561 [==============================] - 11s 20ms/step - loss: 0.0773 - accuracy: 0.9912 - precision: 0.8055 - recall: 0.4467 - auc: 0.9435 - val_loss: 0.0678 - val_accuracy: 0.9922 - val_precision: 0.8730 - val_recall: 0.4835 - val_auc: 0.9588\n",
            "Epoch 13/15\n",
            "561/561 [==============================] - 11s 20ms/step - loss: 0.0767 - accuracy: 0.9922 - precision: 0.7987 - recall: 0.4498 - auc: 0.9443 - val_loss: 0.0678 - val_accuracy: 0.9919 - val_precision: 0.8589 - val_recall: 0.4993 - val_auc: 0.9595\n",
            "Epoch 14/15\n",
            "561/561 [==============================] - 11s 20ms/step - loss: 0.0761 - accuracy: 0.9912 - precision: 0.7993 - recall: 0.4552 - auc: 0.9458 - val_loss: 0.0663 - val_accuracy: 0.9922 - val_precision: 0.8344 - val_recall: 0.5268 - val_auc: 0.9636\n",
            "Epoch 15/15\n",
            "561/561 [==============================] - 11s 20ms/step - loss: 0.0756 - accuracy: 0.9906 - precision: 0.8029 - recall: 0.4652 - auc: 0.9457 - val_loss: 0.0661 - val_accuracy: 0.9933 - val_precision: 0.8217 - val_recall: 0.5482 - val_auc: 0.9638\n"
          ]
        }
      ],
      "source": [
        "CNN_FastText_model_fit = CNN_FastText_model.fit(X_new, Y_new, batch_size=batch_size2, epochs=num_epochs, validation_data=(X_new_val, Y_new_val), callbacks=[early])"
      ]
    },
    {
      "cell_type": "code",
      "source": [
        "#Convert the all dataset train to Tensorflow tensor\n",
        "l=[]\n",
        "for i in range(y_train.shape[0]):\n",
        "  for k in range(y_train.shape[1]):\n",
        "    if type(y_train[i,k]) is not float and type(y_train[i,k]) is not int :\n",
        "      if y_train[i,k]!='0' and y_train[i,k]!='1':\n",
        "        l+=[i]\n",
        "        \n",
        "a,b=X_train,y_train\n",
        "a = np.delete(a,l, axis=0)\n",
        "b = np.delete(b,l, axis=0)\n",
        "\n",
        "a=a.astype(np.int32)\n",
        "a=torch.from_numpy(a)\n",
        "\n",
        "b=b.astype(np.int32)\n",
        "b=torch.from_numpy(b)\n",
        "     \n",
        "b=tf.convert_to_tensor(b.numpy())\n",
        "a=tf.convert_to_tensor(a.numpy(), dtype=tf.float32)\n"
      ],
      "metadata": {
        "id": "Dm0RK_Bfvtc0"
      },
      "execution_count": 60,
      "outputs": []
    },
    {
      "cell_type": "markdown",
      "metadata": {
        "id": "PIp84-0R5Gdr"
      },
      "source": [
        "#### Evaluate the CNN+fastText Model accuracy of our trained model"
      ]
    },
    {
      "cell_type": "code",
      "execution_count": 61,
      "metadata": {
        "colab": {
          "base_uri": "https://localhost:8080/"
        },
        "id": "8MP6iO-3lgBe",
        "outputId": "38188cf8-20fe-42d8-c6e6-09b44db11827"
      },
      "outputs": [
        {
          "output_type": "stream",
          "name": "stdout",
          "text": [
            "624/624 [==============================] - 5s 8ms/step - loss: 0.0619 - accuracy: 0.9941 - precision: 0.8181 - recall: 0.5678 - auc: 0.9701\n",
            "Train Loss: 0.06189849227666855\n",
            "Train Accuracy: 0.9941216111183167\n"
          ]
        }
      ],
      "source": [
        "CNN_FastText_train_score = CNN_FastText_model.evaluate(a, b, batch_size=batch_size2, verbose=1)\n",
        "print('Train Loss:', CNN_FastText_train_score[0])\n",
        "print('Train Accuracy:', CNN_FastText_train_score[1])"
      ]
    },
    {
      "cell_type": "code",
      "source": [
        "l1=[]\n",
        "for i in range(y_test.shape[0]):\n",
        "  for k in range(y_test.shape[1]):\n",
        "    if type(y_test[i,k]) is not float and type(y_test[i,k]) is not np.int64 :\n",
        "      if y_test[i,k]!='0' and y_test[i,k]!='1':\n",
        "        l1+=[i]\n",
        "       \n",
        "        "
      ],
      "metadata": {
        "id": "eSJ-Pjlq2uaq"
      },
      "execution_count": 62,
      "outputs": []
    },
    {
      "cell_type": "code",
      "source": [
        "#convert the all dataset test to Tensorflow Tensor\n",
        "c,d=X_test,y_test\n",
        "c = np.delete(c,l1, axis=0)\n",
        "d = np.delete(d,l1, axis=0)\n",
        "\n",
        "c=c.astype(np.int32)\n",
        "c=torch.from_numpy(c)\n",
        "\n",
        "d=d.astype(np.int32)\n",
        "d=torch.from_numpy(d)\n",
        "     \n",
        "d=tf.convert_to_tensor(d.numpy())\n",
        "c=tf.convert_to_tensor(c.numpy(), dtype=tf.float32)"
      ],
      "metadata": {
        "id": "SI3-rqaF2_Zn"
      },
      "execution_count": 63,
      "outputs": []
    },
    {
      "cell_type": "markdown",
      "metadata": {
        "id": "4BFe8BG55XLe"
      },
      "source": [
        "#### Evaluate the CNN+FastText accuracy base our test samples"
      ]
    },
    {
      "cell_type": "code",
      "execution_count": 64,
      "metadata": {
        "colab": {
          "base_uri": "https://localhost:8080/"
        },
        "id": "wF-E-YfXlifj",
        "outputId": "324f9b38-bc81-4c67-e80d-4ff6f4371332"
      },
      "outputs": [
        {
          "output_type": "stream",
          "name": "stdout",
          "text": [
            "25/25 [==============================] - 1s 10ms/step - loss: 0.5371 - accuracy: 0.9751 - precision: 0.8433 - recall: 0.5376 - auc: 0.8505\n",
            "Test Loss: 0.06189849227666855\n",
            "Test Accuracy: 0.9941216111183167\n"
          ]
        }
      ],
      "source": [
        "CNN_FastText_test_score = CNN_FastText_model.evaluate(X_test, y_test, batch_size=batch_size2, verbose=1)\n",
        "print('Test Loss:', CNN_FastText_train_score[0])\n",
        "print('Test Accuracy:', CNN_FastText_train_score[1])"
      ]
    },
    {
      "cell_type": "code",
      "execution_count": 65,
      "metadata": {
        "colab": {
          "base_uri": "https://localhost:8080/"
        },
        "id": "hosf_OzalksO",
        "outputId": "4a280d14-d48d-475d-ac05-6d9281c58174"
      },
      "outputs": [
        {
          "output_type": "stream",
          "name": "stdout",
          "text": [
            "Predicting....\n",
            "25/25 [==============================] - 0s 6ms/step\n"
          ]
        }
      ],
      "source": [
        "#Predicting......\n",
        "print('Predicting....')\n",
        "y_pred = CNN_FastText_model.predict(X_test,batch_size=batch_size2,verbose=1)"
      ]
    },
    {
      "cell_type": "markdown",
      "metadata": {
        "id": "-iw7SM-W5gxr"
      },
      "source": [
        "#### Plot Training & Validation Accuracy with the Loss values of the CNN-FastText Model"
      ]
    },
    {
      "cell_type": "code",
      "execution_count": 66,
      "metadata": {
        "colab": {
          "base_uri": "https://localhost:8080/",
          "height": 527
        },
        "id": "nNQYtI4LloSs",
        "outputId": "43aaa353-0518-46c7-b485-8859e52f7881"
      },
      "outputs": [
        {
          "output_type": "display_data",
          "data": {
            "text/plain": [
              "<Figure size 800x550 with 1 Axes>"
            ],
            "image/png": "[encoded data removed]"
          },
          "metadata": {}
        }
      ],
      "source": [
        "# Plot training & validation accuracy values\n",
        "plt.plot(CNN_FastText_model_fit.history['accuracy'])\n",
        "plt.plot(CNN_FastText_model_fit.history['val_accuracy'])\n",
        "plt.title('CNN-FastText Model accuracy')\n",
        "plt.ylabel('Accuracy')\n",
        "plt.xlabel('Epoch')\n",
        "plt.legend(['Training Accuracy', 'Validation Accuracy'], loc='upper left')\n",
        "plt.show()"
      ]
    },
    {
      "cell_type": "code",
      "execution_count": 67,
      "metadata": {
        "colab": {
          "base_uri": "https://localhost:8080/",
          "height": 527
        },
        "id": "u4TIrrZNlp2Z",
        "outputId": "696e7047-7184-4618-adf4-86e909990971"
      },
      "outputs": [
        {
          "output_type": "display_data",
          "data": {
            "text/plain": [
              "<Figure size 800x550 with 1 Axes>"
            ],
            "image/png": "[encoded data removed]"
          },
          "metadata": {}
        }
      ],
      "source": [
        "# Plot training & validation loss values\n",
        "plt.plot(CNN_FastText_model_fit.history['loss'])\n",
        "plt.plot(CNN_FastText_model_fit.history['val_loss'])\n",
        "plt.title('CNN-FastText Model loss')\n",
        "plt.ylabel('Loss')\n",
        "plt.xlabel('Epoch')\n",
        "plt.legend(['Training Loss', 'Validation Loss'], loc='lower right')\n",
        "plt.show()"
      ]
    },
    {
      "cell_type": "markdown",
      "metadata": {
        "id": "q9LGffb2l7JW"
      },
      "source": [
        "## 2) Recurrent Neural Network (RNN) with FastText"
      ]
    },
    {
      "cell_type": "code",
      "execution_count": 68,
      "metadata": {
        "id": "WeuwCt6Jl93r"
      },
      "outputs": [],
      "source": [
        "RNN_FastText_model = Sequential([\n",
        "    Embedding(input_dim =fastText_embedding_matrix.shape[0], input_length=max_len, output_dim=fastText_embedding_matrix.shape[1],weights=[fastText_embedding_matrix], trainable=False),\n",
        "    SpatialDropout1D(0.5),\n",
        "    #Fully-connected RNN where the output is to be fed back to input.\n",
        "    SimpleRNN(25, return_sequences=True),\n",
        "    #**batch normalization layer** normalizes the activations of the previous layer at each batch, \n",
        "    #i.e. applies a transformation that maintains the mean activation close to 0 and the activation standard deviation close to 1. \n",
        "    BatchNormalization(),\n",
        "    Dropout(0.5),\n",
        "    GlobalMaxPool1D(),\n",
        "    Dense(50, activation = 'relu'),\n",
        "    Dense(6, activation = 'sigmoid')\n",
        "])"
      ]
    },
    {
      "cell_type": "code",
      "execution_count": 69,
      "metadata": {
        "id": "tamCBt2emBZq"
      },
      "outputs": [],
      "source": [
        "#Customized the evaluation to analyse the model in terms of accuracy and mean value accuracy\n",
        "def mean_pred(y_true, y_pred):\n",
        "    return K.mean(y_pred)"
      ]
    },
    {
      "cell_type": "code",
      "execution_count": 70,
      "metadata": {
        "id": "j9SFCjfNmEyi"
      },
      "outputs": [],
      "source": [
        "RNN_FastText_model.compile(loss='binary_crossentropy', optimizer=Adam(0.01), metrics=['accuracy',Precision(), Recall(), AUC()])"
      ]
    },
    {
      "cell_type": "markdown",
      "metadata": {
        "id": "RrZEKX2M5sJf"
      },
      "source": [
        "#### Visualize the Orchestrated RNN-fastText Model Architecture"
      ]
    },
    {
      "cell_type": "code",
      "execution_count": 71,
      "metadata": {
        "colab": {
          "base_uri": "https://localhost:8080/"
        },
        "id": "tmrQckJBmHp5",
        "outputId": "91034e9d-e96b-40ea-f86e-dc3303d417f4"
      },
      "outputs": [
        {
          "output_type": "stream",
          "name": "stdout",
          "text": [
            "Model: \"sequential_1\"\n",
            "_________________________________________________________________\n",
            " Layer (type)                Output Shape              Param #   \n",
            "=================================================================\n",
            " embedding_1 (Embedding)     (None, 200, 300)          30000000  \n",
            "                                                                 \n",
            " spatial_dropout1d_1 (Spatia  (None, 200, 300)         0         \n",
            " lDropout1D)                                                     \n",
            "                                                                 \n",
            " simple_rnn (SimpleRNN)      (None, 200, 25)           8150      \n",
            "                                                                 \n",
            " batch_normalization_1 (Batc  (None, 200, 25)          100       \n",
            " hNormalization)                                                 \n",
            "                                                                 \n",
            " dropout_1 (Dropout)         (None, 200, 25)           0         \n",
            "                                                                 \n",
            " global_max_pooling1d_1 (Glo  (None, 25)               0         \n",
            " balMaxPooling1D)                                                \n",
            "                                                                 \n",
            " dense_2 (Dense)             (None, 50)                1300      \n",
            "                                                                 \n",
            " dense_3 (Dense)             (None, 6)                 306       \n",
            "                                                                 \n",
            "=================================================================\n",
            "Total params: 30,009,856\n",
            "Trainable params: 9,806\n",
            "Non-trainable params: 30,000,050\n",
            "_________________________________________________________________\n"
          ]
        }
      ],
      "source": [
        "RNN_FastText_model.summary()"
      ]
    },
    {
      "cell_type": "code",
      "execution_count": 72,
      "metadata": {
        "colab": {
          "base_uri": "https://localhost:8080/"
        },
        "id": "ctx9GqvmmpHy",
        "outputId": "36f4b1ca-5860-4b0f-dfc9-b353cb5de658"
      },
      "outputs": [
        {
          "output_type": "stream",
          "name": "stdout",
          "text": [
            "Epoch 1/15\n",
            "561/561 [==============================] - 113s 199ms/step - loss: 0.1431 - accuracy: 0.9653 - precision_1: 0.0585 - recall_1: 0.0015 - auc_1: 0.7816 - val_loss: 0.1778 - val_accuracy: 0.9320 - val_precision_1: 0.0000e+00 - val_recall_1: 0.0000e+00 - val_auc_1: 0.8077\n",
            "Epoch 2/15\n",
            "561/561 [==============================] - 104s 185ms/step - loss: 0.1209 - accuracy: 0.9882 - precision_1: 0.7687 - recall_1: 0.0967 - auc_1: 0.8463 - val_loss: 0.1739 - val_accuracy: 0.9934 - val_precision_1: 0.4530 - val_recall_1: 0.2238 - val_auc_1: 0.8854\n",
            "Epoch 3/15\n",
            "561/561 [==============================] - 108s 193ms/step - loss: 0.1231 - accuracy: 0.9561 - precision_1: 0.7353 - recall_1: 0.1035 - auc_1: 0.8399 - val_loss: 0.1322 - val_accuracy: 0.9934 - val_precision_1: 0.7089 - val_recall_1: 0.0156 - val_auc_1: 0.8794\n",
            "Epoch 4/15\n",
            "561/561 [==============================] - 105s 186ms/step - loss: 0.1049 - accuracy: 0.9926 - precision_1: 0.8025 - recall_1: 0.2283 - auc_1: 0.8867 - val_loss: 0.1291 - val_accuracy: 0.9934 - val_precision_1: 0.8566 - val_recall_1: 0.3339 - val_auc_1: 0.9247\n",
            "Epoch 5/15\n",
            "561/561 [==============================] - 104s 186ms/step - loss: 0.1019 - accuracy: 0.9929 - precision_1: 0.8046 - recall_1: 0.2558 - auc_1: 0.8929 - val_loss: 0.1267 - val_accuracy: 0.9934 - val_precision_1: 0.8500 - val_recall_1: 0.3703 - val_auc_1: 0.9283\n",
            "Epoch 6/15\n",
            "561/561 [==============================] - 104s 186ms/step - loss: 0.0986 - accuracy: 0.9940 - precision_1: 0.7989 - recall_1: 0.2831 - auc_1: 0.9007 - val_loss: 0.1090 - val_accuracy: 0.9932 - val_precision_1: 0.8470 - val_recall_1: 0.3617 - val_auc_1: 0.9292\n",
            "Epoch 7/15\n",
            "561/561 [==============================] - 103s 184ms/step - loss: 0.1003 - accuracy: 0.9933 - precision_1: 0.7787 - recall_1: 0.2718 - auc_1: 0.8984 - val_loss: 0.1090 - val_accuracy: 0.9934 - val_precision_1: 0.9048 - val_recall_1: 0.1004 - val_auc_1: 0.9125\n",
            "Epoch 8/15\n",
            "561/561 [==============================] - 105s 187ms/step - loss: 0.0996 - accuracy: 0.9929 - precision_1: 0.7949 - recall_1: 0.2756 - auc_1: 0.8987 - val_loss: 0.1338 - val_accuracy: 0.9934 - val_precision_1: 0.8740 - val_recall_1: 0.3125 - val_auc_1: 0.9133\n",
            "Epoch 9/15\n",
            "561/561 [==============================] - 104s 186ms/step - loss: 0.0991 - accuracy: 0.9930 - precision_1: 0.8089 - recall_1: 0.2748 - auc_1: 0.9001 - val_loss: 0.1374 - val_accuracy: 0.9934 - val_precision_1: 0.7626 - val_recall_1: 0.3420 - val_auc_1: 0.9169\n",
            "Epoch 10/15\n",
            "561/561 [==============================] - 104s 186ms/step - loss: 0.0984 - accuracy: 0.9929 - precision_1: 0.7955 - recall_1: 0.2789 - auc_1: 0.9022 - val_loss: 0.1102 - val_accuracy: 0.9934 - val_precision_1: 0.8540 - val_recall_1: 0.3383 - val_auc_1: 0.9296\n",
            "Epoch 11/15\n",
            "561/561 [==============================] - 104s 186ms/step - loss: 0.1001 - accuracy: 0.9933 - precision_1: 0.7935 - recall_1: 0.2714 - auc_1: 0.8984 - val_loss: 0.1124 - val_accuracy: 0.9922 - val_precision_1: 0.8769 - val_recall_1: 0.2950 - val_auc_1: 0.9249\n"
          ]
        }
      ],
      "source": [
        "RNN_FastText_model_fit = RNN_FastText_model.fit(X_new, Y_new, batch_size=batch_size2, epochs=num_epochs, validation_data=(X_new_val, Y_new_val), callbacks=[early])"
      ]
    },
    {
      "cell_type": "markdown",
      "metadata": {
        "id": "YNxYlxFu50eB"
      },
      "source": [
        "#### Evaluate the RNN+fastText Model accuracy of our trained model"
      ]
    },
    {
      "cell_type": "code",
      "execution_count": 73,
      "metadata": {
        "colab": {
          "base_uri": "https://localhost:8080/"
        },
        "id": "wh1TsqbcmM29",
        "outputId": "a00e7e88-51c9-463e-a84b-beffd1350c99"
      },
      "outputs": [
        {
          "output_type": "stream",
          "name": "stdout",
          "text": [
            "25/25 [==============================] - 2s 19ms/step - loss: 0.6727 - accuracy: 0.9644 - precision_1: 0.9025 - recall_1: 0.2660 - auc_1: 0.8631\n",
            "Train Loss: 0.672666609287262\n",
            "Train Accuracy: 0.9643888473510742\n"
          ]
        }
      ],
      "source": [
        "RNN_FastText_train_score = RNN_FastText_model.evaluate(X_test, y_test, batch_size=batch_size2, verbose=1)\n",
        "print('Train Loss:', RNN_FastText_train_score[0])\n",
        "print('Train Accuracy:', RNN_FastText_train_score[1])"
      ]
    },
    {
      "cell_type": "markdown",
      "metadata": {
        "id": "cgb9w2zi5-os"
      },
      "source": [
        "#### Evaluate the RNN+FastText accuracy base our test samples"
      ]
    },
    {
      "cell_type": "code",
      "execution_count": 74,
      "metadata": {
        "colab": {
          "base_uri": "https://localhost:8080/"
        },
        "id": "3W0b4Zb_mPeC",
        "outputId": "9f304f8b-948c-4fcc-b0a0-d58fc672cfe5"
      },
      "outputs": [
        {
          "output_type": "stream",
          "name": "stdout",
          "text": [
            "25/25 [==============================] - 1s 20ms/step - loss: 0.6727 - accuracy: 0.9644 - precision_1: 0.9025 - recall_1: 0.2660 - auc_1: 0.8631\n",
            "Test Loss: 0.672666609287262\n",
            "Test Accuracy: 0.9643888473510742\n"
          ]
        }
      ],
      "source": [
        "RNN_FastText_test_score = RNN_FastText_model.evaluate(X_test, y_test, batch_size=batch_size2, verbose=1)\n",
        "print('Test Loss:', RNN_FastText_test_score[0])\n",
        "print('Test Accuracy:', RNN_FastText_test_score[1])"
      ]
    },
    {
      "cell_type": "code",
      "execution_count": 75,
      "metadata": {
        "colab": {
          "base_uri": "https://localhost:8080/"
        },
        "id": "CiyCdGSVmSXL",
        "outputId": "076582c4-7363-4495-8ca8-4fffc7e95315"
      },
      "outputs": [
        {
          "output_type": "stream",
          "name": "stdout",
          "text": [
            "Predicting....\n",
            "25/25 [==============================] - 1s 18ms/step\n"
          ]
        }
      ],
      "source": [
        "#Predicting......\n",
        "print('Predicting....')\n",
        "y_pred = RNN_FastText_model.predict(X_test,batch_size=batch_size2,verbose=1)"
      ]
    },
    {
      "cell_type": "markdown",
      "metadata": {
        "id": "ITS1jjpo6H8L"
      },
      "source": [
        "#### Plot Training & Validation Accuracy with the Loss values of the RNN-fastText Model"
      ]
    },
    {
      "cell_type": "code",
      "execution_count": 76,
      "metadata": {
        "colab": {
          "base_uri": "https://localhost:8080/",
          "height": 527
        },
        "id": "2o5qqWHvmVIE",
        "outputId": "352f5cc4-1368-4914-a22c-9d70dee23bc6"
      },
      "outputs": [
        {
          "output_type": "display_data",
          "data": {
            "text/plain": [
              "<Figure size 800x550 with 1 Axes>"
            ],
            "image/png": "[encoded data removed]"
          },
          "metadata": {}
        }
      ],
      "source": [
        "# Plot training & validation accuracy values\n",
        "plt.plot(RNN_FastText_model_fit.history['accuracy'])\n",
        "plt.plot(RNN_FastText_model_fit.history['val_accuracy'])\n",
        "plt.title('CNN-FastText Model accuracy')\n",
        "plt.ylabel('Accuracy')\n",
        "plt.xlabel('Epoch')\n",
        "plt.legend(['Training Accuracy', 'Validation Accuracy'], loc='upper left')\n",
        "plt.show()"
      ]
    },
    {
      "cell_type": "code",
      "execution_count": 77,
      "metadata": {
        "colab": {
          "base_uri": "https://localhost:8080/",
          "height": 527
        },
        "id": "OWdqH-PqmWZJ",
        "outputId": "5e4404d6-cc8a-494c-e8f9-d45f48470621"
      },
      "outputs": [
        {
          "output_type": "display_data",
          "data": {
            "text/plain": [
              "<Figure size 800x550 with 1 Axes>"
            ],
            "image/png": "[encoded data removed]"
          },
          "metadata": {}
        }
      ],
      "source": [
        "# Plot training & validation loss values\n",
        "plt.plot(RNN_FastText_model_fit.history['loss'])\n",
        "plt.plot(RNN_FastText_model_fit.history['val_loss'])\n",
        "plt.title('CNN-FastText Model loss')\n",
        "plt.ylabel('Loss')\n",
        "plt.xlabel('Epoch')\n",
        "plt.legend(['Training Loss', 'Validation Loss'], loc='lower right')\n",
        "plt.show()"
      ]
    },
    {
      "cell_type": "code",
      "source": [
        "# predict probabilities for test set\n",
        "yhat_probs = RNN_FastText_model.predict(X_test, verbose=1)\n",
        "print(yhat_probs)\n",
        "# predict crisp classes for test set\n",
        "\n",
        "yhat_classes=tf.argmax(yhat_probs, axis=1)\n",
        "print(yhat_classes.shape)"
      ],
      "metadata": {
        "colab": {
          "base_uri": "https://localhost:8080/"
        },
        "id": "gSQPu7J-_HJs",
        "outputId": "08ccac42-455c-4635-9938-f28566f54398"
      },
      "execution_count": 78,
      "outputs": [
        {
          "output_type": "stream",
          "name": "stdout",
          "text": [
            "195/195 [==============================] - 3s 17ms/step\n",
            "[[0.10058546 0.00631893 0.05973652 0.00535431 0.05038078 0.01452835]\n",
            " [0.21366213 0.02840186 0.14528811 0.01306847 0.14156348 0.03392889]\n",
            " [0.87133753 0.297003   0.8160607  0.04684081 0.64441854 0.1309197 ]\n",
            " ...\n",
            " [0.13807847 0.01315743 0.083821   0.00709721 0.08185099 0.02043808]\n",
            " [0.18698566 0.01690127 0.19120367 0.0123844  0.11016166 0.02853548]\n",
            " [0.68786955 0.24153191 0.6399704  0.05038165 0.52580667 0.1250551 ]]\n",
            "(6234,)\n"
          ]
        }
      ]
    },
    {
      "cell_type": "code",
      "source": [
        "test=np.zeros(yhat_classes.shape[0])\n",
        "for i in range(yhat_classes.shape[0]):\n",
        "  if y_test[i,yhat_classes[i]]!=1:\n",
        "    test[i]=tf.argmax(y_test[i,])\n",
        "  else:\n",
        "    test[i]= yhat_classes[i] \n"
      ],
      "metadata": {
        "id": "TAbARWIRzdJF"
      },
      "execution_count": 79,
      "outputs": []
    },
    {
      "cell_type": "code",
      "execution_count": 80,
      "metadata": {
        "id": "VsxfIGS5DTBy",
        "outputId": "d11efb5d-8051-4fc0-a747-68d8831d5f75",
        "colab": {
          "base_uri": "https://localhost:8080/"
        }
      },
      "outputs": [
        {
          "output_type": "stream",
          "name": "stdout",
          "text": [
            "Accuracy: 0.973853\n",
            "Precision: 0.359995\n",
            "Recall: 0.297989\n",
            "F1 score: 0.320573\n"
          ]
        },
        {
          "output_type": "stream",
          "name": "stderr",
          "text": [
            "/usr/local/lib/python3.10/dist-packages/sklearn/metrics/_classification.py:1344: UndefinedMetricWarning: Precision is ill-defined and being set to 0.0 in labels with no predicted samples. Use `zero_division` parameter to control this behavior.\n",
            "  _warn_prf(average, modifier, msg_start, len(result))\n"
          ]
        }
      ],
      "source": [
        "# accuracy: (tp + tn) / (p + n)\n",
        "accuracy = accuracy_score(test, yhat_classes)\n",
        "print('Accuracy: %f' % accuracy)\n",
        "# precision tp / (tp + fp)\n",
        "precision = precision_score(test, yhat_classes,average='macro')\n",
        "print('Precision: %f' % precision)\n",
        "# recall: tp / (tp + fn)\n",
        "recall = recall_score(test, yhat_classes,average='macro')\n",
        "print('Recall: %f' % recall)\n",
        "# f1: 2 tp / (2 tp + fp + fn)\n",
        "f1 = f1_score(test, yhat_classes,average='macro')\n",
        "print('F1 score: %f' % f1)"
      ]
    },
    {
      "cell_type": "markdown",
      "metadata": {
        "id": "TwhPf8cEQ8ub"
      },
      "source": [
        "## 3) LSTM with fastText"
      ]
    },
    {
      "cell_type": "code",
      "execution_count": 81,
      "metadata": {
        "id": "cBhUz43qRAd-"
      },
      "outputs": [],
      "source": [
        "LSTM_FastText_model = Sequential([\n",
        "    Embedding(input_dim =fastText_embedding_matrix.shape[0], input_length=max_len, output_dim=fastText_embedding_matrix.shape[1],weights=[fastText_embedding_matrix], trainable=False),\n",
        "    SpatialDropout1D(0.5),\n",
        "    #Bidirectional layer will enable our model to predict a missing word in a sequence, \n",
        "    #So, using this feature will enable the model to look at the context on both the left and the right.\n",
        "    LSTM(25, return_sequences=True),\n",
        "    #**batch normalization layer** normalizes the activations of the previous layer at each batch, \n",
        "    #i.e. applies a transformation that maintains the mean activation close to 0 and the activation standard deviation close to 1. \n",
        "    BatchNormalization(),\n",
        "    Dropout(0.5),\n",
        "    GlobalMaxPool1D(),\n",
        "    Dense(50, activation = 'relu'),\n",
        "    Dense(6, activation = 'sigmoid')\n",
        "])\n",
        "\n",
        "LSTM_FastText_model.compile(loss='binary_crossentropy', optimizer=Adam(0.01), metrics=['accuracy',Precision(), Recall(), AUC()])"
      ]
    },
    {
      "cell_type": "markdown",
      "metadata": {
        "id": "rxBsAAvSRJ4E"
      },
      "source": [
        "### Visualize the Orchestrated LSTM-fastText Model Architecture"
      ]
    },
    {
      "cell_type": "code",
      "execution_count": 82,
      "metadata": {
        "colab": {
          "base_uri": "https://localhost:8080/"
        },
        "id": "KSPpdc_ORVxa",
        "outputId": "aa5f0c5e-0580-4ce6-d881-c1e40ca60724"
      },
      "outputs": [
        {
          "output_type": "stream",
          "name": "stdout",
          "text": [
            "Model: \"sequential_2\"\n",
            "_________________________________________________________________\n",
            " Layer (type)                Output Shape              Param #   \n",
            "=================================================================\n",
            " embedding_2 (Embedding)     (None, 200, 300)          30000000  \n",
            "                                                                 \n",
            " spatial_dropout1d_2 (Spatia  (None, 200, 300)         0         \n",
            " lDropout1D)                                                     \n",
            "                                                                 \n",
            " lstm (LSTM)                 (None, 200, 25)           32600     \n",
            "                                                                 \n",
            " batch_normalization_2 (Batc  (None, 200, 25)          100       \n",
            " hNormalization)                                                 \n",
            "                                                                 \n",
            " dropout_2 (Dropout)         (None, 200, 25)           0         \n",
            "                                                                 \n",
            " global_max_pooling1d_2 (Glo  (None, 25)               0         \n",
            " balMaxPooling1D)                                                \n",
            "                                                                 \n",
            " dense_4 (Dense)             (None, 50)                1300      \n",
            "                                                                 \n",
            " dense_5 (Dense)             (None, 6)                 306       \n",
            "                                                                 \n",
            "=================================================================\n",
            "Total params: 30,034,306\n",
            "Trainable params: 34,256\n",
            "Non-trainable params: 30,000,050\n",
            "_________________________________________________________________\n"
          ]
        }
      ],
      "source": [
        "LSTM_FastText_model.summary()\n"
      ]
    },
    {
      "cell_type": "code",
      "execution_count": 83,
      "metadata": {
        "colab": {
          "base_uri": "https://localhost:8080/"
        },
        "id": "keT2uPLzUwm1",
        "outputId": "8a9f4bf7-f3c3-44d4-cca0-cc8cfaae2728"
      },
      "outputs": [
        {
          "output_type": "stream",
          "name": "stdout",
          "text": [
            "Epoch 1/15\n",
            "561/561 [==============================] - 13s 17ms/step - loss: 0.1077 - accuracy: 0.9654 - precision_2: 0.7343 - recall_2: 0.2406 - auc_2: 0.8833 - val_loss: 0.1044 - val_accuracy: 0.9929 - val_precision_2: 0.9233 - val_recall_2: 0.2914 - val_auc_2: 0.9412\n",
            "Epoch 2/15\n",
            "561/561 [==============================] - 9s 16ms/step - loss: 0.0842 - accuracy: 0.9928 - precision_2: 0.8023 - recall_2: 0.3996 - auc_2: 0.9293 - val_loss: 0.0950 - val_accuracy: 0.9934 - val_precision_2: 0.8670 - val_recall_2: 0.4493 - val_auc_2: 0.9558\n",
            "Epoch 3/15\n",
            "561/561 [==============================] - 8s 15ms/step - loss: 0.0793 - accuracy: 0.9939 - precision_2: 0.8050 - recall_2: 0.4346 - auc_2: 0.9384 - val_loss: 0.0932 - val_accuracy: 0.9934 - val_precision_2: 0.8374 - val_recall_2: 0.5082 - val_auc_2: 0.9618\n",
            "Epoch 4/15\n",
            "561/561 [==============================] - 9s 15ms/step - loss: 0.0770 - accuracy: 0.9941 - precision_2: 0.8062 - recall_2: 0.4459 - auc_2: 0.9424 - val_loss: 0.0938 - val_accuracy: 0.9934 - val_precision_2: 0.8242 - val_recall_2: 0.5254 - val_auc_2: 0.9640\n",
            "Epoch 5/15\n",
            "561/561 [==============================] - 9s 16ms/step - loss: 0.0757 - accuracy: 0.9942 - precision_2: 0.8052 - recall_2: 0.4531 - auc_2: 0.9451 - val_loss: 0.0773 - val_accuracy: 0.9934 - val_precision_2: 0.8440 - val_recall_2: 0.5263 - val_auc_2: 0.9661\n",
            "Epoch 6/15\n",
            "561/561 [==============================] - 9s 15ms/step - loss: 0.0746 - accuracy: 0.9940 - precision_2: 0.8060 - recall_2: 0.4572 - auc_2: 0.9470 - val_loss: 0.0728 - val_accuracy: 0.9934 - val_precision_2: 0.8389 - val_recall_2: 0.5430 - val_auc_2: 0.9670\n",
            "Epoch 7/15\n",
            "561/561 [==============================] - 9s 15ms/step - loss: 0.0735 - accuracy: 0.9942 - precision_2: 0.8090 - recall_2: 0.4645 - auc_2: 0.9488 - val_loss: 0.0782 - val_accuracy: 0.9934 - val_precision_2: 0.8634 - val_recall_2: 0.5096 - val_auc_2: 0.9642\n",
            "Epoch 8/15\n",
            "561/561 [==============================] - 9s 16ms/step - loss: 0.0722 - accuracy: 0.9942 - precision_2: 0.8075 - recall_2: 0.4774 - auc_2: 0.9514 - val_loss: 0.0722 - val_accuracy: 0.9934 - val_precision_2: 0.8303 - val_recall_2: 0.5591 - val_auc_2: 0.9676\n",
            "Epoch 9/15\n",
            "561/561 [==============================] - 9s 16ms/step - loss: 0.0723 - accuracy: 0.9942 - precision_2: 0.8041 - recall_2: 0.4783 - auc_2: 0.9509 - val_loss: 0.0678 - val_accuracy: 0.9934 - val_precision_2: 0.8810 - val_recall_2: 0.5165 - val_auc_2: 0.9692\n",
            "Epoch 10/15\n",
            "561/561 [==============================] - 8s 15ms/step - loss: 0.0714 - accuracy: 0.9942 - precision_2: 0.8096 - recall_2: 0.4869 - auc_2: 0.9514 - val_loss: 0.0681 - val_accuracy: 0.9934 - val_precision_2: 0.8467 - val_recall_2: 0.5574 - val_auc_2: 0.9702\n",
            "Epoch 11/15\n",
            "561/561 [==============================] - 9s 16ms/step - loss: 0.0714 - accuracy: 0.9942 - precision_2: 0.8112 - recall_2: 0.4823 - auc_2: 0.9521 - val_loss: 0.0647 - val_accuracy: 0.9934 - val_precision_2: 0.8758 - val_recall_2: 0.5060 - val_auc_2: 0.9673\n",
            "Epoch 12/15\n",
            "561/561 [==============================] - 9s 15ms/step - loss: 0.0709 - accuracy: 0.9942 - precision_2: 0.8138 - recall_2: 0.4863 - auc_2: 0.9528 - val_loss: 0.0637 - val_accuracy: 0.9934 - val_precision_2: 0.8771 - val_recall_2: 0.4979 - val_auc_2: 0.9670\n",
            "Epoch 13/15\n",
            "561/561 [==============================] - 9s 15ms/step - loss: 0.0702 - accuracy: 0.9941 - precision_2: 0.8122 - recall_2: 0.4935 - auc_2: 0.9537 - val_loss: 0.0641 - val_accuracy: 0.9934 - val_precision_2: 0.8637 - val_recall_2: 0.5318 - val_auc_2: 0.9683\n",
            "Epoch 14/15\n",
            "561/561 [==============================] - 9s 16ms/step - loss: 0.0698 - accuracy: 0.9940 - precision_2: 0.8088 - recall_2: 0.4951 - auc_2: 0.9543 - val_loss: 0.0632 - val_accuracy: 0.9934 - val_precision_2: 0.8839 - val_recall_2: 0.4996 - val_auc_2: 0.9682\n",
            "Epoch 15/15\n",
            "561/561 [==============================] - 9s 16ms/step - loss: 0.0701 - accuracy: 0.9941 - precision_2: 0.8064 - recall_2: 0.4965 - auc_2: 0.9542 - val_loss: 0.0635 - val_accuracy: 0.9934 - val_precision_2: 0.8723 - val_recall_2: 0.5146 - val_auc_2: 0.9673\n"
          ]
        }
      ],
      "source": [
        "LSTM_FastText_model_fit = LSTM_FastText_model.fit(X_new, Y_new, batch_size=batch_size2, epochs=num_epochs, validation_data=(X_new_val, Y_new_val), callbacks=[early])"
      ]
    },
    {
      "cell_type": "markdown",
      "metadata": {
        "id": "m4H9hU-tRWjP"
      },
      "source": [
        "### Evaluate the LSTM+fastText train and test score"
      ]
    },
    {
      "cell_type": "code",
      "execution_count": 84,
      "metadata": {
        "colab": {
          "base_uri": "https://localhost:8080/"
        },
        "id": "C1AnaLocT-kb",
        "outputId": "f8e85d6c-1b80-4549-f659-1a4930174512"
      },
      "outputs": [
        {
          "output_type": "stream",
          "name": "stdout",
          "text": [
            "561/561 [==============================] - 4s 7ms/step - loss: 0.0607 - accuracy: 0.9942 - precision_2: 0.8689 - recall_2: 0.5299 - auc_2: 0.9709\n",
            "Train Loss: 0.0607009194791317\n",
            "Train Accuracy: 0.994164764881134\n",
            "25/25 [==============================] - 1s 8ms/step - loss: 0.5236 - accuracy: 0.9748 - precision_2: 0.8966 - recall_2: 0.5305 - auc_2: 0.8617\n",
            "Test Loss: 0.523562490940094\n",
            "Test Accuracy: 0.9748155474662781\n"
          ]
        }
      ],
      "source": [
        "#train\n",
        "LSTM_FastText_train_score = LSTM_FastText_model.evaluate(X_new, Y_new, batch_size=batch_size2, verbose=1)\n",
        "print('Train Loss:', LSTM_FastText_train_score[0])\n",
        "print('Train Accuracy:', LSTM_FastText_train_score[1])\n",
        "\n",
        "#test\n",
        "LSTM_FastText_test_score = LSTM_FastText_model.evaluate(X_test, y_test, batch_size=batch_size2, verbose=1)\n",
        "print('Test Loss:', LSTM_FastText_test_score[0])\n",
        "print('Test Accuracy:', LSTM_FastText_test_score[1])"
      ]
    },
    {
      "cell_type": "markdown",
      "metadata": {
        "id": "I_Pv8LbDUb9o"
      },
      "source": [
        "### Plot Training & Validation Accuracy with the Loss values of the LSTM-fastText Model\n",
        "\n"
      ]
    },
    {
      "cell_type": "code",
      "execution_count": 85,
      "metadata": {
        "colab": {
          "base_uri": "https://localhost:8080/",
          "height": 1000
        },
        "id": "BRG6YLjrUgF3",
        "outputId": "8bc57f99-5c38-458b-9f39-b02511acaa15"
      },
      "outputs": [
        {
          "output_type": "display_data",
          "data": {
            "text/plain": [
              "<Figure size 800x550 with 1 Axes>"
            ],
            "image/png": "[encoded data removed]"
          },
          "metadata": {}
        },
        {
          "output_type": "display_data",
          "data": {
            "text/plain": [
              "<Figure size 800x550 with 1 Axes>"
            ],
            "image/png": "[encoded data removed]"
          },
          "metadata": {}
        }
      ],
      "source": [
        "### Plot Training & Validation Accuracy with the Loss values of the LSTM-Glove Model# Plot training & validation accuracy values\n",
        "plt.plot(LSTM_FastText_model_fit.history['accuracy'])\n",
        "plt.plot(LSTM_FastText_model_fit.history['val_accuracy'])\n",
        "plt.title('LSTM-FastText Model accuracy')\n",
        "plt.ylabel('Accuracy')\n",
        "plt.xlabel('Epoch')\n",
        "plt.legend(['Training Accuracy', 'Validation Accuracy'], loc='upper left')\n",
        "plt.show()\n",
        "\n",
        "# Plot training & validation loss values\n",
        "plt.plot(LSTM_FastText_model_fit.history['loss'])\n",
        "plt.plot(LSTM_FastText_model_fit.history['val_loss'])\n",
        "plt.title('LSTM-FastText Model loss')\n",
        "plt.ylabel('Loss')\n",
        "plt.xlabel('Epoch')\n",
        "plt.legend(['Training Loss', 'Validation Loss'], loc='lower right')\n",
        "plt.show()"
      ]
    },
    {
      "cell_type": "markdown",
      "metadata": {
        "id": "jtlndXcsU3iQ"
      },
      "source": [
        "## 4) Bidirecitional LSTM with fastText"
      ]
    },
    {
      "cell_type": "code",
      "execution_count": 86,
      "metadata": {
        "id": "7_S1Y6obU60I"
      },
      "outputs": [],
      "source": [
        "Bil_LSTM_FastText_model = Sequential([\n",
        "    Embedding(input_dim =fastText_embedding_matrix.shape[0], input_length=max_len, output_dim=fastText_embedding_matrix.shape[1],weights=[fastText_embedding_matrix], trainable=False),\n",
        "    SpatialDropout1D(0.5),\n",
        "    #Bidirectional layer will enable our model to predict a missing word in a sequence, \n",
        "    #So, using this feature will enable the model to look at the context on both the left and the right.\n",
        "    Bidirectional(LSTM(25, return_sequences=True)),\n",
        "    #**batch normalization layer** normalizes the activations of the previous layer at each batch, \n",
        "    #i.e. applies a transformation that maintains the mean activation close to 0 and the activation standard deviation close to 1. \n",
        "    BatchNormalization(),\n",
        "    Dropout(0.5),\n",
        "    GlobalMaxPool1D(),\n",
        "    Dense(50, activation = 'relu'),\n",
        "    Dense(6, activation = 'sigmoid')\n",
        "])\n",
        "\n",
        "\n",
        "Bil_LSTM_FastText_model.compile(loss='binary_crossentropy', optimizer=Adam(0.01), metrics=['accuracy',Precision(), Recall(), AUC()])"
      ]
    },
    {
      "cell_type": "markdown",
      "metadata": {
        "id": "6SU9rs9UVUAG"
      },
      "source": [
        "### Visualize the Orchestrated Bidirectional LSTM-FastText Model Architecture"
      ]
    },
    {
      "cell_type": "code",
      "execution_count": 87,
      "metadata": {
        "colab": {
          "base_uri": "https://localhost:8080/"
        },
        "id": "pmFWcfHZVnG6",
        "outputId": "67c6109e-6d45-43d7-d9a0-b9311f32e888"
      },
      "outputs": [
        {
          "output_type": "stream",
          "name": "stdout",
          "text": [
            "Model: \"sequential_3\"\n",
            "_________________________________________________________________\n",
            " Layer (type)                Output Shape              Param #   \n",
            "=================================================================\n",
            " embedding_3 (Embedding)     (None, 200, 300)          30000000  \n",
            "                                                                 \n",
            " spatial_dropout1d_3 (Spatia  (None, 200, 300)         0         \n",
            " lDropout1D)                                                     \n",
            "                                                                 \n",
            " bidirectional (Bidirectiona  (None, 200, 50)          65200     \n",
            " l)                                                              \n",
            "                                                                 \n",
            " batch_normalization_3 (Batc  (None, 200, 50)          200       \n",
            " hNormalization)                                                 \n",
            "                                                                 \n",
            " dropout_3 (Dropout)         (None, 200, 50)           0         \n",
            "                                                                 \n",
            " global_max_pooling1d_3 (Glo  (None, 50)               0         \n",
            " balMaxPooling1D)                                                \n",
            "                                                                 \n",
            " dense_6 (Dense)             (None, 50)                2550      \n",
            "                                                                 \n",
            " dense_7 (Dense)             (None, 6)                 306       \n",
            "                                                                 \n",
            "=================================================================\n",
            "Total params: 30,068,256\n",
            "Trainable params: 68,156\n",
            "Non-trainable params: 30,000,100\n",
            "_________________________________________________________________\n"
          ]
        }
      ],
      "source": [
        "Bil_LSTM_FastText_model.summary()\n"
      ]
    },
    {
      "cell_type": "code",
      "execution_count": 88,
      "metadata": {
        "colab": {
          "base_uri": "https://localhost:8080/"
        },
        "id": "f812aikmV_2x",
        "outputId": "78dbd197-1bcd-4131-e78b-146f19885700"
      },
      "outputs": [
        {
          "output_type": "stream",
          "name": "stdout",
          "text": [
            "Epoch 1/15\n",
            "561/561 [==============================] - 21s 31ms/step - loss: 0.1064 - accuracy: 0.9368 - precision_3: 0.7303 - recall_3: 0.2767 - auc_3: 0.8897 - val_loss: 0.1100 - val_accuracy: 0.9652 - val_precision_3: 0.9286 - val_recall_3: 0.3144 - val_auc_3: 0.9502\n",
            "Epoch 2/15\n",
            "561/561 [==============================] - 18s 32ms/step - loss: 0.0800 - accuracy: 0.9896 - precision_3: 0.7992 - recall_3: 0.4312 - auc_3: 0.9378 - val_loss: 0.1162 - val_accuracy: 0.9728 - val_precision_3: 0.8222 - val_recall_3: 0.5296 - val_auc_3: 0.9593\n",
            "Epoch 3/15\n",
            "561/561 [==============================] - 16s 28ms/step - loss: 0.0733 - accuracy: 0.9928 - precision_3: 0.8127 - recall_3: 0.4751 - auc_3: 0.9487 - val_loss: 0.0947 - val_accuracy: 0.9926 - val_precision_3: 0.8387 - val_recall_3: 0.5552 - val_auc_3: 0.9661\n",
            "Epoch 4/15\n",
            "561/561 [==============================] - 16s 29ms/step - loss: 0.0706 - accuracy: 0.9933 - precision_3: 0.8111 - recall_3: 0.4979 - auc_3: 0.9533 - val_loss: 0.0914 - val_accuracy: 0.9931 - val_precision_3: 0.8390 - val_recall_3: 0.5724 - val_auc_3: 0.9679\n",
            "Epoch 5/15\n",
            "561/561 [==============================] - 16s 28ms/step - loss: 0.0682 - accuracy: 0.9939 - precision_3: 0.8076 - recall_3: 0.5132 - auc_3: 0.9565 - val_loss: 0.0864 - val_accuracy: 0.9934 - val_precision_3: 0.8652 - val_recall_3: 0.5068 - val_auc_3: 0.9662\n",
            "Epoch 6/15\n",
            "561/561 [==============================] - 16s 28ms/step - loss: 0.0670 - accuracy: 0.9937 - precision_3: 0.8113 - recall_3: 0.5255 - auc_3: 0.9579 - val_loss: 0.0896 - val_accuracy: 0.9934 - val_precision_3: 0.7500 - val_recall_3: 0.6547 - val_auc_3: 0.9648\n",
            "Epoch 7/15\n",
            "561/561 [==============================] - 16s 29ms/step - loss: 0.0657 - accuracy: 0.9929 - precision_3: 0.8137 - recall_3: 0.5342 - auc_3: 0.9600 - val_loss: 0.0754 - val_accuracy: 0.9922 - val_precision_3: 0.8508 - val_recall_3: 0.5657 - val_auc_3: 0.9695\n",
            "Epoch 8/15\n",
            "561/561 [==============================] - 17s 31ms/step - loss: 0.0650 - accuracy: 0.9932 - precision_3: 0.8116 - recall_3: 0.5366 - auc_3: 0.9615 - val_loss: 0.0700 - val_accuracy: 0.9855 - val_precision_3: 0.8335 - val_recall_3: 0.5899 - val_auc_3: 0.9709\n",
            "Epoch 9/15\n",
            "561/561 [==============================] - 16s 29ms/step - loss: 0.0641 - accuracy: 0.9925 - precision_3: 0.8150 - recall_3: 0.5405 - auc_3: 0.9624 - val_loss: 0.0678 - val_accuracy: 0.9919 - val_precision_3: 0.8633 - val_recall_3: 0.5619 - val_auc_3: 0.9679\n",
            "Epoch 10/15\n",
            "561/561 [==============================] - 16s 29ms/step - loss: 0.0632 - accuracy: 0.9925 - precision_3: 0.8201 - recall_3: 0.5462 - auc_3: 0.9636 - val_loss: 0.0648 - val_accuracy: 0.9923 - val_precision_3: 0.8515 - val_recall_3: 0.5691 - val_auc_3: 0.9694\n",
            "Epoch 11/15\n",
            "561/561 [==============================] - 16s 29ms/step - loss: 0.0626 - accuracy: 0.9929 - precision_3: 0.8160 - recall_3: 0.5514 - auc_3: 0.9640 - val_loss: 0.0622 - val_accuracy: 0.9934 - val_precision_3: 0.8561 - val_recall_3: 0.5738 - val_auc_3: 0.9699\n",
            "Epoch 12/15\n",
            "561/561 [==============================] - 16s 29ms/step - loss: 0.0624 - accuracy: 0.9931 - precision_3: 0.8189 - recall_3: 0.5543 - auc_3: 0.9644 - val_loss: 0.0626 - val_accuracy: 0.9915 - val_precision_3: 0.8581 - val_recall_3: 0.5649 - val_auc_3: 0.9713\n",
            "Epoch 13/15\n",
            "561/561 [==============================] - 16s 29ms/step - loss: 0.0617 - accuracy: 0.9926 - precision_3: 0.8224 - recall_3: 0.5588 - auc_3: 0.9655 - val_loss: 0.0692 - val_accuracy: 0.9918 - val_precision_3: 0.8300 - val_recall_3: 0.5877 - val_auc_3: 0.9704\n",
            "Epoch 14/15\n",
            "561/561 [==============================] - 16s 29ms/step - loss: 0.0621 - accuracy: 0.9932 - precision_3: 0.8206 - recall_3: 0.5541 - auc_3: 0.9643 - val_loss: 0.0689 - val_accuracy: 0.9907 - val_precision_3: 0.7920 - val_recall_3: 0.6297 - val_auc_3: 0.9671\n",
            "Epoch 15/15\n",
            "561/561 [==============================] - 16s 28ms/step - loss: 0.0614 - accuracy: 0.9927 - precision_3: 0.8197 - recall_3: 0.5596 - auc_3: 0.9655 - val_loss: 0.0625 - val_accuracy: 0.9900 - val_precision_3: 0.8385 - val_recall_3: 0.6036 - val_auc_3: 0.9680\n"
          ]
        }
      ],
      "source": [
        "Bil_LSTM_FastText_model_fit = Bil_LSTM_FastText_model.fit(X_new, Y_new, batch_size=batch_size2, epochs=num_epochs, validation_data=(X_new_val, Y_new_val), callbacks=[early])"
      ]
    },
    {
      "cell_type": "markdown",
      "metadata": {
        "id": "sdg_Q-XaWDhp"
      },
      "source": [
        "### Evaluate the Bidirectional LSTM+FastText train and test score"
      ]
    },
    {
      "cell_type": "code",
      "execution_count": 89,
      "metadata": {
        "id": "0Xah0HB5WH41",
        "outputId": "dcd4e0ac-1f5f-4324-c25b-1d6c1a2cb335",
        "colab": {
          "base_uri": "https://localhost:8080/"
        }
      },
      "outputs": [
        {
          "output_type": "stream",
          "name": "stdout",
          "text": [
            "561/561 [==============================] - 7s 12ms/step - loss: 0.0588 - accuracy: 0.9913 - precision_3: 0.8374 - recall_3: 0.6103 - auc_3: 0.9751\n",
            "Train Loss: 0.05878765508532524\n",
            "Train Accuracy: 0.9912749528884888\n",
            "25/25 [==============================] - 1s 12ms/step - loss: 0.4570 - accuracy: 0.9710 - precision_3: 0.8823 - recall_3: 0.6039 - auc_3: 0.8850\n",
            "Test Loss: 0.45695680379867554\n",
            "Test Accuracy: 0.9709656834602356\n"
          ]
        }
      ],
      "source": [
        "#train\n",
        "Bil_LSTM_FastText_train_score = Bil_LSTM_FastText_model.evaluate(X_new, Y_new, batch_size=batch_size2, verbose=1)\n",
        "print('Train Loss:', Bil_LSTM_FastText_train_score[0])\n",
        "print('Train Accuracy:', Bil_LSTM_FastText_train_score[1])\n",
        "\n",
        "#test\n",
        "Bil_LSTM_FastText_test_score = Bil_LSTM_FastText_model.evaluate(X_test, y_test, batch_size=batch_size2, verbose=1)\n",
        "print('Test Loss:', Bil_LSTM_FastText_test_score[0])\n",
        "print('Test Accuracy:', Bil_LSTM_FastText_test_score[1])"
      ]
    },
    {
      "cell_type": "markdown",
      "metadata": {
        "id": "E5WmDgJXWWzj"
      },
      "source": [
        "### Plot Training & Validation Accuracy with the Loss values of the Bidirectional LSTM-fastText Model\n"
      ]
    },
    {
      "cell_type": "code",
      "execution_count": 90,
      "metadata": {
        "id": "rM5jshaPWbUB",
        "outputId": "4819355e-60b0-4722-be95-129fd300e972",
        "colab": {
          "base_uri": "https://localhost:8080/",
          "height": 1000
        }
      },
      "outputs": [
        {
          "output_type": "display_data",
          "data": {
            "text/plain": [
              "<Figure size 800x550 with 1 Axes>"
            ],
            "image/png": "[encoded data removed]"
          },
          "metadata": {}
        },
        {
          "output_type": "display_data",
          "data": {
            "text/plain": [
              "<Figure size 800x550 with 1 Axes>"
            ],
            "image/png": "[encoded data removed]"
          },
          "metadata": {}
        }
      ],
      "source": [
        "\n",
        "# Plot training & validation accuracy values\n",
        "plt.plot(Bil_LSTM_FastText_model_fit.history['accuracy'])\n",
        "plt.plot(Bil_LSTM_FastText_model_fit.history['val_accuracy'])\n",
        "plt.title('Bidirecitonal LSTM-fastText Model accuracy')\n",
        "plt.ylabel('Accuracy')\n",
        "plt.xlabel('Epoch')\n",
        "plt.legend(['Training Accuracy', 'Validation Accuracy'], loc='upper left')\n",
        "plt.show()\n",
        "\n",
        "# Plot training & validation loss values\n",
        "plt.plot(Bil_LSTM_FastText_model_fit.history['loss'])\n",
        "plt.plot(Bil_LSTM_FastText_model_fit.history['val_loss'])\n",
        "plt.title('Bidirecitonal LSTM-fastText Model loss')\n",
        "plt.ylabel('Loss')\n",
        "plt.xlabel('Epoch')\n",
        "plt.legend(['Training Loss', 'Validation Loss'], loc='lower right')\n",
        "plt.show()"
      ]
    },
    {
      "cell_type": "markdown",
      "metadata": {
        "id": "Bg7IhYxSWx5I"
      },
      "source": [
        "from tensorflow.keras.models import Model## 5) Gated Recurrent (GRU) with fastText"
      ]
    },
    {
      "cell_type": "code",
      "execution_count": 91,
      "metadata": {
        "id": "AcAdPzjQW1Lb",
        "colab": {
          "base_uri": "https://localhost:8080/"
        },
        "outputId": "03adfc37-4177-45fd-e2e4-e5bc09e73d3f"
      },
      "outputs": [
        {
          "output_type": "stream",
          "name": "stderr",
          "text": [
            "WARNING:tensorflow:Layer gru will not use cuDNN kernels since it doesn't meet the criteria. It will use a generic GPU kernel as fallback when running on GPU.\n",
            "/usr/local/lib/python3.10/dist-packages/keras/optimizers/legacy/adam.py:117: UserWarning: The `lr` argument is deprecated, use `learning_rate` instead.\n",
            "  super().__init__(name, **kwargs)\n"
          ]
        }
      ],
      "source": [
        "from tensorflow.keras.models import Model\n",
        "sequence_input = Input(shape=(max_len, ))\n",
        "model = Embedding(input_dim =fastText_embedding_matrix.shape[0], input_length=max_len, output_dim=fastText_embedding_matrix.shape[1],weights=[fastText_embedding_matrix], trainable=False)(sequence_input)\n",
        "model = SpatialDropout1D(0.2)(model)\n",
        "model = GRU(128, return_sequences=True,dropout=0.1,recurrent_dropout=0.1)(model)\n",
        "model = Conv1D(64, kernel_size = 3, padding = \"valid\", kernel_initializer = \"glorot_uniform\")(model)\n",
        "avg_pool = GlobalAveragePooling1D()(model)\n",
        "max_pool = GlobalMaxPooling1D()(model)\n",
        "model = concatenate([avg_pool, max_pool]) \n",
        "preds = Dense(6, activation=\"sigmoid\")(model)\n",
        "GRU_FastText_model = Model(sequence_input, preds)\n",
        "GRU_FastText_model.compile(loss='binary_crossentropy',optimizer=Adam(lr=1e-3),metrics=['accuracy',Precision(), Recall(), AUC()])"
      ]
    },
    {
      "cell_type": "markdown",
      "metadata": {
        "id": "K8OhrCPUW-xo"
      },
      "source": [
        "### Visualize the Orchestrated GRU+fastText MODEL Architecture"
      ]
    },
    {
      "cell_type": "code",
      "execution_count": 92,
      "metadata": {
        "id": "UYNzN1sfXCRi",
        "outputId": "935bdb64-637b-47a6-9eef-84555ebc175e",
        "colab": {
          "base_uri": "https://localhost:8080/"
        }
      },
      "outputs": [
        {
          "output_type": "stream",
          "name": "stdout",
          "text": [
            "Model: \"model\"\n",
            "__________________________________________________________________________________________________\n",
            " Layer (type)                   Output Shape         Param #     Connected to                     \n",
            "==================================================================================================\n",
            " input_1 (InputLayer)           [(None, 200)]        0           []                               \n",
            "                                                                                                  \n",
            " embedding_4 (Embedding)        (None, 200, 300)     30000000    ['input_1[0][0]']                \n",
            "                                                                                                  \n",
            " spatial_dropout1d_4 (SpatialDr  (None, 200, 300)    0           ['embedding_4[0][0]']            \n",
            " opout1D)                                                                                         \n",
            "                                                                                                  \n",
            " gru (GRU)                      (None, 200, 128)     165120      ['spatial_dropout1d_4[0][0]']    \n",
            "                                                                                                  \n",
            " conv1d_1 (Conv1D)              (None, 198, 64)      24640       ['gru[0][0]']                    \n",
            "                                                                                                  \n",
            " global_average_pooling1d (Glob  (None, 64)          0           ['conv1d_1[0][0]']               \n",
            " alAveragePooling1D)                                                                              \n",
            "                                                                                                  \n",
            " global_max_pooling1d_4 (Global  (None, 64)          0           ['conv1d_1[0][0]']               \n",
            " MaxPooling1D)                                                                                    \n",
            "                                                                                                  \n",
            " concatenate (Concatenate)      (None, 128)          0           ['global_average_pooling1d[0][0]'\n",
            "                                                                 , 'global_max_pooling1d_4[0][0]']\n",
            "                                                                                                  \n",
            " dense_8 (Dense)                (None, 6)            774         ['concatenate[0][0]']            \n",
            "                                                                                                  \n",
            "==================================================================================================\n",
            "Total params: 30,190,534\n",
            "Trainable params: 190,534\n",
            "Non-trainable params: 30,000,000\n",
            "__________________________________________________________________________________________________\n"
          ]
        }
      ],
      "source": [
        "GRU_FastText_model.summary()\n"
      ]
    },
    {
      "cell_type": "code",
      "execution_count": 93,
      "metadata": {
        "id": "h65F18Q-XZfm",
        "outputId": "e1869eda-a95c-41f6-9f4e-620f7fc7255d",
        "colab": {
          "base_uri": "https://localhost:8080/"
        }
      },
      "outputs": [
        {
          "output_type": "stream",
          "name": "stdout",
          "text": [
            "Epoch 1/3\n",
            "561/561 [==============================] - 422s 746ms/step - loss: 0.1071 - accuracy: 0.9418 - precision_4: 0.7791 - recall_4: 0.2382 - auc_4: 0.8850 - val_loss: 0.0769 - val_accuracy: 0.9925 - val_precision_4: 0.8511 - val_recall_4: 0.4323 - val_auc_4: 0.9467\n",
            "Epoch 2/3\n",
            "561/561 [==============================] - 415s 740ms/step - loss: 0.0722 - accuracy: 0.9876 - precision_4: 0.8250 - recall_4: 0.4856 - auc_4: 0.9508 - val_loss: 0.0651 - val_accuracy: 0.9925 - val_precision_4: 0.8446 - val_recall_4: 0.5349 - val_auc_4: 0.9639\n",
            "Epoch 3/3\n",
            "561/561 [==============================] - 420s 747ms/step - loss: 0.0638 - accuracy: 0.9884 - precision_4: 0.8265 - recall_4: 0.5460 - auc_4: 0.9631 - val_loss: 0.0600 - val_accuracy: 0.9932 - val_precision_4: 0.8471 - val_recall_4: 0.5685 - val_auc_4: 0.9691\n"
          ]
        }
      ],
      "source": [
        "GRU_FastText_model_fit = GRU_FastText_model.fit(X_new, Y_new, batch_size=batch_size2, epochs=3, validation_data=(X_new_val, Y_new_val), callbacks=[early])"
      ]
    },
    {
      "cell_type": "markdown",
      "metadata": {
        "id": "cxewQLfsXYAR"
      },
      "source": [
        "### Evaluate the GRU+FastText Model train and test score"
      ]
    },
    {
      "cell_type": "code",
      "execution_count": 94,
      "metadata": {
        "id": "fuZI8K2lXkoe",
        "outputId": "e8de454e-8bc7-435d-8a71-55b6fea6ba2b",
        "colab": {
          "base_uri": "https://localhost:8080/"
        }
      },
      "outputs": [
        {
          "output_type": "stream",
          "name": "stdout",
          "text": [
            "561/561 [==============================] - 35s 61ms/step - loss: 0.0556 - accuracy: 0.9939 - precision_4: 0.8537 - recall_4: 0.5861 - auc_4: 0.9734\n",
            "Train Loss: 0.055622827261686325\n",
            "Train Accuracy: 0.9938722848892212\n",
            "25/25 [==============================] - 2s 60ms/step - loss: 0.5132 - accuracy: 0.9726 - precision_4: 0.8861 - recall_4: 0.5723 - auc_4: 0.8864\n",
            "Test Loss: 0.5132328867912292\n",
            "Test Accuracy: 0.9725697636604309\n"
          ]
        }
      ],
      "source": [
        "#Train\n",
        "GRU_FastText_train_score = GRU_FastText_model.evaluate(X_new, Y_new, batch_size=batch_size2, verbose=1)\n",
        "print('Train Loss:', GRU_FastText_train_score[0])\n",
        "print('Train Accuracy:', GRU_FastText_train_score[1])\n",
        "\n",
        "#Test\n",
        "GRU_FastText_test_score = GRU_FastText_model.evaluate(X_test, y_test, batch_size=batch_size2, verbose=1)\n",
        "print('Test Loss:', GRU_FastText_test_score[0])\n",
        "print('Test Accuracy:', GRU_FastText_test_score[1])"
      ]
    },
    {
      "cell_type": "markdown",
      "metadata": {
        "id": "1MTH7L3hX1ou"
      },
      "source": [
        "### Plot Training & Validation Accuracy with the Loss values of the GRU+ FastText Model"
      ]
    },
    {
      "cell_type": "code",
      "execution_count": 95,
      "metadata": {
        "id": "AWGMZkRVX6y9",
        "outputId": "4c48de72-955f-4e7d-c91c-58a76cf13992",
        "colab": {
          "base_uri": "https://localhost:8080/",
          "height": 1000
        }
      },
      "outputs": [
        {
          "output_type": "display_data",
          "data": {
            "text/plain": [
              "<Figure size 800x550 with 1 Axes>"
            ],
            "image/png": "[encoded data removed]"
          },
          "metadata": {}
        },
        {
          "output_type": "display_data",
          "data": {
            "text/plain": [
              "<Figure size 800x550 with 1 Axes>"
            ],
            "image/png": "[encoded data removed]"
          },
          "metadata": {}
        }
      ],
      "source": [
        "# Plot training & validation accuracy values\n",
        "plt.plot(GRU_FastText_model_fit.history['accuracy'])\n",
        "plt.plot(GRU_FastText_model_fit.history['val_accuracy'])\n",
        "plt.title('Gated Recurrent Unit (GRU) with FastText Model accuracy')\n",
        "plt.ylabel('Accuracy')\n",
        "plt.xlabel('Epoch')\n",
        "plt.legend(['Training Accuracy', 'Validation Accuracy'], loc='upper left')\n",
        "plt.show()\n",
        "\n",
        "# Plot training & validation loss values\n",
        "plt.plot(GRU_FastText_model_fit.history['loss'])\n",
        "plt.plot(GRU_FastText_model_fit.history['val_loss'])\n",
        "plt.title('Bidirectional Gated Recurrent Unit (GRU) with FastText Model loss')\n",
        "plt.ylabel('Loss')\n",
        "plt.xlabel('Epoch')\n",
        "plt.legend(['Training Loss', 'Validation Loss'], loc='lower right')\n",
        "plt.show()"
      ]
    },
    {
      "cell_type": "code",
      "source": [
        "print(CNN_FastText_model_fit.history.keys())"
      ],
      "metadata": {
        "colab": {
          "base_uri": "https://localhost:8080/"
        },
        "id": "R1u4giHyxTwS",
        "outputId": "10475173-dd4d-4af3-f4e4-0ab4674fd413"
      },
      "execution_count": 105,
      "outputs": [
        {
          "output_type": "stream",
          "name": "stdout",
          "text": [
            "dict_keys(['loss', 'accuracy', 'precision', 'recall', 'auc', 'val_loss', 'val_accuracy', 'val_precision', 'val_recall', 'val_auc'])\n"
          ]
        }
      ]
    },
    {
      "cell_type": "markdown",
      "metadata": {
        "id": "db28Tpnvejiq"
      },
      "source": [
        "# Evaluation of Experiment With fastText Pre-trained Embedding"
      ]
    },
    {
      "cell_type": "markdown",
      "metadata": {
        "id": "oh7FUzQnZ7BJ"
      },
      "source": [
        "#### Computing the highest of the evaluation matrics (per model) "
      ]
    },
    {
      "cell_type": "code",
      "execution_count": 112,
      "metadata": {
        "id": "zK_Xn0hNAKJo",
        "outputId": "67c0e5f5-8cec-4227-b330-ae7be5077d8f",
        "colab": {
          "base_uri": "https://localhost:8080/",
          "height": 542
        }
      },
      "outputs": [
        {
          "output_type": "display_data",
          "data": {
            "text/html": [
              "<html>\n",
              "<head><meta charset=\"utf-8\" /></head>\n",
              "<body>\n",
              "    <div>            <script src=\"https://cdnjs.cloudflare.com/ajax/libs/mathjax/2.7.5/MathJax.js?config=TeX-AMS-MML_SVG\"></script><script type=\"text/javascript\">if (window.MathJax && window.MathJax.Hub && window.MathJax.Hub.Config) {window.MathJax.Hub.Config({SVG: {font: \"STIX-Web\"}});}</script>                <script type=\"text/javascript\">window.PlotlyConfig = {MathJaxConfig: 'local'};</script>\n",
              "        <script src=\"https://cdn.plot.ly/plotly-2.18.2.min.js\"></script>                <div id=\"6bd899a0-7deb-4ea4-9aef-ec2b2047496f\" class=\"plotly-graph-div\" style=\"height:525px; width:100%;\"></div>            <script type=\"text/javascript\">                                    window.PLOTLYENV=window.PLOTLYENV || {};                                    if (document.getElementById(\"6bd899a0-7deb-4ea4-9aef-ec2b2047496f\")) {                    Plotly.newPlot(                        \"6bd899a0-7deb-4ea4-9aef-ec2b2047496f\",                        [{\"cells\":{\"align\":[\"left\",\"left\",\"left\",\"left\",\"left\"],\"fill\":{\"color\":\"#EDFAFF\"},\"line\":{\"color\":\"#7D7F80\"},\"values\":[[\"CNN with fastText\",\"RNNs with fastText\",\"LSTM with fastText\",\" Bidirectional LSTM with fastText\",\"GRU with fastText\"],[0.145,0.143,0.108,0.106,0.107],[0.992,0.994,0.994,0.994,0.988],[0.806,0.809,0.814,0.822,0.827],[0.946,0.902,0.954,0.966,0.963],[0.465,0.283,0.496,0.56,0.546]]},\"header\":{\"align\":[\"left\",\"left\",\"left\",\"left\",\"left\"],\"fill\":{\"color\":\"#a1c3d1\"},\"line\":{\"color\":\"#7D7F80\"},\"values\":[\"Model\",\"Loss\",\"Accuracy\",\"Precision\",\"recall\",\"auroc\"]},\"type\":\"table\"}],                        {\"template\":{\"data\":{\"barpolar\":[{\"marker\":{\"line\":{\"color\":\"#E5ECF6\",\"width\":0.5},\"pattern\":{\"fillmode\":\"overlay\",\"size\":10,\"solidity\":0.2}},\"type\":\"barpolar\"}],\"bar\":[{\"error_x\":{\"color\":\"#2a3f5f\"},\"error_y\":{\"color\":\"#2a3f5f\"},\"marker\":{\"line\":{\"color\":\"#E5ECF6\",\"width\":0.5},\"pattern\":{\"fillmode\":\"overlay\",\"size\":10,\"solidity\":0.2}},\"type\":\"bar\"}],\"carpet\":[{\"aaxis\":{\"endlinecolor\":\"#2a3f5f\",\"gridcolor\":\"white\",\"linecolor\":\"white\",\"minorgridcolor\":\"white\",\"startlinecolor\":\"#2a3f5f\"},\"baxis\":{\"endlinecolor\":\"#2a3f5f\",\"gridcolor\":\"white\",\"linecolor\":\"white\",\"minorgridcolor\":\"white\",\"startlinecolor\":\"#2a3f5f\"},\"type\":\"carpet\"}],\"choropleth\":[{\"colorbar\":{\"outlinewidth\":0,\"ticks\":\"\"},\"type\":\"choropleth\"}],\"contourcarpet\":[{\"colorbar\":{\"outlinewidth\":0,\"ticks\":\"\"},\"type\":\"contourcarpet\"}],\"contour\":[{\"colorbar\":{\"outlinewidth\":0,\"ticks\":\"\"},\"colorscale\":[[0.0,\"#0d0887\"],[0.1111111111111111,\"#46039f\"],[0.2222222222222222,\"#7201a8\"],[0.3333333333333333,\"#9c179e\"],[0.4444444444444444,\"#bd3786\"],[0.5555555555555556,\"#d8576b\"],[0.6666666666666666,\"#ed7953\"],[0.7777777777777778,\"#fb9f3a\"],[0.8888888888888888,\"#fdca26\"],[1.0,\"#f0f921\"]],\"type\":\"contour\"}],\"heatmapgl\":[{\"colorbar\":{\"outlinewidth\":0,\"ticks\":\"\"},\"colorscale\":[[0.0,\"#0d0887\"],[0.1111111111111111,\"#46039f\"],[0.2222222222222222,\"#7201a8\"],[0.3333333333333333,\"#9c179e\"],[0.4444444444444444,\"#bd3786\"],[0.5555555555555556,\"#d8576b\"],[0.6666666666666666,\"#ed7953\"],[0.7777777777777778,\"#fb9f3a\"],[0.8888888888888888,\"#fdca26\"],[1.0,\"#f0f921\"]],\"type\":\"heatmapgl\"}],\"heatmap\":[{\"colorbar\":{\"outlinewidth\":0,\"ticks\":\"\"},\"colorscale\":[[0.0,\"#0d0887\"],[0.1111111111111111,\"#46039f\"],[0.2222222222222222,\"#7201a8\"],[0.3333333333333333,\"#9c179e\"],[0.4444444444444444,\"#bd3786\"],[0.5555555555555556,\"#d8576b\"],[0.6666666666666666,\"#ed7953\"],[0.7777777777777778,\"#fb9f3a\"],[0.8888888888888888,\"#fdca26\"],[1.0,\"#f0f921\"]],\"type\":\"heatmap\"}],\"histogram2dcontour\":[{\"colorbar\":{\"outlinewidth\":0,\"ticks\":\"\"},\"colorscale\":[[0.0,\"#0d0887\"],[0.1111111111111111,\"#46039f\"],[0.2222222222222222,\"#7201a8\"],[0.3333333333333333,\"#9c179e\"],[0.4444444444444444,\"#bd3786\"],[0.5555555555555556,\"#d8576b\"],[0.6666666666666666,\"#ed7953\"],[0.7777777777777778,\"#fb9f3a\"],[0.8888888888888888,\"#fdca26\"],[1.0,\"#f0f921\"]],\"type\":\"histogram2dcontour\"}],\"histogram2d\":[{\"colorbar\":{\"outlinewidth\":0,\"ticks\":\"\"},\"colorscale\":[[0.0,\"#0d0887\"],[0.1111111111111111,\"#46039f\"],[0.2222222222222222,\"#7201a8\"],[0.3333333333333333,\"#9c179e\"],[0.4444444444444444,\"#bd3786\"],[0.5555555555555556,\"#d8576b\"],[0.6666666666666666,\"#ed7953\"],[0.7777777777777778,\"#fb9f3a\"],[0.8888888888888888,\"#fdca26\"],[1.0,\"#f0f921\"]],\"type\":\"histogram2d\"}],\"histogram\":[{\"marker\":{\"pattern\":{\"fillmode\":\"overlay\",\"size\":10,\"solidity\":0.2}},\"type\":\"histogram\"}],\"mesh3d\":[{\"colorbar\":{\"outlinewidth\":0,\"ticks\":\"\"},\"type\":\"mesh3d\"}],\"parcoords\":[{\"line\":{\"colorbar\":{\"outlinewidth\":0,\"ticks\":\"\"}},\"type\":\"parcoords\"}],\"pie\":[{\"automargin\":true,\"type\":\"pie\"}],\"scatter3d\":[{\"line\":{\"colorbar\":{\"outlinewidth\":0,\"ticks\":\"\"}},\"marker\":{\"colorbar\":{\"outlinewidth\":0,\"ticks\":\"\"}},\"type\":\"scatter3d\"}],\"scattercarpet\":[{\"marker\":{\"colorbar\":{\"outlinewidth\":0,\"ticks\":\"\"}},\"type\":\"scattercarpet\"}],\"scattergeo\":[{\"marker\":{\"colorbar\":{\"outlinewidth\":0,\"ticks\":\"\"}},\"type\":\"scattergeo\"}],\"scattergl\":[{\"marker\":{\"colorbar\":{\"outlinewidth\":0,\"ticks\":\"\"}},\"type\":\"scattergl\"}],\"scattermapbox\":[{\"marker\":{\"colorbar\":{\"outlinewidth\":0,\"ticks\":\"\"}},\"type\":\"scattermapbox\"}],\"scatterpolargl\":[{\"marker\":{\"colorbar\":{\"outlinewidth\":0,\"ticks\":\"\"}},\"type\":\"scatterpolargl\"}],\"scatterpolar\":[{\"marker\":{\"colorbar\":{\"outlinewidth\":0,\"ticks\":\"\"}},\"type\":\"scatterpolar\"}],\"scatter\":[{\"fillpattern\":{\"fillmode\":\"overlay\",\"size\":10,\"solidity\":0.2},\"type\":\"scatter\"}],\"scatterternary\":[{\"marker\":{\"colorbar\":{\"outlinewidth\":0,\"ticks\":\"\"}},\"type\":\"scatterternary\"}],\"surface\":[{\"colorbar\":{\"outlinewidth\":0,\"ticks\":\"\"},\"colorscale\":[[0.0,\"#0d0887\"],[0.1111111111111111,\"#46039f\"],[0.2222222222222222,\"#7201a8\"],[0.3333333333333333,\"#9c179e\"],[0.4444444444444444,\"#bd3786\"],[0.5555555555555556,\"#d8576b\"],[0.6666666666666666,\"#ed7953\"],[0.7777777777777778,\"#fb9f3a\"],[0.8888888888888888,\"#fdca26\"],[1.0,\"#f0f921\"]],\"type\":\"surface\"}],\"table\":[{\"cells\":{\"fill\":{\"color\":\"#EBF0F8\"},\"line\":{\"color\":\"white\"}},\"header\":{\"fill\":{\"color\":\"#C8D4E3\"},\"line\":{\"color\":\"white\"}},\"type\":\"table\"}]},\"layout\":{\"annotationdefaults\":{\"arrowcolor\":\"#2a3f5f\",\"arrowhead\":0,\"arrowwidth\":1},\"autotypenumbers\":\"strict\",\"coloraxis\":{\"colorbar\":{\"outlinewidth\":0,\"ticks\":\"\"}},\"colorscale\":{\"diverging\":[[0,\"#8e0152\"],[0.1,\"#c51b7d\"],[0.2,\"#de77ae\"],[0.3,\"#f1b6da\"],[0.4,\"#fde0ef\"],[0.5,\"#f7f7f7\"],[0.6,\"#e6f5d0\"],[0.7,\"#b8e186\"],[0.8,\"#7fbc41\"],[0.9,\"#4d9221\"],[1,\"#276419\"]],\"sequential\":[[0.0,\"#0d0887\"],[0.1111111111111111,\"#46039f\"],[0.2222222222222222,\"#7201a8\"],[0.3333333333333333,\"#9c179e\"],[0.4444444444444444,\"#bd3786\"],[0.5555555555555556,\"#d8576b\"],[0.6666666666666666,\"#ed7953\"],[0.7777777777777778,\"#fb9f3a\"],[0.8888888888888888,\"#fdca26\"],[1.0,\"#f0f921\"]],\"sequentialminus\":[[0.0,\"#0d0887\"],[0.1111111111111111,\"#46039f\"],[0.2222222222222222,\"#7201a8\"],[0.3333333333333333,\"#9c179e\"],[0.4444444444444444,\"#bd3786\"],[0.5555555555555556,\"#d8576b\"],[0.6666666666666666,\"#ed7953\"],[0.7777777777777778,\"#fb9f3a\"],[0.8888888888888888,\"#fdca26\"],[1.0,\"#f0f921\"]]},\"colorway\":[\"#636efa\",\"#EF553B\",\"#00cc96\",\"#ab63fa\",\"#FFA15A\",\"#19d3f3\",\"#FF6692\",\"#B6E880\",\"#FF97FF\",\"#FECB52\"],\"font\":{\"color\":\"#2a3f5f\"},\"geo\":{\"bgcolor\":\"white\",\"lakecolor\":\"white\",\"landcolor\":\"#E5ECF6\",\"showlakes\":true,\"showland\":true,\"subunitcolor\":\"white\"},\"hoverlabel\":{\"align\":\"left\"},\"hovermode\":\"closest\",\"mapbox\":{\"style\":\"light\"},\"paper_bgcolor\":\"white\",\"plot_bgcolor\":\"#E5ECF6\",\"polar\":{\"angularaxis\":{\"gridcolor\":\"white\",\"linecolor\":\"white\",\"ticks\":\"\"},\"bgcolor\":\"#E5ECF6\",\"radialaxis\":{\"gridcolor\":\"white\",\"linecolor\":\"white\",\"ticks\":\"\"}},\"scene\":{\"xaxis\":{\"backgroundcolor\":\"#E5ECF6\",\"gridcolor\":\"white\",\"gridwidth\":2,\"linecolor\":\"white\",\"showbackground\":true,\"ticks\":\"\",\"zerolinecolor\":\"white\"},\"yaxis\":{\"backgroundcolor\":\"#E5ECF6\",\"gridcolor\":\"white\",\"gridwidth\":2,\"linecolor\":\"white\",\"showbackground\":true,\"ticks\":\"\",\"zerolinecolor\":\"white\"},\"zaxis\":{\"backgroundcolor\":\"#E5ECF6\",\"gridcolor\":\"white\",\"gridwidth\":2,\"linecolor\":\"white\",\"showbackground\":true,\"ticks\":\"\",\"zerolinecolor\":\"white\"}},\"shapedefaults\":{\"line\":{\"color\":\"#2a3f5f\"}},\"ternary\":{\"aaxis\":{\"gridcolor\":\"white\",\"linecolor\":\"white\",\"ticks\":\"\"},\"baxis\":{\"gridcolor\":\"white\",\"linecolor\":\"white\",\"ticks\":\"\"},\"bgcolor\":\"#E5ECF6\",\"caxis\":{\"gridcolor\":\"white\",\"linecolor\":\"white\",\"ticks\":\"\"}},\"title\":{\"x\":0.05},\"xaxis\":{\"automargin\":true,\"gridcolor\":\"white\",\"linecolor\":\"white\",\"ticks\":\"\",\"title\":{\"standoff\":15},\"zerolinecolor\":\"white\",\"zerolinewidth\":2},\"yaxis\":{\"automargin\":true,\"gridcolor\":\"white\",\"linecolor\":\"white\",\"ticks\":\"\",\"title\":{\"standoff\":15},\"zerolinecolor\":\"white\",\"zerolinewidth\":2}}}},                        {\"responsive\": true}                    ).then(function(){\n",
              "                            \n",
              "var gd = document.getElementById('6bd899a0-7deb-4ea4-9aef-ec2b2047496f');\n",
              "var x = new MutationObserver(function (mutations, observer) {{\n",
              "        var display = window.getComputedStyle(gd).display;\n",
              "        if (!display || display === 'none') {{\n",
              "            console.log([gd, 'removed!']);\n",
              "            Plotly.purge(gd);\n",
              "            observer.disconnect();\n",
              "        }}\n",
              "}});\n",
              "\n",
              "// Listen for the removal of the full notebook cells\n",
              "var notebookContainer = gd.closest('#notebook-container');\n",
              "if (notebookContainer) {{\n",
              "    x.observe(notebookContainer, {childList: true});\n",
              "}}\n",
              "\n",
              "// Listen for the clearing of the current output cell\n",
              "var outputEl = gd.closest('.output');\n",
              "if (outputEl) {{\n",
              "    x.observe(outputEl, {childList: true});\n",
              "}}\n",
              "\n",
              "                        })                };                            </script>        </div>\n",
              "</body>\n",
              "</html>"
            ]
          },
          "metadata": {}
        }
      ],
      "source": [
        "trace = go.Table(\n",
        "    header=dict(values=['Model', 'Loss', 'Accuracy',  'Precision', 'recall', 'auroc'],\n",
        "                line = dict(color='#7D7F80'),\n",
        "                fill = dict(color='#a1c3d1'),\n",
        "                align = ['left'] * 5),\n",
        "    cells=dict(values=[['CNN with fastText', 'RNNs with fastText', 'LSTM with fastText', ' Bidirectional LSTM with fastText', 'GRU with fastText'],\n",
        "                       [\n",
        "                        #Loss Evaluation\n",
        "                        round(np.max(CNN_FastText_model_fit.history['loss']), 3), round(np.max(RNN_FastText_model_fit.history['loss']), 3), \n",
        "                        round(np.max(LSTM_FastText_model_fit.history['loss']), 3), round(np.max(Bil_LSTM_FastText_model_fit.history['loss']), 3), round(np.max(GRU_FastText_model_fit.history['loss']), 3)],\n",
        "                        \n",
        "                        #Accuracy Evaluation\n",
        "                        [round(np.max(CNN_FastText_model_fit.history['accuracy']), 3), round(np.max(RNN_FastText_model_fit.history['accuracy']), 3), \n",
        "                        round(np.max(LSTM_FastText_model_fit.history['accuracy']), 3), round(np.max(Bil_LSTM_FastText_model_fit.history['accuracy']), 3), round(np.max(GRU_FastText_model_fit.history['accuracy']), 3)],\n",
        "               \n",
        "                        \n",
        "\t\t\t\t\t\t\n",
        "                       \n",
        "\t\t\t\t\t\t             \n",
        "                        #Precision Evaluation precision\n",
        "                        [round(np.max(CNN_FastText_model_fit.history['precision']), 3), round(np.max(RNN_FastText_model_fit.history[ 'precision_1']), 3), \n",
        "                        round(np.max(LSTM_FastText_model_fit.history[ 'precision_2']), 3), round(np.max(Bil_LSTM_FastText_model_fit.history[ 'precision_3']), 3), round(np.max(GRU_FastText_model_fit.history['precision_4']), 3)],\n",
        "\t\t\t\t\t\t\n",
        "                        #ROC AUC Evaluation auroc\n",
        "                        [round(np.max(CNN_FastText_model_fit.history['auc']), 3), round(np.max(RNN_FastText_model_fit.history['auc_1']), 3), \n",
        "                        round(np.max(LSTM_FastText_model_fit.history['auc_2']), 3), round(np.max(Bil_LSTM_FastText_model_fit.history['auc_3']), 3), round(np.max(GRU_FastText_model_fit.history['auc_4']), 3)],\n",
        "                       \n",
        "                        #Recall Evaluation\n",
        "                        [round(np.max(CNN_FastText_model_fit.history[ 'recall']), 3), round(np.max(RNN_FastText_model_fit.history['recall_1']), 3), \n",
        "                        round(np.max(LSTM_FastText_model_fit.history['recall_2']), 3), round(np.max(Bil_LSTM_FastText_model_fit.history['recall_3']), 3), round(np.max(GRU_FastText_model_fit.history['recall_4']), 3)]],\n",
        "    line = dict(color='#7D7F80'),\n",
        "    fill = dict(color='#EDFAFF'),\n",
        "    align = ['left'] * 5))\n",
        "\n",
        "layout = dict(width=800, height=400)\n",
        "data = [trace]\n",
        "fig = dict(data=data, layout=layout)\n",
        "py.iplot(data, filename = 'fastText_trained_embedding_with the max of the evaluation matrics (per model) _table')"
      ]
    },
    {
      "cell_type": "markdown",
      "metadata": {
        "id": "2VzWx7OAbc9k"
      },
      "source": [
        "### Score Confusion Table"
      ]
    },
    {
      "cell_type": "code",
      "execution_count": 113,
      "metadata": {
        "id": "SrC8BJWCbe4_",
        "outputId": "8af15173-4430-4b77-8247-89c692fa76f6",
        "colab": {
          "base_uri": "https://localhost:8080/"
        }
      },
      "outputs": [
        {
          "output_type": "stream",
          "name": "stdout",
          "text": [
            "                                                  Training Accuracy  \\\n",
            "Model                                                                 \n",
            "Convolutional Neural Network (CNN) with fastText           0.992159   \n",
            "Convolutional Neural Network (CNN) with fastText           0.992159   \n",
            "Recurrent Neural Networks (RNNs) with fastText             0.994039   \n",
            "LSTM with fastText                                         0.994248   \n",
            "Bidirectional LSTM with fastText                           0.993858   \n",
            "GRU with fastText                                          0.988364   \n",
            "\n",
            "                                                  Validation Accuracy  \\\n",
            "Model                                                                   \n",
            "Convolutional Neural Network (CNN) with fastText              0.99342   \n",
            "Convolutional Neural Network (CNN) with fastText              0.99342   \n",
            "Recurrent Neural Networks (RNNs) with fastText                0.99342   \n",
            "LSTM with fastText                                            0.99342   \n",
            "Bidirectional LSTM with fastText                              0.99342   \n",
            "GRU with fastText                                             0.99317   \n",
            "\n",
            "                                                  Testing Accuracy  \n",
            "Model                                                               \n",
            "Convolutional Neural Network (CNN) with fastText          0.975136  \n",
            "Convolutional Neural Network (CNN) with fastText          0.975136  \n",
            "Recurrent Neural Networks (RNNs) with fastText            0.964389  \n",
            "LSTM with fastText                                        0.974816  \n",
            "Bidirectional LSTM with fastText                          0.970966  \n",
            "GRU with fastText                                         0.972570  \n"
          ]
        },
        {
          "output_type": "stream",
          "name": "stderr",
          "text": [
            "<ipython-input-113-bad32a5e02eb>:33: FutureWarning:\n",
            "\n",
            "The frame.append method is deprecated and will be removed from pandas in a future version. Use pandas.concat instead.\n",
            "\n"
          ]
        }
      ],
      "source": [
        "# concat all training, validation and testing accuracy scores\n",
        "\n",
        "CNN_FastText_Accuracy = ['Convolutional Neural Network (CNN) with fastText', \n",
        "                np.max(CNN_FastText_model_fit.history['accuracy']), \n",
        "                np.max(CNN_FastText_model_fit.history['val_accuracy']), \n",
        "                CNN_FastText_test_score[1]]\n",
        "\n",
        "RNN_FastText_Accuracy = ['Recurrent Neural Networks (RNNs) with fastText', \n",
        "                np.max(RNN_FastText_model_fit.history['accuracy']), \n",
        "                np.max(RNN_FastText_model_fit.history['val_accuracy']), \n",
        "                RNN_FastText_test_score[1]]\n",
        "\n",
        "LSTM_FastText_Accuracy = ['LSTM with fastText', \n",
        "                  np.max(LSTM_FastText_model_fit.history['accuracy']), \n",
        "                  np.max(LSTM_FastText_model_fit.history['val_accuracy']), \n",
        "                  LSTM_FastText_test_score[1]]\n",
        "\n",
        "Bidirectional_LSTM_FastText_Accuracy = ['Bidirectional LSTM with fastText', \n",
        "                    np.max(Bil_LSTM_FastText_model_fit.history['accuracy']), \n",
        "                    np.max(Bil_LSTM_FastText_model_fit.history['val_accuracy']), \n",
        "                    Bil_LSTM_FastText_test_score[1]]\n",
        "\n",
        "GRU_FastText_Accuracy = ['GRU with fastText', \n",
        "                    np.max(GRU_FastText_model_fit.history['accuracy']), \n",
        "                    np.max(GRU_FastText_model_fit.history['val_accuracy']), \n",
        "                    GRU_FastText_test_score[1]]\n",
        "\n",
        "\n",
        "\n",
        "# create dataframe\n",
        "experimentalResult = pd.DataFrame([CNN_FastText_Accuracy])\n",
        "# append all other scores\n",
        "experimentalResult = experimentalResult.append([CNN_FastText_Accuracy, RNN_FastText_Accuracy, LSTM_FastText_Accuracy, Bidirectional_LSTM_FastText_Accuracy, \n",
        "                                                GRU_FastText_Accuracy])\n",
        "\n",
        "\n",
        "# beautify the new dataframe\n",
        "experimentalResult.columns = ['Model', 'Training Accuracy', 'Validation Accuracy', 'Testing Accuracy']\n",
        "experimentalResult.set_index(['Model'], inplace=True)\n",
        "experimentalResult\n",
        "print(experimentalResult)"
      ]
    }
  ],
  "metadata": {
    "accelerator": "GPU",
    "colab": {
      "provenance": [],
      "gpuType": "T4"
    },
    "gpuClass": "standard",
    "kernelspec": {
      "display_name": "Python 3 (ipykernel)",
      "language": "python",
      "name": "python3"
    },
    "language_info": {
      "codemirror_mode": {
        "name": "ipython",
        "version": 3
      },
      "file_extension": ".py",
      "mimetype": "text/x-python",
      "name": "python",
      "nbconvert_exporter": "python",
      "pygments_lexer": "ipython3",
      "version": "3.10.9"
    }
  },
  "nbformat": 4,
  "nbformat_minor": 0
}